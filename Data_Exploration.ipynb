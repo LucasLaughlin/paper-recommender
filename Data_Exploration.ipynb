{
  "cells": [
    {
      "cell_type": "markdown",
      "metadata": {
        "id": "109d6f23"
      },
      "source": [
        "## Initial Setup\n"
      ],
      "id": "109d6f23"
    },
    {
      "cell_type": "code",
      "execution_count": null,
      "metadata": {
        "colab": {
          "base_uri": "https://localhost:8080/"
        },
        "id": "xVvZTvEJLO0-",
        "outputId": "ccc71ab6-4006-40fa-ecfb-1c31a201d85b"
      },
      "outputs": [
        {
          "output_type": "stream",
          "name": "stdout",
          "text": [
            "Drive already mounted at /content/drive; to attempt to forcibly remount, call drive.mount(\"/content/drive\", force_remount=True).\n"
          ]
        }
      ],
      "source": [
        "from google.colab import drive\n",
        "drive.mount('/content/drive')"
      ],
      "id": "xVvZTvEJLO0-"
    },
    {
      "cell_type": "code",
      "source": [
        "gpu_info = !nvidia-smi # to find GPU memory => use 90 to 95% of memory. minibatch size to power of 2\n",
        "gpu_info = '\\n'.join(gpu_info)\n",
        "if gpu_info.find('failed') >= 0:\n",
        "  print('Not connected to a GPU')\n",
        "else:\n",
        "  print(gpu_info)"
      ],
      "metadata": {
        "id": "f5IAX1aF4Nnt",
        "colab": {
          "base_uri": "https://localhost:8080/"
        },
        "outputId": "2b660d88-eda8-411f-c70c-dc477b625f6d"
      },
      "id": "f5IAX1aF4Nnt",
      "execution_count": null,
      "outputs": [
        {
          "output_type": "stream",
          "name": "stdout",
          "text": [
            "Not connected to a GPU\n"
          ]
        }
      ]
    },
    {
      "cell_type": "code",
      "source": [
        "from psutil import virtual_memory\n",
        "ram_gb = virtual_memory().total / 1e9\n",
        "print('Your runtime has {:.1f} gigabytes of available RAM\\n'.format(ram_gb))\n",
        "\n",
        "if ram_gb < 20:\n",
        "  print('Not using a high-RAM runtime')\n",
        "else:\n",
        "  print('You are using a high-RAM runtime!')"
      ],
      "metadata": {
        "colab": {
          "base_uri": "https://localhost:8080/"
        },
        "id": "adX7XmbIJ0aC",
        "outputId": "8a7526d3-3c4e-453d-c03f-42654326073c"
      },
      "id": "adX7XmbIJ0aC",
      "execution_count": null,
      "outputs": [
        {
          "output_type": "stream",
          "name": "stdout",
          "text": [
            "Your runtime has 27.3 gigabytes of available RAM\n",
            "\n",
            "You are using a high-RAM runtime!\n"
          ]
        }
      ]
    },
    {
      "cell_type": "code",
      "execution_count": null,
      "metadata": {
        "id": "o-n0LX18L49m",
        "colab": {
          "base_uri": "https://localhost:8080/"
        },
        "outputId": "26c6d59e-6224-4f37-fb85-9ee0c16e7bb2"
      },
      "outputs": [
        {
          "output_type": "stream",
          "name": "stdout",
          "text": [
            "Requirement already satisfied: fsspec>=0.3.3 in /usr/local/lib/python3.7/dist-packages (2022.3.0)\n"
          ]
        }
      ],
      "source": [
        "!pip install 'fsspec>=0.3.3'"
      ],
      "id": "o-n0LX18L49m"
    },
    {
      "cell_type": "code",
      "execution_count": null,
      "metadata": {
        "id": "d00c9996"
      },
      "outputs": [],
      "source": [
        "import dask.bag as db\n",
        "import logging\n",
        "logger = logging.getLogger(\"spacy\")\n",
        "logger.setLevel(logging.ERROR)\n",
        "\n",
        "import json\n",
        "import pandas as pd\n",
        "import numpy as np\n",
        "from scipy import sparse \n",
        "from pandas.api.types import CategoricalDtype \n",
        "from tqdm import tqdm, trange\n",
        "from IPython.utils import io\n",
        "import spacy\n",
        "from spacy.lang.en.stop_words import STOP_WORDS \n",
        "import re\n",
        "\n",
        "import string\n",
        "from sklearn.neighbors import NearestNeighbors\n",
        "from sklearn.feature_extraction.text import TfidfVectorizer\n",
        "from sklearn.decomposition import PCA\n",
        "from sklearn.cluster import KMeans\n",
        "import matplotlib.pyplot as plt\n",
        "from sklearn.pipeline import Pipeline\n",
        "from scipy.spatial.distance import cdist\n",
        "from sklearn.manifold import TSNE\n",
        "from sklearn import metrics\n",
        "import seaborn as sns\n",
        "import plotly.express as px\n",
        "import torch.nn as nn\n",
        "import torch \n",
        "import altair as alt\n",
        "from torch.utils.data import Dataset, DataLoader\n",
        "from torch.optim import Adam\n",
        "from collections import Counter\n",
        "from sklearn.preprocessing import normalize\n",
        "import random\n",
        "import pickle\n",
        "import scipy\n",
        "import os\n",
        "import requests\n",
        "%matplotlib inline"
      ],
      "id": "d00c9996"
    },
    {
      "cell_type": "markdown",
      "metadata": {
        "id": "ufJUpR16NZC7"
      },
      "source": [
        "## Load Initial Data and Trim (trimmed_arxiv_docs.pickle) "
      ],
      "id": "ufJUpR16NZC7"
    },
    {
      "cell_type": "markdown",
      "source": [
        "### Load Raw JSON data"
      ],
      "metadata": {
        "id": "md-UykYvlG74"
      },
      "id": "md-UykYvlG74"
    },
    {
      "cell_type": "markdown",
      "metadata": {
        "id": "qwkbZmlPGg26"
      },
      "source": [
        "1.   Use `dask.bag.read_text()` to map each line of the input file to a list. (https://docs.dask.org/en/stable/bag-creation.html)\n",
        "2.   Use `.map(json.loads)` to apply `json.loads` to each entry line, converting it to a python native dictionary  "
      ],
      "id": "qwkbZmlPGg26"
    },
    {
      "cell_type": "code",
      "execution_count": null,
      "metadata": {
        "id": "05a04d7c"
      },
      "outputs": [],
      "source": [
        "docs = db.read_text(\"./drive/MyDrive/Colab Notebooks/CE/data/arxiv-metadata-oai-snapshot.json\").map(json.loads)"
      ],
      "id": "05a04d7c"
    },
    {
      "cell_type": "code",
      "execution_count": null,
      "metadata": {
        "id": "bf10b740",
        "colab": {
          "base_uri": "https://localhost:8080/"
        },
        "outputId": "51991efd-414c-4bdb-b09b-2d80a7bb0ddb"
      },
      "outputs": [
        {
          "output_type": "stream",
          "name": "stdout",
          "text": [
            "Total Documents: 2018208\n",
            "\n",
            "Example Document: \n"
          ]
        },
        {
          "output_type": "execute_result",
          "data": {
            "text/plain": [
              "({'abstract': '  A fully differential calculation in perturbative quantum chromodynamics is\\npresented for the production of massive photon pairs at hadron colliders. All\\nnext-to-leading order perturbative contributions from quark-antiquark,\\ngluon-(anti)quark, and gluon-gluon subprocesses are included, as well as\\nall-orders resummation of initial-state gluon radiation valid at\\nnext-to-next-to-leading logarithmic accuracy. The region of phase space is\\nspecified in which the calculation is most reliable. Good agreement is\\ndemonstrated with data from the Fermilab Tevatron, and predictions are made for\\nmore detailed tests with CDF and DO data. Predictions are shown for\\ndistributions of diphoton pairs produced at the energy of the Large Hadron\\nCollider (LHC). Distributions of the diphoton pairs from the decay of a Higgs\\nboson are contrasted with those produced from QCD processes at the LHC, showing\\nthat enhanced sensitivity to the signal can be obtained with judicious\\nselection of events.\\n',\n",
              "  'authors': \"C. Bal\\\\'azs, E. L. Berger, P. M. Nadolsky, C.-P. Yuan\",\n",
              "  'authors_parsed': [['Balázs', 'C.', ''],\n",
              "   ['Berger', 'E. L.', ''],\n",
              "   ['Nadolsky', 'P. M.', ''],\n",
              "   ['Yuan', 'C. -P.', '']],\n",
              "  'categories': 'hep-ph',\n",
              "  'comments': '37 pages, 15 figures; published version',\n",
              "  'doi': '10.1103/PhysRevD.76.013009',\n",
              "  'id': '0704.0001',\n",
              "  'journal-ref': 'Phys.Rev.D76:013009,2007',\n",
              "  'license': None,\n",
              "  'report-no': 'ANL-HEP-PR-07-12',\n",
              "  'submitter': 'Pavel Nadolsky',\n",
              "  'title': 'Calculation of prompt diphoton production cross sections at Tevatron and\\n  LHC energies',\n",
              "  'update_date': '2008-11-26',\n",
              "  'versions': [{'created': 'Mon, 2 Apr 2007 19:18:42 GMT', 'version': 'v1'},\n",
              "   {'created': 'Tue, 24 Jul 2007 20:10:27 GMT', 'version': 'v2'}]},)"
            ]
          },
          "metadata": {},
          "execution_count": 7
        }
      ],
      "source": [
        "print(\"Total Documents: \" + str(docs.count().compute()))\n",
        "print(\"\\nExample Document: \")\n",
        "docs.take(1)"
      ],
      "id": "bf10b740"
    },
    {
      "cell_type": "code",
      "source": [
        "[ x[1] + \" \" + x[0] for x in docs.take(1)[0]['authors_parsed']]"
      ],
      "metadata": {
        "colab": {
          "base_uri": "https://localhost:8080/"
        },
        "id": "WvP8s38aOjIP",
        "outputId": "9e2d9eb0-9565-4972-84b4-bacf5185da94"
      },
      "id": "WvP8s38aOjIP",
      "execution_count": null,
      "outputs": [
        {
          "output_type": "execute_result",
          "data": {
            "text/plain": [
              "['C. Balázs', 'E. L. Berger', 'P. M. Nadolsky', 'C. -P. Yuan']"
            ]
          },
          "metadata": {},
          "execution_count": 7
        }
      ]
    },
    {
      "cell_type": "code",
      "source": [
        "[ \" \".join(x[:2]) for x in docs.take(1)[0]['authors_parsed']]"
      ],
      "metadata": {
        "colab": {
          "base_uri": "https://localhost:8080/"
        },
        "id": "3fmGs-uyWph8",
        "outputId": "ee1fbb1b-9db3-465b-ed69-432af57c5b63"
      },
      "id": "3fmGs-uyWph8",
      "execution_count": null,
      "outputs": [
        {
          "output_type": "execute_result",
          "data": {
            "text/plain": [
              "['Balázs C.', 'Berger E. L.', 'Nadolsky P. M.', 'Yuan C. -P.']"
            ]
          },
          "metadata": {},
          "execution_count": 9
        }
      ]
    },
    {
      "cell_type": "markdown",
      "source": [
        "### Sample by year"
      ],
      "metadata": {
        "id": "-vz3OQ5XlL0A"
      },
      "id": "-vz3OQ5XlL0A"
    },
    {
      "cell_type": "markdown",
      "metadata": {
        "id": "ZEeJ0STUIs9B"
      },
      "source": [
        "To access the year from `'versions': [{'created': 'Mon, 2 Apr 2007 19:18:42 GMT', 'version': 'v1'}, ...]`, we do the following:\n",
        "\n",
        "\n",
        "1.   `get_latest_version` is a lambda function to access the `created` value of the most recent version which is always last so `[-1]` indexing is used.\n",
        "2.   We can then split the date by spaces and access the `[3]` index in the array to get the year by itself."
      ],
      "id": "ZEeJ0STUIs9B"
    },
    {
      "cell_type": "code",
      "execution_count": null,
      "metadata": {
        "id": "17715053",
        "colab": {
          "base_uri": "https://localhost:8080/"
        },
        "outputId": "b9b731ad-47eb-4674-a791-ad22a592ee8d"
      },
      "outputs": [
        {
          "output_type": "stream",
          "name": "stdout",
          "text": [
            "Full date:\n",
            "Tue, 24 Jul 2007 20:10:27 GMT\n",
            "\n",
            "Year alone:\n",
            "2007\n"
          ]
        }
      ],
      "source": [
        "get_latest_version = lambda x: x['versions'][-1]['created']\n",
        "print(\"Full date:\\n\" + get_latest_version(docs.take(1)[0])) # .take returns tuple with 1 value: Need [0] index \n",
        "print(\"\\nYear alone:\\n\" + get_latest_version(docs.take(1)[0]).split(' ')[3])"
      ],
      "id": "17715053"
    },
    {
      "cell_type": "markdown",
      "metadata": {
        "id": "ZLOBirr9LmNU"
      },
      "source": [
        "Here, a trimmed dataset is created for prototyping based on the most recent version's year:\n",
        "\n",
        "\n",
        "1.   The `trim` takes the data points from eacch document entry that we want. We also spluit the `categories` string into an array.\n",
        "2.   The entire docs list is filtered by `get_latest_version`, defined above, to only take documents with a date greater than 2018. The trim funcion is then mapped onto the output to reduce the number of predictors. `.compute` converts a 'lazy Dask collection` into the in-memory equivalent. In this case thats a Dask array into a NumPy array.\n",
        "3.   The array is converted into data frame stored in `docs_df`.\n",
        "4.   The data frame is saved as a pickle file for easier start up in future run times useing `to_pickle`.\n"
      ],
      "id": "ZLOBirr9LmNU"
    },
    {
      "cell_type": "code",
      "execution_count": null,
      "metadata": {
        "id": "3ea6dfc1"
      },
      "outputs": [],
      "source": [
        "trim = lambda x: {'id': x['id'],\n",
        "                  'authors': x['authors'],\n",
        "                  'title': x['title'],\n",
        "                  'doi': x['doi'],\n",
        "                  'category':x['categories'].split(' '),\n",
        "                  'abstract':x['abstract'],}\n",
        "\n",
        "docs_df = (docs.filter(lambda x: int(get_latest_version(x).split(' ')[3]) > 2018)\n",
        "           .map(trim).\n",
        "           compute())\n",
        "\n",
        "docs_df = pd.DataFrame(docs_df)"
      ],
      "id": "3ea6dfc1"
    },
    {
      "cell_type": "markdown",
      "source": [
        "### Sample by doi"
      ],
      "metadata": {
        "id": "PndO_Is1G-By"
      },
      "id": "PndO_Is1G-By"
    },
    {
      "cell_type": "markdown",
      "source": [
        "Gets all documents that contain a doi. Also includes udpated emthod for getting authors from authors_parsed."
      ],
      "metadata": {
        "id": "FUH-hIK_ZTd5"
      },
      "id": "FUH-hIK_ZTd5"
    },
    {
      "cell_type": "code",
      "source": [
        "trim = lambda x: {'id': x['id'],\n",
        "                  'authors': [ \" \".join(y[:2]) for y in x['authors_parsed']],\n",
        "                  'title': x['title'],\n",
        "                  'doi': x['doi'],\n",
        "                  'category':x['categories'].split(' '),\n",
        "                  'abstract':x['abstract'],}\n",
        "\n",
        "docs_df = (docs.filter(lambda x: x['doi'] != None)\n",
        "           .map(trim).\n",
        "           compute())\n",
        "\n",
        "docs_df = pd.DataFrame(docs_df)"
      ],
      "metadata": {
        "id": "UJTF4IddG8e1"
      },
      "id": "UJTF4IddG8e1",
      "execution_count": null,
      "outputs": []
    },
    {
      "cell_type": "code",
      "source": [
        "len(docs_df)"
      ],
      "metadata": {
        "colab": {
          "base_uri": "https://localhost:8080/"
        },
        "id": "Xsy60DyOLY_F",
        "outputId": "9be0effd-be92-489a-e92a-28e71a3edf01"
      },
      "id": "Xsy60DyOLY_F",
      "execution_count": null,
      "outputs": [
        {
          "output_type": "execute_result",
          "data": {
            "text/plain": [
              "1026475"
            ]
          },
          "metadata": {},
          "execution_count": 15
        }
      ]
    },
    {
      "cell_type": "code",
      "source": [
        "docs_df.head(2)"
      ],
      "metadata": {
        "colab": {
          "base_uri": "https://localhost:8080/",
          "height": 107
        },
        "id": "0fCYBRDiLkB2",
        "outputId": "afef2916-0070-4d36-9f16-cc270b682687"
      },
      "id": "0fCYBRDiLkB2",
      "execution_count": null,
      "outputs": [
        {
          "output_type": "execute_result",
          "data": {
            "text/plain": [
              "          id                                            authors  \\\n",
              "0  0704.0001  [Balázs C., Berger E. L., Nadolsky P. M., Yuan...   \n",
              "1  0704.0006                            [Pong Y. H., Law C. K.]   \n",
              "\n",
              "                                               title  \\\n",
              "0  Calculation of prompt diphoton production cros...   \n",
              "1  Bosonic characters of atomic Cooper pairs acro...   \n",
              "\n",
              "                          doi             category  \\\n",
              "0  10.1103/PhysRevD.76.013009             [hep-ph]   \n",
              "1  10.1103/PhysRevA.75.043613  [cond-mat.mes-hall]   \n",
              "\n",
              "                                            abstract  \n",
              "0    A fully differential calculation in perturba...  \n",
              "1    We study the two-particle wave function of p...  "
            ],
            "text/html": [
              "\n",
              "  <div id=\"df-51d6b382-e555-4474-9694-3a58536a3bf9\">\n",
              "    <div class=\"colab-df-container\">\n",
              "      <div>\n",
              "<style scoped>\n",
              "    .dataframe tbody tr th:only-of-type {\n",
              "        vertical-align: middle;\n",
              "    }\n",
              "\n",
              "    .dataframe tbody tr th {\n",
              "        vertical-align: top;\n",
              "    }\n",
              "\n",
              "    .dataframe thead th {\n",
              "        text-align: right;\n",
              "    }\n",
              "</style>\n",
              "<table border=\"1\" class=\"dataframe\">\n",
              "  <thead>\n",
              "    <tr style=\"text-align: right;\">\n",
              "      <th></th>\n",
              "      <th>id</th>\n",
              "      <th>authors</th>\n",
              "      <th>title</th>\n",
              "      <th>doi</th>\n",
              "      <th>category</th>\n",
              "      <th>abstract</th>\n",
              "    </tr>\n",
              "  </thead>\n",
              "  <tbody>\n",
              "    <tr>\n",
              "      <th>0</th>\n",
              "      <td>0704.0001</td>\n",
              "      <td>[Balázs C., Berger E. L., Nadolsky P. M., Yuan...</td>\n",
              "      <td>Calculation of prompt diphoton production cros...</td>\n",
              "      <td>10.1103/PhysRevD.76.013009</td>\n",
              "      <td>[hep-ph]</td>\n",
              "      <td>A fully differential calculation in perturba...</td>\n",
              "    </tr>\n",
              "    <tr>\n",
              "      <th>1</th>\n",
              "      <td>0704.0006</td>\n",
              "      <td>[Pong Y. H., Law C. K.]</td>\n",
              "      <td>Bosonic characters of atomic Cooper pairs acro...</td>\n",
              "      <td>10.1103/PhysRevA.75.043613</td>\n",
              "      <td>[cond-mat.mes-hall]</td>\n",
              "      <td>We study the two-particle wave function of p...</td>\n",
              "    </tr>\n",
              "  </tbody>\n",
              "</table>\n",
              "</div>\n",
              "      <button class=\"colab-df-convert\" onclick=\"convertToInteractive('df-51d6b382-e555-4474-9694-3a58536a3bf9')\"\n",
              "              title=\"Convert this dataframe to an interactive table.\"\n",
              "              style=\"display:none;\">\n",
              "        \n",
              "  <svg xmlns=\"http://www.w3.org/2000/svg\" height=\"24px\"viewBox=\"0 0 24 24\"\n",
              "       width=\"24px\">\n",
              "    <path d=\"M0 0h24v24H0V0z\" fill=\"none\"/>\n",
              "    <path d=\"M18.56 5.44l.94 2.06.94-2.06 2.06-.94-2.06-.94-.94-2.06-.94 2.06-2.06.94zm-11 1L8.5 8.5l.94-2.06 2.06-.94-2.06-.94L8.5 2.5l-.94 2.06-2.06.94zm10 10l.94 2.06.94-2.06 2.06-.94-2.06-.94-.94-2.06-.94 2.06-2.06.94z\"/><path d=\"M17.41 7.96l-1.37-1.37c-.4-.4-.92-.59-1.43-.59-.52 0-1.04.2-1.43.59L10.3 9.45l-7.72 7.72c-.78.78-.78 2.05 0 2.83L4 21.41c.39.39.9.59 1.41.59.51 0 1.02-.2 1.41-.59l7.78-7.78 2.81-2.81c.8-.78.8-2.07 0-2.86zM5.41 20L4 18.59l7.72-7.72 1.47 1.35L5.41 20z\"/>\n",
              "  </svg>\n",
              "      </button>\n",
              "      \n",
              "  <style>\n",
              "    .colab-df-container {\n",
              "      display:flex;\n",
              "      flex-wrap:wrap;\n",
              "      gap: 12px;\n",
              "    }\n",
              "\n",
              "    .colab-df-convert {\n",
              "      background-color: #E8F0FE;\n",
              "      border: none;\n",
              "      border-radius: 50%;\n",
              "      cursor: pointer;\n",
              "      display: none;\n",
              "      fill: #1967D2;\n",
              "      height: 32px;\n",
              "      padding: 0 0 0 0;\n",
              "      width: 32px;\n",
              "    }\n",
              "\n",
              "    .colab-df-convert:hover {\n",
              "      background-color: #E2EBFA;\n",
              "      box-shadow: 0px 1px 2px rgba(60, 64, 67, 0.3), 0px 1px 3px 1px rgba(60, 64, 67, 0.15);\n",
              "      fill: #174EA6;\n",
              "    }\n",
              "\n",
              "    [theme=dark] .colab-df-convert {\n",
              "      background-color: #3B4455;\n",
              "      fill: #D2E3FC;\n",
              "    }\n",
              "\n",
              "    [theme=dark] .colab-df-convert:hover {\n",
              "      background-color: #434B5C;\n",
              "      box-shadow: 0px 1px 3px 1px rgba(0, 0, 0, 0.15);\n",
              "      filter: drop-shadow(0px 1px 2px rgba(0, 0, 0, 0.3));\n",
              "      fill: #FFFFFF;\n",
              "    }\n",
              "  </style>\n",
              "\n",
              "      <script>\n",
              "        const buttonEl =\n",
              "          document.querySelector('#df-51d6b382-e555-4474-9694-3a58536a3bf9 button.colab-df-convert');\n",
              "        buttonEl.style.display =\n",
              "          google.colab.kernel.accessAllowed ? 'block' : 'none';\n",
              "\n",
              "        async function convertToInteractive(key) {\n",
              "          const element = document.querySelector('#df-51d6b382-e555-4474-9694-3a58536a3bf9');\n",
              "          const dataTable =\n",
              "            await google.colab.kernel.invokeFunction('convertToInteractive',\n",
              "                                                     [key], {});\n",
              "          if (!dataTable) return;\n",
              "\n",
              "          const docLinkHtml = 'Like what you see? Visit the ' +\n",
              "            '<a target=\"_blank\" href=https://colab.research.google.com/notebooks/data_table.ipynb>data table notebook</a>'\n",
              "            + ' to learn more about interactive tables.';\n",
              "          element.innerHTML = '';\n",
              "          dataTable['output_type'] = 'display_data';\n",
              "          await google.colab.output.renderOutput(dataTable, element);\n",
              "          const docLink = document.createElement('div');\n",
              "          docLink.innerHTML = docLinkHtml;\n",
              "          element.appendChild(docLink);\n",
              "        }\n",
              "      </script>\n",
              "    </div>\n",
              "  </div>\n",
              "  "
            ]
          },
          "metadata": {},
          "execution_count": 14
        }
      ]
    },
    {
      "cell_type": "markdown",
      "source": [
        "### Save to \"trimmed_arxiv_docs.pickle\""
      ],
      "metadata": {
        "id": "cTMimqMilYEI"
      },
      "id": "cTMimqMilYEI"
    },
    {
      "cell_type": "code",
      "source": [
        "docs_df.to_pickle(\"./drive/MyDrive/Colab Notebooks/CE/data/hasDOI/trimmed_docs.pickle\")"
      ],
      "metadata": {
        "id": "BHxXWuw2EE5V"
      },
      "id": "BHxXWuw2EE5V",
      "execution_count": null,
      "outputs": []
    },
    {
      "cell_type": "markdown",
      "metadata": {
        "id": "xAIH0P3MNffo"
      },
      "source": [
        "## Data Cleaning (trimmed_cleaned_arxiv_docs.pickle)\n"
      ],
      "id": "xAIH0P3MNffo"
    },
    {
      "cell_type": "code",
      "source": [
        "df = docs_df"
      ],
      "metadata": {
        "id": "UFTgftGQrUci"
      },
      "id": "UFTgftGQrUci",
      "execution_count": null,
      "outputs": []
    },
    {
      "cell_type": "markdown",
      "source": [
        "### Load trimmed_arxiv_docs.pickle"
      ],
      "metadata": {
        "id": "PDELG9m4lvyL"
      },
      "id": "PDELG9m4lvyL"
    },
    {
      "cell_type": "markdown",
      "source": [
        "Here, the saved csv file is loaded into the dataframe, `df`."
      ],
      "metadata": {
        "id": "n6qaiKi9lzwH"
      },
      "id": "n6qaiKi9lzwH"
    },
    {
      "cell_type": "code",
      "source": [
        "df = pd.read_pickle(\"./drive/MyDrive/Colab Notebooks/CE/data/trimmed_arxiv_docs.pickle\")\n",
        "print(\"number of entries: \"+ str(len(df)))\n",
        "df.head(3)"
      ],
      "metadata": {
        "colab": {
          "base_uri": "https://localhost:8080/",
          "height": 254
        },
        "id": "r9BqQ9Wvlxrt",
        "outputId": "6bce08bd-a43a-4fd6-f8a3-9c51e6165bce"
      },
      "id": "r9BqQ9Wvlxrt",
      "execution_count": null,
      "outputs": [
        {
          "output_type": "stream",
          "name": "stdout",
          "text": [
            "number of entries: 581895\n"
          ]
        },
        {
          "output_type": "execute_result",
          "data": {
            "text/plain": [
              "          id                                   authors  \\\n",
              "0  0704.0479                                 T.Geisser   \n",
              "1  0704.1445   Yasha Gindikin and Vladimir A. Sablikov   \n",
              "2  0705.0033  Nikos Frantzikinakis, Randall McCutcheon   \n",
              "\n",
              "                                               title  \\\n",
              "0               The affine part of the Picard scheme   \n",
              "1  Deformed Wigner crystal in a one-dimensional q...   \n",
              "2                         Ergodic Theory: Recurrence   \n",
              "\n",
              "                          doi                              category  \\\n",
              "0                        None                    [math.AG, math.KT]   \n",
              "1  10.1103/PhysRevB.76.045122  [cond-mat.str-el, cond-mat.mes-hall]   \n",
              "2                        None                             [math.DS]   \n",
              "\n",
              "                                            abstract  \n",
              "0    We describe the maximal torus and maximal un...  \n",
              "1    The spatial Fourier spectrum of the electron...  \n",
              "2    We survey the impact of the Poincar\\'e recur...  "
            ],
            "text/html": [
              "\n",
              "  <div id=\"df-68f77c26-f2c2-49c2-ad9d-966fd647db7f\">\n",
              "    <div class=\"colab-df-container\">\n",
              "      <div>\n",
              "<style scoped>\n",
              "    .dataframe tbody tr th:only-of-type {\n",
              "        vertical-align: middle;\n",
              "    }\n",
              "\n",
              "    .dataframe tbody tr th {\n",
              "        vertical-align: top;\n",
              "    }\n",
              "\n",
              "    .dataframe thead th {\n",
              "        text-align: right;\n",
              "    }\n",
              "</style>\n",
              "<table border=\"1\" class=\"dataframe\">\n",
              "  <thead>\n",
              "    <tr style=\"text-align: right;\">\n",
              "      <th></th>\n",
              "      <th>id</th>\n",
              "      <th>authors</th>\n",
              "      <th>title</th>\n",
              "      <th>doi</th>\n",
              "      <th>category</th>\n",
              "      <th>abstract</th>\n",
              "    </tr>\n",
              "  </thead>\n",
              "  <tbody>\n",
              "    <tr>\n",
              "      <th>0</th>\n",
              "      <td>0704.0479</td>\n",
              "      <td>T.Geisser</td>\n",
              "      <td>The affine part of the Picard scheme</td>\n",
              "      <td>None</td>\n",
              "      <td>[math.AG, math.KT]</td>\n",
              "      <td>We describe the maximal torus and maximal un...</td>\n",
              "    </tr>\n",
              "    <tr>\n",
              "      <th>1</th>\n",
              "      <td>0704.1445</td>\n",
              "      <td>Yasha Gindikin and Vladimir A. Sablikov</td>\n",
              "      <td>Deformed Wigner crystal in a one-dimensional q...</td>\n",
              "      <td>10.1103/PhysRevB.76.045122</td>\n",
              "      <td>[cond-mat.str-el, cond-mat.mes-hall]</td>\n",
              "      <td>The spatial Fourier spectrum of the electron...</td>\n",
              "    </tr>\n",
              "    <tr>\n",
              "      <th>2</th>\n",
              "      <td>0705.0033</td>\n",
              "      <td>Nikos Frantzikinakis, Randall McCutcheon</td>\n",
              "      <td>Ergodic Theory: Recurrence</td>\n",
              "      <td>None</td>\n",
              "      <td>[math.DS]</td>\n",
              "      <td>We survey the impact of the Poincar\\'e recur...</td>\n",
              "    </tr>\n",
              "  </tbody>\n",
              "</table>\n",
              "</div>\n",
              "      <button class=\"colab-df-convert\" onclick=\"convertToInteractive('df-68f77c26-f2c2-49c2-ad9d-966fd647db7f')\"\n",
              "              title=\"Convert this dataframe to an interactive table.\"\n",
              "              style=\"display:none;\">\n",
              "        \n",
              "  <svg xmlns=\"http://www.w3.org/2000/svg\" height=\"24px\"viewBox=\"0 0 24 24\"\n",
              "       width=\"24px\">\n",
              "    <path d=\"M0 0h24v24H0V0z\" fill=\"none\"/>\n",
              "    <path d=\"M18.56 5.44l.94 2.06.94-2.06 2.06-.94-2.06-.94-.94-2.06-.94 2.06-2.06.94zm-11 1L8.5 8.5l.94-2.06 2.06-.94-2.06-.94L8.5 2.5l-.94 2.06-2.06.94zm10 10l.94 2.06.94-2.06 2.06-.94-2.06-.94-.94-2.06-.94 2.06-2.06.94z\"/><path d=\"M17.41 7.96l-1.37-1.37c-.4-.4-.92-.59-1.43-.59-.52 0-1.04.2-1.43.59L10.3 9.45l-7.72 7.72c-.78.78-.78 2.05 0 2.83L4 21.41c.39.39.9.59 1.41.59.51 0 1.02-.2 1.41-.59l7.78-7.78 2.81-2.81c.8-.78.8-2.07 0-2.86zM5.41 20L4 18.59l7.72-7.72 1.47 1.35L5.41 20z\"/>\n",
              "  </svg>\n",
              "      </button>\n",
              "      \n",
              "  <style>\n",
              "    .colab-df-container {\n",
              "      display:flex;\n",
              "      flex-wrap:wrap;\n",
              "      gap: 12px;\n",
              "    }\n",
              "\n",
              "    .colab-df-convert {\n",
              "      background-color: #E8F0FE;\n",
              "      border: none;\n",
              "      border-radius: 50%;\n",
              "      cursor: pointer;\n",
              "      display: none;\n",
              "      fill: #1967D2;\n",
              "      height: 32px;\n",
              "      padding: 0 0 0 0;\n",
              "      width: 32px;\n",
              "    }\n",
              "\n",
              "    .colab-df-convert:hover {\n",
              "      background-color: #E2EBFA;\n",
              "      box-shadow: 0px 1px 2px rgba(60, 64, 67, 0.3), 0px 1px 3px 1px rgba(60, 64, 67, 0.15);\n",
              "      fill: #174EA6;\n",
              "    }\n",
              "\n",
              "    [theme=dark] .colab-df-convert {\n",
              "      background-color: #3B4455;\n",
              "      fill: #D2E3FC;\n",
              "    }\n",
              "\n",
              "    [theme=dark] .colab-df-convert:hover {\n",
              "      background-color: #434B5C;\n",
              "      box-shadow: 0px 1px 3px 1px rgba(0, 0, 0, 0.15);\n",
              "      filter: drop-shadow(0px 1px 2px rgba(0, 0, 0, 0.3));\n",
              "      fill: #FFFFFF;\n",
              "    }\n",
              "  </style>\n",
              "\n",
              "      <script>\n",
              "        const buttonEl =\n",
              "          document.querySelector('#df-68f77c26-f2c2-49c2-ad9d-966fd647db7f button.colab-df-convert');\n",
              "        buttonEl.style.display =\n",
              "          google.colab.kernel.accessAllowed ? 'block' : 'none';\n",
              "\n",
              "        async function convertToInteractive(key) {\n",
              "          const element = document.querySelector('#df-68f77c26-f2c2-49c2-ad9d-966fd647db7f');\n",
              "          const dataTable =\n",
              "            await google.colab.kernel.invokeFunction('convertToInteractive',\n",
              "                                                     [key], {});\n",
              "          if (!dataTable) return;\n",
              "\n",
              "          const docLinkHtml = 'Like what you see? Visit the ' +\n",
              "            '<a target=\"_blank\" href=https://colab.research.google.com/notebooks/data_table.ipynb>data table notebook</a>'\n",
              "            + ' to learn more about interactive tables.';\n",
              "          element.innerHTML = '';\n",
              "          dataTable['output_type'] = 'display_data';\n",
              "          await google.colab.output.renderOutput(dataTable, element);\n",
              "          const docLink = document.createElement('div');\n",
              "          docLink.innerHTML = docLinkHtml;\n",
              "          element.appendChild(docLink);\n",
              "        }\n",
              "      </script>\n",
              "    </div>\n",
              "  </div>\n",
              "  "
            ]
          },
          "metadata": {},
          "execution_count": 24
        }
      ]
    },
    {
      "cell_type": "markdown",
      "metadata": {
        "id": "PK-tPbNEOqM3"
      },
      "source": [
        "### Summarize Raw Trimmed Data\n"
      ],
      "id": "PK-tPbNEOqM3"
    },
    {
      "cell_type": "code",
      "execution_count": null,
      "metadata": {
        "colab": {
          "base_uri": "https://localhost:8080/"
        },
        "id": "bb0906e8",
        "outputId": "72d83a9b-5521-4f55-94f9-532bdb635f57"
      },
      "outputs": [
        {
          "output_type": "stream",
          "name": "stdout",
          "text": [
            "Shape: (1026475, 6)\n",
            "\n",
            "<class 'pandas.core.frame.DataFrame'>\n",
            "RangeIndex: 1026475 entries, 0 to 1026474\n",
            "Data columns (total 6 columns):\n",
            " #   Column    Non-Null Count    Dtype \n",
            "---  ------    --------------    ----- \n",
            " 0   id        1026475 non-null  object\n",
            " 1   authors   1026475 non-null  object\n",
            " 2   title     1026475 non-null  object\n",
            " 3   doi       1026475 non-null  object\n",
            " 4   category  1026475 non-null  object\n",
            " 5   abstract  1026475 non-null  object\n",
            "dtypes: object(6)\n",
            "memory usage: 47.0+ MB\n"
          ]
        }
      ],
      "source": [
        "print(\"Shape: \" + str(df.shape) + \"\\n\")\n",
        "\n",
        "df.info()"
      ],
      "id": "bb0906e8"
    },
    {
      "cell_type": "markdown",
      "metadata": {
        "id": "UnXlTAfOPKt3"
      },
      "source": [
        "### Abstract Word Count\n",
        "A lambda function can be applied to the `abstract` column of each entry to count the total number of words in the abstract and then saved in `abstract_word_count`."
      ],
      "id": "UnXlTAfOPKt3"
    },
    {
      "cell_type": "code",
      "execution_count": null,
      "metadata": {
        "colab": {
          "base_uri": "https://localhost:8080/",
          "height": 202
        },
        "id": "250d0538",
        "outputId": "6a90dfda-f024-4b63-e848-0b196028307d"
      },
      "outputs": [
        {
          "output_type": "execute_result",
          "data": {
            "text/plain": [
              "          id                                            authors  \\\n",
              "0  0704.0001  [Balázs C., Berger E. L., Nadolsky P. M., Yuan...   \n",
              "1  0704.0006                            [Pong Y. H., Law C. K.]   \n",
              "\n",
              "                                               title  \\\n",
              "0  Calculation of prompt diphoton production cros...   \n",
              "1  Bosonic characters of atomic Cooper pairs acro...   \n",
              "\n",
              "                          doi             category  \\\n",
              "0  10.1103/PhysRevD.76.013009             [hep-ph]   \n",
              "1  10.1103/PhysRevA.75.043613  [cond-mat.mes-hall]   \n",
              "\n",
              "                                            abstract  abstract_word_count  \n",
              "0    A fully differential calculation in perturba...                  140  \n",
              "1    We study the two-particle wave function of p...                  143  "
            ],
            "text/html": [
              "\n",
              "  <div id=\"df-8e5ca2d4-c929-4fa3-bd55-8fa43b47cc6d\">\n",
              "    <div class=\"colab-df-container\">\n",
              "      <div>\n",
              "<style scoped>\n",
              "    .dataframe tbody tr th:only-of-type {\n",
              "        vertical-align: middle;\n",
              "    }\n",
              "\n",
              "    .dataframe tbody tr th {\n",
              "        vertical-align: top;\n",
              "    }\n",
              "\n",
              "    .dataframe thead th {\n",
              "        text-align: right;\n",
              "    }\n",
              "</style>\n",
              "<table border=\"1\" class=\"dataframe\">\n",
              "  <thead>\n",
              "    <tr style=\"text-align: right;\">\n",
              "      <th></th>\n",
              "      <th>id</th>\n",
              "      <th>authors</th>\n",
              "      <th>title</th>\n",
              "      <th>doi</th>\n",
              "      <th>category</th>\n",
              "      <th>abstract</th>\n",
              "      <th>abstract_word_count</th>\n",
              "    </tr>\n",
              "  </thead>\n",
              "  <tbody>\n",
              "    <tr>\n",
              "      <th>0</th>\n",
              "      <td>0704.0001</td>\n",
              "      <td>[Balázs C., Berger E. L., Nadolsky P. M., Yuan...</td>\n",
              "      <td>Calculation of prompt diphoton production cros...</td>\n",
              "      <td>10.1103/PhysRevD.76.013009</td>\n",
              "      <td>[hep-ph]</td>\n",
              "      <td>A fully differential calculation in perturba...</td>\n",
              "      <td>140</td>\n",
              "    </tr>\n",
              "    <tr>\n",
              "      <th>1</th>\n",
              "      <td>0704.0006</td>\n",
              "      <td>[Pong Y. H., Law C. K.]</td>\n",
              "      <td>Bosonic characters of atomic Cooper pairs acro...</td>\n",
              "      <td>10.1103/PhysRevA.75.043613</td>\n",
              "      <td>[cond-mat.mes-hall]</td>\n",
              "      <td>We study the two-particle wave function of p...</td>\n",
              "      <td>143</td>\n",
              "    </tr>\n",
              "  </tbody>\n",
              "</table>\n",
              "</div>\n",
              "      <button class=\"colab-df-convert\" onclick=\"convertToInteractive('df-8e5ca2d4-c929-4fa3-bd55-8fa43b47cc6d')\"\n",
              "              title=\"Convert this dataframe to an interactive table.\"\n",
              "              style=\"display:none;\">\n",
              "        \n",
              "  <svg xmlns=\"http://www.w3.org/2000/svg\" height=\"24px\"viewBox=\"0 0 24 24\"\n",
              "       width=\"24px\">\n",
              "    <path d=\"M0 0h24v24H0V0z\" fill=\"none\"/>\n",
              "    <path d=\"M18.56 5.44l.94 2.06.94-2.06 2.06-.94-2.06-.94-.94-2.06-.94 2.06-2.06.94zm-11 1L8.5 8.5l.94-2.06 2.06-.94-2.06-.94L8.5 2.5l-.94 2.06-2.06.94zm10 10l.94 2.06.94-2.06 2.06-.94-2.06-.94-.94-2.06-.94 2.06-2.06.94z\"/><path d=\"M17.41 7.96l-1.37-1.37c-.4-.4-.92-.59-1.43-.59-.52 0-1.04.2-1.43.59L10.3 9.45l-7.72 7.72c-.78.78-.78 2.05 0 2.83L4 21.41c.39.39.9.59 1.41.59.51 0 1.02-.2 1.41-.59l7.78-7.78 2.81-2.81c.8-.78.8-2.07 0-2.86zM5.41 20L4 18.59l7.72-7.72 1.47 1.35L5.41 20z\"/>\n",
              "  </svg>\n",
              "      </button>\n",
              "      \n",
              "  <style>\n",
              "    .colab-df-container {\n",
              "      display:flex;\n",
              "      flex-wrap:wrap;\n",
              "      gap: 12px;\n",
              "    }\n",
              "\n",
              "    .colab-df-convert {\n",
              "      background-color: #E8F0FE;\n",
              "      border: none;\n",
              "      border-radius: 50%;\n",
              "      cursor: pointer;\n",
              "      display: none;\n",
              "      fill: #1967D2;\n",
              "      height: 32px;\n",
              "      padding: 0 0 0 0;\n",
              "      width: 32px;\n",
              "    }\n",
              "\n",
              "    .colab-df-convert:hover {\n",
              "      background-color: #E2EBFA;\n",
              "      box-shadow: 0px 1px 2px rgba(60, 64, 67, 0.3), 0px 1px 3px 1px rgba(60, 64, 67, 0.15);\n",
              "      fill: #174EA6;\n",
              "    }\n",
              "\n",
              "    [theme=dark] .colab-df-convert {\n",
              "      background-color: #3B4455;\n",
              "      fill: #D2E3FC;\n",
              "    }\n",
              "\n",
              "    [theme=dark] .colab-df-convert:hover {\n",
              "      background-color: #434B5C;\n",
              "      box-shadow: 0px 1px 3px 1px rgba(0, 0, 0, 0.15);\n",
              "      filter: drop-shadow(0px 1px 2px rgba(0, 0, 0, 0.3));\n",
              "      fill: #FFFFFF;\n",
              "    }\n",
              "  </style>\n",
              "\n",
              "      <script>\n",
              "        const buttonEl =\n",
              "          document.querySelector('#df-8e5ca2d4-c929-4fa3-bd55-8fa43b47cc6d button.colab-df-convert');\n",
              "        buttonEl.style.display =\n",
              "          google.colab.kernel.accessAllowed ? 'block' : 'none';\n",
              "\n",
              "        async function convertToInteractive(key) {\n",
              "          const element = document.querySelector('#df-8e5ca2d4-c929-4fa3-bd55-8fa43b47cc6d');\n",
              "          const dataTable =\n",
              "            await google.colab.kernel.invokeFunction('convertToInteractive',\n",
              "                                                     [key], {});\n",
              "          if (!dataTable) return;\n",
              "\n",
              "          const docLinkHtml = 'Like what you see? Visit the ' +\n",
              "            '<a target=\"_blank\" href=https://colab.research.google.com/notebooks/data_table.ipynb>data table notebook</a>'\n",
              "            + ' to learn more about interactive tables.';\n",
              "          element.innerHTML = '';\n",
              "          dataTable['output_type'] = 'display_data';\n",
              "          await google.colab.output.renderOutput(dataTable, element);\n",
              "          const docLink = document.createElement('div');\n",
              "          docLink.innerHTML = docLinkHtml;\n",
              "          element.appendChild(docLink);\n",
              "        }\n",
              "      </script>\n",
              "    </div>\n",
              "  </div>\n",
              "  "
            ]
          },
          "metadata": {},
          "execution_count": 16
        }
      ],
      "source": [
        "df['abstract_word_count'] = df['abstract'].apply(lambda x: len(x.strip().split())) \n",
        "df.head(2)"
      ],
      "id": "250d0538"
    },
    {
      "cell_type": "markdown",
      "metadata": {
        "id": "cRjQM8lnSDnc"
      },
      "source": [
        "### Remove Duplicates\n",
        "Looking at the `abstract` column, there are more abstracts than unique abstracts."
      ],
      "id": "cRjQM8lnSDnc"
    },
    {
      "cell_type": "code",
      "execution_count": null,
      "metadata": {
        "colab": {
          "base_uri": "https://localhost:8080/"
        },
        "id": "dde4e5ff",
        "outputId": "69c449f6-4bba-4caa-d47d-ba623073b9d6"
      },
      "outputs": [
        {
          "output_type": "execute_result",
          "data": {
            "text/plain": [
              "count                                               1026475\n",
              "unique                                              1026139\n",
              "top         Discussion of \"A statistical analysis of mul...\n",
              "freq                                                     13\n",
              "Name: abstract, dtype: object"
            ]
          },
          "metadata": {},
          "execution_count": 17
        }
      ],
      "source": [
        "df['abstract'].describe(include='all')"
      ],
      "id": "dde4e5ff"
    },
    {
      "cell_type": "markdown",
      "metadata": {
        "id": "ba5jkiPbSNy_"
      },
      "source": [
        "The rows with duplicate abstracts are dropped like so:"
      ],
      "id": "ba5jkiPbSNy_"
    },
    {
      "cell_type": "code",
      "execution_count": null,
      "metadata": {
        "colab": {
          "base_uri": "https://localhost:8080/"
        },
        "id": "e44b7453",
        "outputId": "be00d21a-620e-4ddc-8bfb-ceb2b18b3425"
      },
      "outputs": [
        {
          "output_type": "execute_result",
          "data": {
            "text/plain": [
              "count                                               1026139\n",
              "unique                                              1026139\n",
              "top         A fully differential calculation in perturba...\n",
              "freq                                                      1\n",
              "Name: abstract, dtype: object"
            ]
          },
          "metadata": {},
          "execution_count": 19
        }
      ],
      "source": [
        "df.drop_duplicates(['abstract',], inplace=True)\n",
        "df['abstract'].describe(include='all')"
      ],
      "id": "e44b7453"
    },
    {
      "cell_type": "markdown",
      "metadata": {
        "id": "oT3A3yumG1em"
      },
      "source": [
        "### Save to \"trimmed_cleaned_arxiv_docs.pickle\""
      ],
      "id": "oT3A3yumG1em"
    },
    {
      "cell_type": "code",
      "execution_count": null,
      "metadata": {
        "id": "bE4v4bfoG6-D"
      },
      "outputs": [],
      "source": [
        "df.to_pickle(\"./drive/MyDrive/Colab Notebooks/CE/data/hasDOI/trimmed_cleaned_arxiv_docs.pickle\")"
      ],
      "id": "bE4v4bfoG6-D"
    },
    {
      "cell_type": "markdown",
      "metadata": {
        "id": "jcbS3_M8az8V"
      },
      "source": [
        "## Interaction dataframe (interaction_df.pickle)\n"
      ],
      "id": "jcbS3_M8az8V"
    },
    {
      "cell_type": "markdown",
      "source": [
        "### Load \"trimmed_cleaned_arxiv_docs.pickle\""
      ],
      "metadata": {
        "id": "d5G46swHnSHG"
      },
      "id": "d5G46swHnSHG"
    },
    {
      "cell_type": "code",
      "source": [
        "df = pd.read_pickle(\"./drive/MyDrive/Colab Notebooks/CE/data/hasDOI/trimmed_cleaned_arxiv_docs.pickle\")\n",
        "print(\"number of entries: \"+ str(len(df)))\n",
        "df.head(3)"
      ],
      "metadata": {
        "colab": {
          "base_uri": "https://localhost:8080/",
          "height": 266
        },
        "id": "phsBCZrbnI6S",
        "outputId": "f87d09e8-2be0-41d3-c858-f042ce7ffd2c"
      },
      "id": "phsBCZrbnI6S",
      "execution_count": null,
      "outputs": [
        {
          "output_type": "stream",
          "name": "stdout",
          "text": [
            "number of entries: 1026139\n"
          ]
        },
        {
          "output_type": "execute_result",
          "data": {
            "text/plain": [
              "          id                                            authors  \\\n",
              "0  0704.0001  [Balázs C., Berger E. L., Nadolsky P. M., Yuan...   \n",
              "1  0704.0006                            [Pong Y. H., Law C. K.]   \n",
              "2  0704.0007  [Corichi Alejandro, Vukasinac Tatjana, Zapata ...   \n",
              "\n",
              "                                               title  \\\n",
              "0  Calculation of prompt diphoton production cros...   \n",
              "1  Bosonic characters of atomic Cooper pairs acro...   \n",
              "2  Polymer Quantum Mechanics and its Continuum Limit   \n",
              "\n",
              "                          doi             category  \\\n",
              "0  10.1103/PhysRevD.76.013009             [hep-ph]   \n",
              "1  10.1103/PhysRevA.75.043613  [cond-mat.mes-hall]   \n",
              "2  10.1103/PhysRevD.76.044016              [gr-qc]   \n",
              "\n",
              "                                            abstract  abstract_word_count  \n",
              "0    A fully differential calculation in perturba...                  140  \n",
              "1    We study the two-particle wave function of p...                  143  \n",
              "2    A rather non-standard quantum representation...                  156  "
            ],
            "text/html": [
              "\n",
              "  <div id=\"df-9eb1e26d-25e5-4c25-823b-c1d86c38b323\">\n",
              "    <div class=\"colab-df-container\">\n",
              "      <div>\n",
              "<style scoped>\n",
              "    .dataframe tbody tr th:only-of-type {\n",
              "        vertical-align: middle;\n",
              "    }\n",
              "\n",
              "    .dataframe tbody tr th {\n",
              "        vertical-align: top;\n",
              "    }\n",
              "\n",
              "    .dataframe thead th {\n",
              "        text-align: right;\n",
              "    }\n",
              "</style>\n",
              "<table border=\"1\" class=\"dataframe\">\n",
              "  <thead>\n",
              "    <tr style=\"text-align: right;\">\n",
              "      <th></th>\n",
              "      <th>id</th>\n",
              "      <th>authors</th>\n",
              "      <th>title</th>\n",
              "      <th>doi</th>\n",
              "      <th>category</th>\n",
              "      <th>abstract</th>\n",
              "      <th>abstract_word_count</th>\n",
              "    </tr>\n",
              "  </thead>\n",
              "  <tbody>\n",
              "    <tr>\n",
              "      <th>0</th>\n",
              "      <td>0704.0001</td>\n",
              "      <td>[Balázs C., Berger E. L., Nadolsky P. M., Yuan...</td>\n",
              "      <td>Calculation of prompt diphoton production cros...</td>\n",
              "      <td>10.1103/PhysRevD.76.013009</td>\n",
              "      <td>[hep-ph]</td>\n",
              "      <td>A fully differential calculation in perturba...</td>\n",
              "      <td>140</td>\n",
              "    </tr>\n",
              "    <tr>\n",
              "      <th>1</th>\n",
              "      <td>0704.0006</td>\n",
              "      <td>[Pong Y. H., Law C. K.]</td>\n",
              "      <td>Bosonic characters of atomic Cooper pairs acro...</td>\n",
              "      <td>10.1103/PhysRevA.75.043613</td>\n",
              "      <td>[cond-mat.mes-hall]</td>\n",
              "      <td>We study the two-particle wave function of p...</td>\n",
              "      <td>143</td>\n",
              "    </tr>\n",
              "    <tr>\n",
              "      <th>2</th>\n",
              "      <td>0704.0007</td>\n",
              "      <td>[Corichi Alejandro, Vukasinac Tatjana, Zapata ...</td>\n",
              "      <td>Polymer Quantum Mechanics and its Continuum Limit</td>\n",
              "      <td>10.1103/PhysRevD.76.044016</td>\n",
              "      <td>[gr-qc]</td>\n",
              "      <td>A rather non-standard quantum representation...</td>\n",
              "      <td>156</td>\n",
              "    </tr>\n",
              "  </tbody>\n",
              "</table>\n",
              "</div>\n",
              "      <button class=\"colab-df-convert\" onclick=\"convertToInteractive('df-9eb1e26d-25e5-4c25-823b-c1d86c38b323')\"\n",
              "              title=\"Convert this dataframe to an interactive table.\"\n",
              "              style=\"display:none;\">\n",
              "        \n",
              "  <svg xmlns=\"http://www.w3.org/2000/svg\" height=\"24px\"viewBox=\"0 0 24 24\"\n",
              "       width=\"24px\">\n",
              "    <path d=\"M0 0h24v24H0V0z\" fill=\"none\"/>\n",
              "    <path d=\"M18.56 5.44l.94 2.06.94-2.06 2.06-.94-2.06-.94-.94-2.06-.94 2.06-2.06.94zm-11 1L8.5 8.5l.94-2.06 2.06-.94-2.06-.94L8.5 2.5l-.94 2.06-2.06.94zm10 10l.94 2.06.94-2.06 2.06-.94-2.06-.94-.94-2.06-.94 2.06-2.06.94z\"/><path d=\"M17.41 7.96l-1.37-1.37c-.4-.4-.92-.59-1.43-.59-.52 0-1.04.2-1.43.59L10.3 9.45l-7.72 7.72c-.78.78-.78 2.05 0 2.83L4 21.41c.39.39.9.59 1.41.59.51 0 1.02-.2 1.41-.59l7.78-7.78 2.81-2.81c.8-.78.8-2.07 0-2.86zM5.41 20L4 18.59l7.72-7.72 1.47 1.35L5.41 20z\"/>\n",
              "  </svg>\n",
              "      </button>\n",
              "      \n",
              "  <style>\n",
              "    .colab-df-container {\n",
              "      display:flex;\n",
              "      flex-wrap:wrap;\n",
              "      gap: 12px;\n",
              "    }\n",
              "\n",
              "    .colab-df-convert {\n",
              "      background-color: #E8F0FE;\n",
              "      border: none;\n",
              "      border-radius: 50%;\n",
              "      cursor: pointer;\n",
              "      display: none;\n",
              "      fill: #1967D2;\n",
              "      height: 32px;\n",
              "      padding: 0 0 0 0;\n",
              "      width: 32px;\n",
              "    }\n",
              "\n",
              "    .colab-df-convert:hover {\n",
              "      background-color: #E2EBFA;\n",
              "      box-shadow: 0px 1px 2px rgba(60, 64, 67, 0.3), 0px 1px 3px 1px rgba(60, 64, 67, 0.15);\n",
              "      fill: #174EA6;\n",
              "    }\n",
              "\n",
              "    [theme=dark] .colab-df-convert {\n",
              "      background-color: #3B4455;\n",
              "      fill: #D2E3FC;\n",
              "    }\n",
              "\n",
              "    [theme=dark] .colab-df-convert:hover {\n",
              "      background-color: #434B5C;\n",
              "      box-shadow: 0px 1px 3px 1px rgba(0, 0, 0, 0.15);\n",
              "      filter: drop-shadow(0px 1px 2px rgba(0, 0, 0, 0.3));\n",
              "      fill: #FFFFFF;\n",
              "    }\n",
              "  </style>\n",
              "\n",
              "      <script>\n",
              "        const buttonEl =\n",
              "          document.querySelector('#df-9eb1e26d-25e5-4c25-823b-c1d86c38b323 button.colab-df-convert');\n",
              "        buttonEl.style.display =\n",
              "          google.colab.kernel.accessAllowed ? 'block' : 'none';\n",
              "\n",
              "        async function convertToInteractive(key) {\n",
              "          const element = document.querySelector('#df-9eb1e26d-25e5-4c25-823b-c1d86c38b323');\n",
              "          const dataTable =\n",
              "            await google.colab.kernel.invokeFunction('convertToInteractive',\n",
              "                                                     [key], {});\n",
              "          if (!dataTable) return;\n",
              "\n",
              "          const docLinkHtml = 'Like what you see? Visit the ' +\n",
              "            '<a target=\"_blank\" href=https://colab.research.google.com/notebooks/data_table.ipynb>data table notebook</a>'\n",
              "            + ' to learn more about interactive tables.';\n",
              "          element.innerHTML = '';\n",
              "          dataTable['output_type'] = 'display_data';\n",
              "          await google.colab.output.renderOutput(dataTable, element);\n",
              "          const docLink = document.createElement('div');\n",
              "          docLink.innerHTML = docLinkHtml;\n",
              "          element.appendChild(docLink);\n",
              "        }\n",
              "      </script>\n",
              "    </div>\n",
              "  </div>\n",
              "  "
            ]
          },
          "metadata": {},
          "execution_count": 22
        }
      ]
    },
    {
      "cell_type": "markdown",
      "source": [
        "### Explode \"authors_split\" into unique rows"
      ],
      "metadata": {
        "id": "nGNJMRj7nX5k"
      },
      "id": "nGNJMRj7nX5k"
    },
    {
      "cell_type": "markdown",
      "source": [
        "From here: [Recommender Systems Item Customer Collaborative Filtering](https://towardsdatascience.com/recommender-systems-item-customer-collaborative-filtering-ff0c8f41ae8a)\n",
        "\n",
        "First the cleaned and trimmed data must be reorganized into a dataframe holding only the interactions between papers and users. For this data set we are holding interatction to be author to paper relationships.\n",
        "\n",
        "\n",
        "1.   Only the `['id', 'authors_split']` columns are taken as they hold all the relationship information\n",
        "2.   The dataframe is exploded by the `'authors_split'` column to get 1 row per author to paper interaction.\n",
        "3.   [**Optional**] - The columns are renamed from `['authors_split', 'id']` to `['author', 'document']`."
      ],
      "metadata": {
        "id": "DrfTFK7Gz7GP"
      },
      "id": "DrfTFK7Gz7GP"
    },
    {
      "cell_type": "code",
      "execution_count": null,
      "metadata": {
        "colab": {
          "base_uri": "https://localhost:8080/",
          "height": 393
        },
        "id": "nDng4ibSa-VQ",
        "outputId": "a4d3287c-c3f6-4495-a0dd-52b537f9d3c4"
      },
      "outputs": [
        {
          "output_type": "stream",
          "name": "stdout",
          "text": [
            "Number of paper to author mappings: 2894399\n",
            "\n"
          ]
        },
        {
          "output_type": "execute_result",
          "data": {
            "text/plain": [
              "    document                                        author\n",
              "0  0704.0479                                     T.Geisser\n",
              "1  0704.1445                                Yasha Gindikin\n",
              "1  0704.1445                          Vladimir A. Sablikov\n",
              "2  0705.0033                          Nikos Frantzikinakis\n",
              "2  0705.0033                            Randall McCutcheon\n",
              "3  0705.0344                                 J. P. Pridham\n",
              "4  0705.0825  Ram Gopal Vishwakarma (Zacatecas University)\n",
              "5  0705.2562                                   Ken D. Olum\n",
              "5  0705.2562                         Delia Schwartz-Perlov\n",
              "6  0705.3164                                 Gabriel Vigny"
            ],
            "text/html": [
              "\n",
              "  <div id=\"df-8baae1aa-4422-4885-a922-02143dab9964\">\n",
              "    <div class=\"colab-df-container\">\n",
              "      <div>\n",
              "<style scoped>\n",
              "    .dataframe tbody tr th:only-of-type {\n",
              "        vertical-align: middle;\n",
              "    }\n",
              "\n",
              "    .dataframe tbody tr th {\n",
              "        vertical-align: top;\n",
              "    }\n",
              "\n",
              "    .dataframe thead th {\n",
              "        text-align: right;\n",
              "    }\n",
              "</style>\n",
              "<table border=\"1\" class=\"dataframe\">\n",
              "  <thead>\n",
              "    <tr style=\"text-align: right;\">\n",
              "      <th></th>\n",
              "      <th>document</th>\n",
              "      <th>author</th>\n",
              "    </tr>\n",
              "  </thead>\n",
              "  <tbody>\n",
              "    <tr>\n",
              "      <th>0</th>\n",
              "      <td>0704.0479</td>\n",
              "      <td>T.Geisser</td>\n",
              "    </tr>\n",
              "    <tr>\n",
              "      <th>1</th>\n",
              "      <td>0704.1445</td>\n",
              "      <td>Yasha Gindikin</td>\n",
              "    </tr>\n",
              "    <tr>\n",
              "      <th>1</th>\n",
              "      <td>0704.1445</td>\n",
              "      <td>Vladimir A. Sablikov</td>\n",
              "    </tr>\n",
              "    <tr>\n",
              "      <th>2</th>\n",
              "      <td>0705.0033</td>\n",
              "      <td>Nikos Frantzikinakis</td>\n",
              "    </tr>\n",
              "    <tr>\n",
              "      <th>2</th>\n",
              "      <td>0705.0033</td>\n",
              "      <td>Randall McCutcheon</td>\n",
              "    </tr>\n",
              "    <tr>\n",
              "      <th>3</th>\n",
              "      <td>0705.0344</td>\n",
              "      <td>J. P. Pridham</td>\n",
              "    </tr>\n",
              "    <tr>\n",
              "      <th>4</th>\n",
              "      <td>0705.0825</td>\n",
              "      <td>Ram Gopal Vishwakarma (Zacatecas University)</td>\n",
              "    </tr>\n",
              "    <tr>\n",
              "      <th>5</th>\n",
              "      <td>0705.2562</td>\n",
              "      <td>Ken D. Olum</td>\n",
              "    </tr>\n",
              "    <tr>\n",
              "      <th>5</th>\n",
              "      <td>0705.2562</td>\n",
              "      <td>Delia Schwartz-Perlov</td>\n",
              "    </tr>\n",
              "    <tr>\n",
              "      <th>6</th>\n",
              "      <td>0705.3164</td>\n",
              "      <td>Gabriel Vigny</td>\n",
              "    </tr>\n",
              "  </tbody>\n",
              "</table>\n",
              "</div>\n",
              "      <button class=\"colab-df-convert\" onclick=\"convertToInteractive('df-8baae1aa-4422-4885-a922-02143dab9964')\"\n",
              "              title=\"Convert this dataframe to an interactive table.\"\n",
              "              style=\"display:none;\">\n",
              "        \n",
              "  <svg xmlns=\"http://www.w3.org/2000/svg\" height=\"24px\"viewBox=\"0 0 24 24\"\n",
              "       width=\"24px\">\n",
              "    <path d=\"M0 0h24v24H0V0z\" fill=\"none\"/>\n",
              "    <path d=\"M18.56 5.44l.94 2.06.94-2.06 2.06-.94-2.06-.94-.94-2.06-.94 2.06-2.06.94zm-11 1L8.5 8.5l.94-2.06 2.06-.94-2.06-.94L8.5 2.5l-.94 2.06-2.06.94zm10 10l.94 2.06.94-2.06 2.06-.94-2.06-.94-.94-2.06-.94 2.06-2.06.94z\"/><path d=\"M17.41 7.96l-1.37-1.37c-.4-.4-.92-.59-1.43-.59-.52 0-1.04.2-1.43.59L10.3 9.45l-7.72 7.72c-.78.78-.78 2.05 0 2.83L4 21.41c.39.39.9.59 1.41.59.51 0 1.02-.2 1.41-.59l7.78-7.78 2.81-2.81c.8-.78.8-2.07 0-2.86zM5.41 20L4 18.59l7.72-7.72 1.47 1.35L5.41 20z\"/>\n",
              "  </svg>\n",
              "      </button>\n",
              "      \n",
              "  <style>\n",
              "    .colab-df-container {\n",
              "      display:flex;\n",
              "      flex-wrap:wrap;\n",
              "      gap: 12px;\n",
              "    }\n",
              "\n",
              "    .colab-df-convert {\n",
              "      background-color: #E8F0FE;\n",
              "      border: none;\n",
              "      border-radius: 50%;\n",
              "      cursor: pointer;\n",
              "      display: none;\n",
              "      fill: #1967D2;\n",
              "      height: 32px;\n",
              "      padding: 0 0 0 0;\n",
              "      width: 32px;\n",
              "    }\n",
              "\n",
              "    .colab-df-convert:hover {\n",
              "      background-color: #E2EBFA;\n",
              "      box-shadow: 0px 1px 2px rgba(60, 64, 67, 0.3), 0px 1px 3px 1px rgba(60, 64, 67, 0.15);\n",
              "      fill: #174EA6;\n",
              "    }\n",
              "\n",
              "    [theme=dark] .colab-df-convert {\n",
              "      background-color: #3B4455;\n",
              "      fill: #D2E3FC;\n",
              "    }\n",
              "\n",
              "    [theme=dark] .colab-df-convert:hover {\n",
              "      background-color: #434B5C;\n",
              "      box-shadow: 0px 1px 3px 1px rgba(0, 0, 0, 0.15);\n",
              "      filter: drop-shadow(0px 1px 2px rgba(0, 0, 0, 0.3));\n",
              "      fill: #FFFFFF;\n",
              "    }\n",
              "  </style>\n",
              "\n",
              "      <script>\n",
              "        const buttonEl =\n",
              "          document.querySelector('#df-8baae1aa-4422-4885-a922-02143dab9964 button.colab-df-convert');\n",
              "        buttonEl.style.display =\n",
              "          google.colab.kernel.accessAllowed ? 'block' : 'none';\n",
              "\n",
              "        async function convertToInteractive(key) {\n",
              "          const element = document.querySelector('#df-8baae1aa-4422-4885-a922-02143dab9964');\n",
              "          const dataTable =\n",
              "            await google.colab.kernel.invokeFunction('convertToInteractive',\n",
              "                                                     [key], {});\n",
              "          if (!dataTable) return;\n",
              "\n",
              "          const docLinkHtml = 'Like what you see? Visit the ' +\n",
              "            '<a target=\"_blank\" href=https://colab.research.google.com/notebooks/data_table.ipynb>data table notebook</a>'\n",
              "            + ' to learn more about interactive tables.';\n",
              "          element.innerHTML = '';\n",
              "          dataTable['output_type'] = 'display_data';\n",
              "          await google.colab.output.renderOutput(dataTable, element);\n",
              "          const docLink = document.createElement('div');\n",
              "          docLink.innerHTML = docLinkHtml;\n",
              "          element.appendChild(docLink);\n",
              "        }\n",
              "      </script>\n",
              "    </div>\n",
              "  </div>\n",
              "  "
            ]
          },
          "metadata": {},
          "execution_count": 165
        }
      ],
      "source": [
        "interaction_df = df[['id', 'authors_split']]\n",
        "interaction_df = interaction_df.explode('authors_split')\n",
        "interaction_df = interaction_df.rename(columns = {'authors_split': 'author', 'id': 'document' })\n",
        "print(\"Number of paper to author mappings: \" + str(len(interaction_df)) + \"\\n\")\n",
        "interaction_df.head(10)"
      ],
      "id": "nDng4ibSa-VQ"
    },
    {
      "cell_type": "markdown",
      "source": [
        "### Save to \"interaction_df.pickle\" "
      ],
      "metadata": {
        "id": "ZawQK8uT117M"
      },
      "id": "ZawQK8uT117M"
    },
    {
      "cell_type": "code",
      "source": [
        "interaction_df.to_pickle(\"./drive/MyDrive/Colab Notebooks/CE/data/interaction_df.pickle\")"
      ],
      "metadata": {
        "id": "3YRaj8po2Bap"
      },
      "id": "3YRaj8po2Bap",
      "execution_count": null,
      "outputs": []
    },
    {
      "cell_type": "markdown",
      "source": [
        "## Sparse Matrix (sparse_matrix.pickle, idx2auth.pickle, idx2doc.pickle)"
      ],
      "metadata": {
        "id": "YyA_ibnrrzYc"
      },
      "id": "YyA_ibnrrzYc"
    },
    {
      "cell_type": "markdown",
      "source": [
        "### Load \"interaction_df.pickle\""
      ],
      "metadata": {
        "id": "-xl-AIet2aDv"
      },
      "id": "-xl-AIet2aDv"
    },
    {
      "cell_type": "code",
      "source": [
        "interaction_df = pd.read_pickle(\"./drive/MyDrive/Colab Notebooks/CE/data/interaction_df.pickle\")\n",
        "print(\"number of entries: \"+ str(len(df)))\n",
        "interaction_df.head(3)"
      ],
      "metadata": {
        "colab": {
          "base_uri": "https://localhost:8080/",
          "height": 159
        },
        "id": "7vbCG6Lk2Zcb",
        "outputId": "5ab6710c-8cc3-4e6d-9ec6-83c07501cf84"
      },
      "id": "7vbCG6Lk2Zcb",
      "execution_count": null,
      "outputs": [
        {
          "output_type": "stream",
          "name": "stdout",
          "text": [
            "number of entries: 581780\n"
          ]
        },
        {
          "output_type": "execute_result",
          "data": {
            "text/plain": [
              "    document                author\n",
              "0  0704.0479             T.Geisser\n",
              "1  0704.1445        Yasha Gindikin\n",
              "1  0704.1445  Vladimir A. Sablikov"
            ],
            "text/html": [
              "\n",
              "  <div id=\"df-1ed53410-3d57-4508-82cb-e871b6f604d3\">\n",
              "    <div class=\"colab-df-container\">\n",
              "      <div>\n",
              "<style scoped>\n",
              "    .dataframe tbody tr th:only-of-type {\n",
              "        vertical-align: middle;\n",
              "    }\n",
              "\n",
              "    .dataframe tbody tr th {\n",
              "        vertical-align: top;\n",
              "    }\n",
              "\n",
              "    .dataframe thead th {\n",
              "        text-align: right;\n",
              "    }\n",
              "</style>\n",
              "<table border=\"1\" class=\"dataframe\">\n",
              "  <thead>\n",
              "    <tr style=\"text-align: right;\">\n",
              "      <th></th>\n",
              "      <th>document</th>\n",
              "      <th>author</th>\n",
              "    </tr>\n",
              "  </thead>\n",
              "  <tbody>\n",
              "    <tr>\n",
              "      <th>0</th>\n",
              "      <td>0704.0479</td>\n",
              "      <td>T.Geisser</td>\n",
              "    </tr>\n",
              "    <tr>\n",
              "      <th>1</th>\n",
              "      <td>0704.1445</td>\n",
              "      <td>Yasha Gindikin</td>\n",
              "    </tr>\n",
              "    <tr>\n",
              "      <th>1</th>\n",
              "      <td>0704.1445</td>\n",
              "      <td>Vladimir A. Sablikov</td>\n",
              "    </tr>\n",
              "  </tbody>\n",
              "</table>\n",
              "</div>\n",
              "      <button class=\"colab-df-convert\" onclick=\"convertToInteractive('df-1ed53410-3d57-4508-82cb-e871b6f604d3')\"\n",
              "              title=\"Convert this dataframe to an interactive table.\"\n",
              "              style=\"display:none;\">\n",
              "        \n",
              "  <svg xmlns=\"http://www.w3.org/2000/svg\" height=\"24px\"viewBox=\"0 0 24 24\"\n",
              "       width=\"24px\">\n",
              "    <path d=\"M0 0h24v24H0V0z\" fill=\"none\"/>\n",
              "    <path d=\"M18.56 5.44l.94 2.06.94-2.06 2.06-.94-2.06-.94-.94-2.06-.94 2.06-2.06.94zm-11 1L8.5 8.5l.94-2.06 2.06-.94-2.06-.94L8.5 2.5l-.94 2.06-2.06.94zm10 10l.94 2.06.94-2.06 2.06-.94-2.06-.94-.94-2.06-.94 2.06-2.06.94z\"/><path d=\"M17.41 7.96l-1.37-1.37c-.4-.4-.92-.59-1.43-.59-.52 0-1.04.2-1.43.59L10.3 9.45l-7.72 7.72c-.78.78-.78 2.05 0 2.83L4 21.41c.39.39.9.59 1.41.59.51 0 1.02-.2 1.41-.59l7.78-7.78 2.81-2.81c.8-.78.8-2.07 0-2.86zM5.41 20L4 18.59l7.72-7.72 1.47 1.35L5.41 20z\"/>\n",
              "  </svg>\n",
              "      </button>\n",
              "      \n",
              "  <style>\n",
              "    .colab-df-container {\n",
              "      display:flex;\n",
              "      flex-wrap:wrap;\n",
              "      gap: 12px;\n",
              "    }\n",
              "\n",
              "    .colab-df-convert {\n",
              "      background-color: #E8F0FE;\n",
              "      border: none;\n",
              "      border-radius: 50%;\n",
              "      cursor: pointer;\n",
              "      display: none;\n",
              "      fill: #1967D2;\n",
              "      height: 32px;\n",
              "      padding: 0 0 0 0;\n",
              "      width: 32px;\n",
              "    }\n",
              "\n",
              "    .colab-df-convert:hover {\n",
              "      background-color: #E2EBFA;\n",
              "      box-shadow: 0px 1px 2px rgba(60, 64, 67, 0.3), 0px 1px 3px 1px rgba(60, 64, 67, 0.15);\n",
              "      fill: #174EA6;\n",
              "    }\n",
              "\n",
              "    [theme=dark] .colab-df-convert {\n",
              "      background-color: #3B4455;\n",
              "      fill: #D2E3FC;\n",
              "    }\n",
              "\n",
              "    [theme=dark] .colab-df-convert:hover {\n",
              "      background-color: #434B5C;\n",
              "      box-shadow: 0px 1px 3px 1px rgba(0, 0, 0, 0.15);\n",
              "      filter: drop-shadow(0px 1px 2px rgba(0, 0, 0, 0.3));\n",
              "      fill: #FFFFFF;\n",
              "    }\n",
              "  </style>\n",
              "\n",
              "      <script>\n",
              "        const buttonEl =\n",
              "          document.querySelector('#df-1ed53410-3d57-4508-82cb-e871b6f604d3 button.colab-df-convert');\n",
              "        buttonEl.style.display =\n",
              "          google.colab.kernel.accessAllowed ? 'block' : 'none';\n",
              "\n",
              "        async function convertToInteractive(key) {\n",
              "          const element = document.querySelector('#df-1ed53410-3d57-4508-82cb-e871b6f604d3');\n",
              "          const dataTable =\n",
              "            await google.colab.kernel.invokeFunction('convertToInteractive',\n",
              "                                                     [key], {});\n",
              "          if (!dataTable) return;\n",
              "\n",
              "          const docLinkHtml = 'Like what you see? Visit the ' +\n",
              "            '<a target=\"_blank\" href=https://colab.research.google.com/notebooks/data_table.ipynb>data table notebook</a>'\n",
              "            + ' to learn more about interactive tables.';\n",
              "          element.innerHTML = '';\n",
              "          dataTable['output_type'] = 'display_data';\n",
              "          await google.colab.output.renderOutput(dataTable, element);\n",
              "          const docLink = document.createElement('div');\n",
              "          docLink.innerHTML = docLinkHtml;\n",
              "          element.appendChild(docLink);\n",
              "        }\n",
              "      </script>\n",
              "    </div>\n",
              "  </div>\n",
              "  "
            ]
          },
          "metadata": {},
          "execution_count": 169
        }
      ]
    },
    {
      "cell_type": "markdown",
      "source": [
        "### Build Sparse Matrix"
      ],
      "metadata": {
        "id": "kiMh_448247V"
      },
      "id": "kiMh_448247V"
    },
    {
      "cell_type": "markdown",
      "metadata": {
        "id": "W3t-Sw8DtEFn"
      },
      "source": [
        "**`scipy.sparse.csr_matrix()`** will be used to save memory and increase calculation speed. It avoids storing 0 entries in the matrix and instead smartly encodes the non 0 values in a sparse matrix by storing the row indeces, column indices and values of every non 0 entry in the matrix. Everything else is assumed to be 0.\n",
        " \n",
        "The form of **`scipy.sparse.csr_matrix()`** that will be used is:\n",
        "\n",
        "**`csr_matrix((data, (row_ind, col_ind)), [shape=(M, N)])`** \n",
        "\n",
        "\n",
        "where **`data`**, **`row_ind`** and **`col_ind`** satisfy the relationship:\n",
        "\n",
        " **`a[row_ind[k], col_ind[k]] = data[k]`** \n",
        " \n",
        " More details can be found here: [SciPy Documentation](https://docs.scipy.org/doc/scipy/reference/generated/scipy.sparse.csr_matrix.html)\n",
        "\n",
        "\n",
        "For the author-paper interaction, matrix rows represent authors and columns represent papers with evey interaction between the two recieving the value of $1$. First, a unique list of authors  and a unique list of documents are generated and stored in **`authors`** and **`documents`**, respectivley. The length of **`authors`** is the number of rows and the length of **`documents`** is the number of columns in the interaction matrix.\n",
        "\n",
        "The values above are then defined as a 3-tuple where:\n",
        "\n",
        "*   **`row_ind = `** index of an author in **`authors`**\n",
        "*   **`col_ind = `** index of a document in **`documents`**\n",
        "*   **`data = `** list of $1$s with the same length as our total number of interactions or **`len(interaction_df)`**.\n",
        "\n",
        "Therefore **`data`**, **`row_ind`** and **`col_ind`** must all be of the same length. To get the indices, the author and document columns are converted to a categorical type where the categories are the respective number of unique values in each column.  **`.cat.codes`** is then applied to convert them to a numeric value corresponding to each unique categorical variabe. This has the effect of creating a list of indices where each index matches a unique entry in the **`authors`** and **`documents`** lists.\n",
        "\n"
      ],
      "id": "W3t-Sw8DtEFn"
    },
    {
      "cell_type": "code",
      "execution_count": null,
      "metadata": {
        "colab": {
          "base_uri": "https://localhost:8080/"
        },
        "id": "0lBJfyEkn2U1",
        "outputId": "ef2540e0-b0e5-4a74-cf2b-cbf46e18eeaa"
      },
      "outputs": [
        {
          "output_type": "stream",
          "name": "stdout",
          "text": [
            "Number of authors: 972506\n",
            "10 authors: ['\"Honza\"\\n  Cernock\\'y', '\"S. F. S\\\\\\'anchez\"', '$)\\n  ((1) Department of Computational Medicine', '%Q. Riffard', '& ENS-Kouba Algiers)', '( (1) Univ. of Tokyo', '( 2 )\\n  Universidad de La Laguna', '( 2 )\\n  V.G. Khlopin Radium Institute)', '((1)', '((1)\\n  Dept. of Computer Science']\n",
            "entry index vs unique author index: \n",
            "0    832447\n",
            "1    927969\n",
            "1    887038\n",
            "2    640899\n",
            "2    716917\n",
            "3    386361\n",
            "4    715539\n",
            "5    475240\n",
            "5    219691\n",
            "6    302091\n",
            "dtype: int32\n",
            "\n",
            "Number of documents: 581780\n",
            "10 documents: ['0704.0479', '0704.1445', '0705.0033', '0705.0344', '0705.0825', '0705.2562', '0705.3164', '0705.4004', '0705.4060', '0705.4151']\n",
            "entry index vs unique document index: \n",
            "0    0\n",
            "1    1\n",
            "1    1\n",
            "2    2\n",
            "2    2\n",
            "3    3\n",
            "4    4\n",
            "5    5\n",
            "5    5\n",
            "6    6\n",
            "dtype: int32\n",
            "\n",
            "Number of interactions: 2894399\n",
            "10 interactions: [1, 1, 1, 1, 1, 1, 1, 1, 1, 1]\n"
          ]
        }
      ],
      "source": [
        "# authors / rows ===============================================================\n",
        "authors = list(np.sort(interaction_df.author.unique()))\n",
        "print('Number of authors: ' + str(len(authors)))\n",
        "print('10 authors: ' + str(authors[:10]))\n",
        "\n",
        "rows = interaction_df.author.astype(CategoricalDtype(categories= authors)).cat.codes \n",
        "print('entry index vs unique author index: \\n' + str(rows[:]))\n",
        "\n",
        "# documents / cols ===============================================================\n",
        "documents = list(interaction_df.document.unique())\n",
        "print('\\nNumber of documents: ' + str(len(documents)))\n",
        "print('10 documents: ' + str(documents[:10]))\n",
        "\n",
        "cols = interaction_df.document.astype(CategoricalDtype(categories= documents)).cat.codes  \n",
        "print('entry index vs unique document index: \\n' + str(cols[:10]))\n",
        "\n",
        "# interactions / matrix values =================================================\n",
        "interactionStrength = [1] * len(interaction_df)\n",
        "print('\\nNumber of interactions: ' + str(len(interactionStrength)))\n",
        "print('10 interactions: ' + str(interactionStrength[:10]))"
      ],
      "id": "0lBJfyEkn2U1"
    },
    {
      "cell_type": "markdown",
      "metadata": {
        "id": "ES7gXoDW3DU3"
      },
      "source": [
        "Now we actually create the sparse matrix of size $(unique \\space authors \\times unique \\space documents)$. Each pair of indices in **`(rows, cols)`** indicates the corresponding entry in the matrix should be filled with the corresponding entry in **`interactionStrength`** which is always $1$. Every other entry is considered to be $0$. "
      ],
      "id": "ES7gXoDW3DU3"
    },
    {
      "cell_type": "code",
      "execution_count": null,
      "metadata": {
        "colab": {
          "base_uri": "https://localhost:8080/"
        },
        "id": "6753e42b",
        "outputId": "850e4611-11d4-4fe8-d5ea-2826af71176f"
      },
      "outputs": [
        {
          "output_type": "execute_result",
          "data": {
            "text/plain": [
              "<972506x581780 sparse matrix of type '<class 'numpy.longlong'>'\n",
              "\twith 2882989 stored elements in Compressed Sparse Row format>"
            ]
          },
          "metadata": {},
          "execution_count": 174
        }
      ],
      "source": [
        "interaction_sparse = sparse.csr_matrix((interactionStrength, (rows, cols)), shape=(len(authors), len(documents))) \n",
        "interaction_sparse"
      ],
      "id": "6753e42b"
    },
    {
      "cell_type": "markdown",
      "metadata": {
        "id": "qG3Cvyf35i3B"
      },
      "source": [
        "Here, the actual sparsity of the interaction matrix is calculated as:\n",
        "$$\n",
        "sparsity = 100(1 - \\frac{nonzero \\space entries}{matrix \\space size})\n",
        "$$\n",
        "\n",
        "We find that $99.99949$% of the matrix entries are 0 values making the interaction matrix extremely sparse."
      ],
      "id": "qG3Cvyf35i3B"
    },
    {
      "cell_type": "code",
      "execution_count": null,
      "metadata": {
        "colab": {
          "base_uri": "https://localhost:8080/"
        },
        "id": "7bqELtHnr1u7",
        "outputId": "7d207c4e-25c2-457f-b7bf-7a7677069ca6"
      },
      "outputs": [
        {
          "output_type": "execute_result",
          "data": {
            "text/plain": [
              "99.99949044401309"
            ]
          },
          "metadata": {},
          "execution_count": 175
        }
      ],
      "source": [
        "matrix_size = interaction_sparse.shape[0]*interaction_sparse.shape[1]\n",
        "interaction_amount = len(interaction_sparse.nonzero()[0])\n",
        "sparsity = 100*(1 - (interaction_amount/matrix_size))\n",
        "sparsity"
      ],
      "id": "7bqELtHnr1u7"
    },
    {
      "cell_type": "markdown",
      "source": [
        "### Using Sparse Matrix"
      ],
      "metadata": {
        "id": "E64MB383sqJt"
      },
      "id": "E64MB383sqJt"
    },
    {
      "cell_type": "markdown",
      "source": [
        "#### Sparse Matrix Structure"
      ],
      "metadata": {
        "id": "nsmMHZZg-UcH"
      },
      "id": "nsmMHZZg-UcH"
    },
    {
      "cell_type": "code",
      "source": [
        "print(\"type of sparse matrix: \" + str(type(interaction_sparse)))\n",
        "print(\"\\nShape of sparse matrix: \" + str(interaction_sparse.shape))\n",
        "print(\"\\nnonzero entries of sparse matrix: \")\n",
        "print(\"    rows or people:       \" + str(interaction_sparse.nonzero()[0]))\n",
        "print(\"    columns or documents: \" + str(interaction_sparse.nonzero()[1]))"
      ],
      "metadata": {
        "colab": {
          "base_uri": "https://localhost:8080/"
        },
        "id": "RqZe4rlGsvej",
        "outputId": "a018f4df-fde3-4292-ae76-511939787757"
      },
      "id": "RqZe4rlGsvej",
      "execution_count": null,
      "outputs": [
        {
          "output_type": "stream",
          "name": "stdout",
          "text": [
            "type of sparse matrix: <class 'scipy.sparse.csr.csr_matrix'>\n",
            "\n",
            "Shape of sparse matrix: (972506, 581780)\n",
            "\n",
            "nonzero entries of sparse matrix: \n",
            "    rows or people:       [     0      1      2 ... 972503 972504 972505]\n",
            "    columns or documents: [477657 343615 308634 ... 408477 271554 371810]\n"
          ]
        }
      ]
    },
    {
      "cell_type": "markdown",
      "source": [
        "#### Accessing 0 and non 0 entries"
      ],
      "metadata": {
        "id": "twmWPryS-YB3"
      },
      "id": "twmWPryS-YB3"
    },
    {
      "cell_type": "markdown",
      "source": [
        "Here we define a function to return a non zero value from a sparse matrix based on its index in the sparse matrix storage"
      ],
      "metadata": {
        "id": "CV9z3Xtm8FO2"
      },
      "id": "CV9z3Xtm8FO2"
    },
    {
      "cell_type": "code",
      "source": [
        "def getNonZeroByIndex(sparse_m, idx, printOutput=False):\n",
        "  nonzero_values = sparse_m.nonzero()\n",
        "  author_index = nonzero_values[0][idx]\n",
        "  document_index = nonzero_values[1][idx]\n",
        "  interaction_value = sparse_m[author_index, document_index]\n",
        "  if printOutput:\n",
        "    print(\"\\n======================== Get Non Zero Entry by Index ========================\")\n",
        "    print(\"index in sparse matrix storage: \" + str(idx))\n",
        "    print(\"author index: \" + str(author_index))\n",
        "    print(\"document index: \" + str(document_index))\n",
        "    print(\"interaction value: \" + str(interaction_value))\n",
        "  return author_index, document_index, interaction_value"
      ],
      "metadata": {
        "id": "xaKIRPGYuhhB"
      },
      "id": "xaKIRPGYuhhB",
      "execution_count": null,
      "outputs": []
    },
    {
      "cell_type": "markdown",
      "source": [
        "We can use `getZeroByIndex()` to then get and print the author and document indices"
      ],
      "metadata": {
        "id": "1tqUQeNn8S0S"
      },
      "id": "1tqUQeNn8S0S"
    },
    {
      "cell_type": "code",
      "source": [
        "getNonZeroByIndex(sparse_m=interaction_sparse, idx=5000, printOutput=True)"
      ],
      "metadata": {
        "colab": {
          "base_uri": "https://localhost:8080/"
        },
        "id": "ZKFiMUQH8pf2",
        "outputId": "af2b3a3c-c855-4030-efdf-3249c5d49d7d"
      },
      "id": "ZKFiMUQH8pf2",
      "execution_count": null,
      "outputs": [
        {
          "output_type": "stream",
          "name": "stdout",
          "text": [
            "\n",
            "======================== Get Non Zero Entry by Index ========================\n",
            "index in sparse matrix storage: 5000\n",
            "author index: 3992\n",
            "document index: 87364\n",
            "interaction value: 1\n"
          ]
        },
        {
          "output_type": "execute_result",
          "data": {
            "text/plain": [
              "(3992, 87364, 1)"
            ]
          },
          "metadata": {},
          "execution_count": 55
        }
      ]
    },
    {
      "cell_type": "markdown",
      "source": [
        "Or, we can choose indeces at random with a 99.999% chance of getting a 0 due to the sparsity of the matrix."
      ],
      "metadata": {
        "id": "2MPWB4hZ8xN1"
      },
      "id": "2MPWB4hZ8xN1"
    },
    {
      "cell_type": "code",
      "source": [
        "random.seed(200)\n",
        "auth_rand_idx = random.randint(0, len(authors))\n",
        "doc_rand_idx =random.randint(0, len(documents))\n",
        "interaction_rand_value = interaction_sparse[auth_rand_idx, doc_rand_idx]\n",
        "print(\"\\n======================== Random Sparse Matrix Entry ========================\")\n",
        "print(\"author index: \" + str(auth_rand_idx))\n",
        "print(\"document index: \" + str(doc_rand_idx))\n",
        "print(\"interaction value: \" + str(interaction_rand_value))"
      ],
      "metadata": {
        "colab": {
          "base_uri": "https://localhost:8080/"
        },
        "id": "kUxU719ztpqZ",
        "outputId": "0d093e4e-dfd9-415e-e471-2396210dbbed"
      },
      "id": "kUxU719ztpqZ",
      "execution_count": null,
      "outputs": [
        {
          "output_type": "stream",
          "name": "stdout",
          "text": [
            "\n",
            "======================== Random Sparse Matrix Entry ========================\n",
            "author index: 47824\n",
            "document index: 213329\n",
            "interaction value: 0\n"
          ]
        }
      ]
    },
    {
      "cell_type": "markdown",
      "source": [
        "#### Sparse Matrix 2 Document / Author"
      ],
      "metadata": {
        "id": "M9WKIkX3-gtf"
      },
      "id": "M9WKIkX3-gtf"
    },
    {
      "cell_type": "markdown",
      "source": [
        "Here I redefine `authors` and `documents` to `idx2auth` and `idx2doc` as thats essentially what they are. You can input indeces from the sparse amtrix and get back to the original authors or documents."
      ],
      "metadata": {
        "id": "-l-G7IdG_QC7"
      },
      "id": "-l-G7IdG_QC7"
    },
    {
      "cell_type": "code",
      "source": [
        "idx2auth = authors\n",
        "idx2doc = documents"
      ],
      "metadata": {
        "id": "Xgjhb1if_KVy"
      },
      "id": "Xgjhb1if_KVy",
      "execution_count": null,
      "outputs": []
    },
    {
      "cell_type": "markdown",
      "source": [
        "Here we look at the `interaction_sparse` matrix at index 52244 to get the author and document who correspond to this interaction. We then use the document id to find all rows of the interaction data frame that match.\n",
        "\n",
        "We can also find the title and match the returned authors to the original document authors to make sure they match up. [COMET Phase-I Technical Design Report](https://arxiv.org/abs/1812.09018)"
      ],
      "metadata": {
        "id": "YwnW06h0Apsa"
      },
      "id": "YwnW06h0Apsa"
    },
    {
      "cell_type": "code",
      "source": [
        "auth_idx, doc_idx, interaction_val = getNonZeroByIndex(sparse_m=interaction_sparse, idx=52244, printOutput=True)\n",
        "\n",
        "print(\"\\nauthor: \" + idx2auth[auth_idx])\n",
        "print(\"document: \" + idx2doc[doc_idx])\n",
        "\n",
        "print(\"\\ndocument title: \" + df.loc[df['id'] == documents[doc_idx]]['title'].tolist()[0] + \"\\n\")\n",
        "\n",
        "interaction_df.loc[interaction_df['document'] == documents[doc_idx]]"
      ],
      "metadata": {
        "colab": {
          "base_uri": "https://localhost:8080/",
          "height": 623
        },
        "id": "BgzCADTkxrRi",
        "outputId": "d25305e7-71c0-4abf-a8de-4335d19d4897"
      },
      "id": "BgzCADTkxrRi",
      "execution_count": null,
      "outputs": [
        {
          "output_type": "stream",
          "name": "stdout",
          "text": [
            "\n",
            "======================== Get Non Zero Entry by Index ========================\n",
            "index in sparse matrix storage: 52244\n",
            "author index: 24754\n",
            "document index: 46129\n",
            "interaction value: 1\n",
            "\n",
            "author: A. E. Bondar\n",
            "document: 1812.09018\n",
            "\n",
            "document title: COMET Phase-I Technical Design Report\n",
            "\n"
          ]
        },
        {
          "output_type": "execute_result",
          "data": {
            "text/plain": [
              "         document                                    author\n",
              "46132  1812.09018  The COMET Collaboration: R. Abramishvili\n",
              "46132  1812.09018                                 G. Adamov\n",
              "46132  1812.09018             R. R. Akhmetshin,\\n  A. Allin\n",
              "46132  1812.09018                         J. C. Ang\\'elique\n",
              "46132  1812.09018                              V. Anishchik\n",
              "...           ...                                       ...\n",
              "46132  1812.09018                              Yu. V. Yudin\n",
              "46132  1812.09018                           M. V. Zdorovets\n",
              "46132  1812.09018                                  J. Zhang\n",
              "46132  1812.09018                                  Y. Zhang\n",
              "46132  1812.09018                               K.\\n  Zuber\n",
              "\n",
              "[189 rows x 2 columns]"
            ],
            "text/html": [
              "\n",
              "  <div id=\"df-e296847e-4083-47d9-8a15-27a55be0f9f0\">\n",
              "    <div class=\"colab-df-container\">\n",
              "      <div>\n",
              "<style scoped>\n",
              "    .dataframe tbody tr th:only-of-type {\n",
              "        vertical-align: middle;\n",
              "    }\n",
              "\n",
              "    .dataframe tbody tr th {\n",
              "        vertical-align: top;\n",
              "    }\n",
              "\n",
              "    .dataframe thead th {\n",
              "        text-align: right;\n",
              "    }\n",
              "</style>\n",
              "<table border=\"1\" class=\"dataframe\">\n",
              "  <thead>\n",
              "    <tr style=\"text-align: right;\">\n",
              "      <th></th>\n",
              "      <th>document</th>\n",
              "      <th>author</th>\n",
              "    </tr>\n",
              "  </thead>\n",
              "  <tbody>\n",
              "    <tr>\n",
              "      <th>46132</th>\n",
              "      <td>1812.09018</td>\n",
              "      <td>The COMET Collaboration: R. Abramishvili</td>\n",
              "    </tr>\n",
              "    <tr>\n",
              "      <th>46132</th>\n",
              "      <td>1812.09018</td>\n",
              "      <td>G. Adamov</td>\n",
              "    </tr>\n",
              "    <tr>\n",
              "      <th>46132</th>\n",
              "      <td>1812.09018</td>\n",
              "      <td>R. R. Akhmetshin,\\n  A. Allin</td>\n",
              "    </tr>\n",
              "    <tr>\n",
              "      <th>46132</th>\n",
              "      <td>1812.09018</td>\n",
              "      <td>J. C. Ang\\'elique</td>\n",
              "    </tr>\n",
              "    <tr>\n",
              "      <th>46132</th>\n",
              "      <td>1812.09018</td>\n",
              "      <td>V. Anishchik</td>\n",
              "    </tr>\n",
              "    <tr>\n",
              "      <th>...</th>\n",
              "      <td>...</td>\n",
              "      <td>...</td>\n",
              "    </tr>\n",
              "    <tr>\n",
              "      <th>46132</th>\n",
              "      <td>1812.09018</td>\n",
              "      <td>Yu. V. Yudin</td>\n",
              "    </tr>\n",
              "    <tr>\n",
              "      <th>46132</th>\n",
              "      <td>1812.09018</td>\n",
              "      <td>M. V. Zdorovets</td>\n",
              "    </tr>\n",
              "    <tr>\n",
              "      <th>46132</th>\n",
              "      <td>1812.09018</td>\n",
              "      <td>J. Zhang</td>\n",
              "    </tr>\n",
              "    <tr>\n",
              "      <th>46132</th>\n",
              "      <td>1812.09018</td>\n",
              "      <td>Y. Zhang</td>\n",
              "    </tr>\n",
              "    <tr>\n",
              "      <th>46132</th>\n",
              "      <td>1812.09018</td>\n",
              "      <td>K.\\n  Zuber</td>\n",
              "    </tr>\n",
              "  </tbody>\n",
              "</table>\n",
              "<p>189 rows × 2 columns</p>\n",
              "</div>\n",
              "      <button class=\"colab-df-convert\" onclick=\"convertToInteractive('df-e296847e-4083-47d9-8a15-27a55be0f9f0')\"\n",
              "              title=\"Convert this dataframe to an interactive table.\"\n",
              "              style=\"display:none;\">\n",
              "        \n",
              "  <svg xmlns=\"http://www.w3.org/2000/svg\" height=\"24px\"viewBox=\"0 0 24 24\"\n",
              "       width=\"24px\">\n",
              "    <path d=\"M0 0h24v24H0V0z\" fill=\"none\"/>\n",
              "    <path d=\"M18.56 5.44l.94 2.06.94-2.06 2.06-.94-2.06-.94-.94-2.06-.94 2.06-2.06.94zm-11 1L8.5 8.5l.94-2.06 2.06-.94-2.06-.94L8.5 2.5l-.94 2.06-2.06.94zm10 10l.94 2.06.94-2.06 2.06-.94-2.06-.94-.94-2.06-.94 2.06-2.06.94z\"/><path d=\"M17.41 7.96l-1.37-1.37c-.4-.4-.92-.59-1.43-.59-.52 0-1.04.2-1.43.59L10.3 9.45l-7.72 7.72c-.78.78-.78 2.05 0 2.83L4 21.41c.39.39.9.59 1.41.59.51 0 1.02-.2 1.41-.59l7.78-7.78 2.81-2.81c.8-.78.8-2.07 0-2.86zM5.41 20L4 18.59l7.72-7.72 1.47 1.35L5.41 20z\"/>\n",
              "  </svg>\n",
              "      </button>\n",
              "      \n",
              "  <style>\n",
              "    .colab-df-container {\n",
              "      display:flex;\n",
              "      flex-wrap:wrap;\n",
              "      gap: 12px;\n",
              "    }\n",
              "\n",
              "    .colab-df-convert {\n",
              "      background-color: #E8F0FE;\n",
              "      border: none;\n",
              "      border-radius: 50%;\n",
              "      cursor: pointer;\n",
              "      display: none;\n",
              "      fill: #1967D2;\n",
              "      height: 32px;\n",
              "      padding: 0 0 0 0;\n",
              "      width: 32px;\n",
              "    }\n",
              "\n",
              "    .colab-df-convert:hover {\n",
              "      background-color: #E2EBFA;\n",
              "      box-shadow: 0px 1px 2px rgba(60, 64, 67, 0.3), 0px 1px 3px 1px rgba(60, 64, 67, 0.15);\n",
              "      fill: #174EA6;\n",
              "    }\n",
              "\n",
              "    [theme=dark] .colab-df-convert {\n",
              "      background-color: #3B4455;\n",
              "      fill: #D2E3FC;\n",
              "    }\n",
              "\n",
              "    [theme=dark] .colab-df-convert:hover {\n",
              "      background-color: #434B5C;\n",
              "      box-shadow: 0px 1px 3px 1px rgba(0, 0, 0, 0.15);\n",
              "      filter: drop-shadow(0px 1px 2px rgba(0, 0, 0, 0.3));\n",
              "      fill: #FFFFFF;\n",
              "    }\n",
              "  </style>\n",
              "\n",
              "      <script>\n",
              "        const buttonEl =\n",
              "          document.querySelector('#df-e296847e-4083-47d9-8a15-27a55be0f9f0 button.colab-df-convert');\n",
              "        buttonEl.style.display =\n",
              "          google.colab.kernel.accessAllowed ? 'block' : 'none';\n",
              "\n",
              "        async function convertToInteractive(key) {\n",
              "          const element = document.querySelector('#df-e296847e-4083-47d9-8a15-27a55be0f9f0');\n",
              "          const dataTable =\n",
              "            await google.colab.kernel.invokeFunction('convertToInteractive',\n",
              "                                                     [key], {});\n",
              "          if (!dataTable) return;\n",
              "\n",
              "          const docLinkHtml = 'Like what you see? Visit the ' +\n",
              "            '<a target=\"_blank\" href=https://colab.research.google.com/notebooks/data_table.ipynb>data table notebook</a>'\n",
              "            + ' to learn more about interactive tables.';\n",
              "          element.innerHTML = '';\n",
              "          dataTable['output_type'] = 'display_data';\n",
              "          await google.colab.output.renderOutput(dataTable, element);\n",
              "          const docLink = document.createElement('div');\n",
              "          docLink.innerHTML = docLinkHtml;\n",
              "          element.appendChild(docLink);\n",
              "        }\n",
              "      </script>\n",
              "    </div>\n",
              "  </div>\n",
              "  "
            ]
          },
          "metadata": {},
          "execution_count": 181
        }
      ]
    },
    {
      "cell_type": "markdown",
      "source": [
        "### Saving \"sparse_matrix.pickle\", \"idx2auth.pickle\", \"idx2doc.pickle\""
      ],
      "metadata": {
        "id": "Buc5E6wf-n7a"
      },
      "id": "Buc5E6wf-n7a"
    },
    {
      "cell_type": "code",
      "source": [
        "type(idx2auth)"
      ],
      "metadata": {
        "colab": {
          "base_uri": "https://localhost:8080/"
        },
        "id": "DjH_eSFtCM18",
        "outputId": "ffa61703-1f00-40fb-a78c-82f732235e78"
      },
      "id": "DjH_eSFtCM18",
      "execution_count": null,
      "outputs": [
        {
          "output_type": "execute_result",
          "data": {
            "text/plain": [
              "list"
            ]
          },
          "metadata": {},
          "execution_count": 192
        }
      ]
    },
    {
      "cell_type": "code",
      "source": [
        "scipy.sparse.save_npz(\"./drive/MyDrive/Colab Notebooks/CE/data/interaction_sparse.npz\", interaction_sparse)\n",
        "\n",
        "with open(\"./drive/MyDrive/Colab Notebooks/CE/data/idx2auth.pickle\", \"wb\") as fp:\n",
        "  pickle.dump(idx2auth, fp)\n",
        "\n",
        "with open(\"./drive/MyDrive/Colab Notebooks/CE/data/idx2doc.pickle\", \"wb\") as fp:\n",
        "  pickle.dump(idx2doc, fp)"
      ],
      "metadata": {
        "id": "aamr3z-KBpTj"
      },
      "id": "aamr3z-KBpTj",
      "execution_count": null,
      "outputs": []
    },
    {
      "cell_type": "markdown",
      "source": [
        "## Convert interaction to matrix authors and documents to ids\n"
      ],
      "metadata": {
        "id": "hCe4AUq6_yuh"
      },
      "id": "hCe4AUq6_yuh"
    },
    {
      "cell_type": "code",
      "source": [
        "documents_with_embeddings = pd.read_pickle(\"./drive/MyDrive/Colab Notebooks/CE/data/documents_with_embeddings.pickle\")"
      ],
      "metadata": {
        "id": "Kjqui-6UIdhU"
      },
      "id": "Kjqui-6UIdhU",
      "execution_count": null,
      "outputs": []
    },
    {
      "cell_type": "code",
      "source": [
        "documents_with_embeddings.head(2)"
      ],
      "metadata": {
        "colab": {
          "base_uri": "https://localhost:8080/",
          "height": 189
        },
        "id": "xt7Xx185Igyh",
        "outputId": "2450cd33-eeb9-4712-d700-6c6fe6a8a8d7"
      },
      "id": "xt7Xx185Igyh",
      "execution_count": null,
      "outputs": [
        {
          "output_type": "execute_result",
          "data": {
            "text/plain": [
              "          id                                              title  \\\n",
              "0  0704.0479               The affine part of the Picard scheme   \n",
              "1  0704.1445  Deformed Wigner crystal in a one-dimensional q...   \n",
              "\n",
              "                                            abstract  \\\n",
              "0    We describe the maximal torus and maximal un...   \n",
              "1    The spatial Fourier spectrum of the electron...   \n",
              "\n",
              "                            authors_split  \\\n",
              "0                             [T.Geisser]   \n",
              "1  [Yasha Gindikin, Vladimir A. Sablikov]   \n",
              "\n",
              "                                          embeddings  \n",
              "0  [-0.0015220479108393192, -0.021295614540576935...  \n",
              "1  [0.06974620372056961, 0.026879271492362022, 0....  "
            ],
            "text/html": [
              "\n",
              "  <div id=\"df-6e75460b-d5be-4d39-b9a1-71a5c98176bf\">\n",
              "    <div class=\"colab-df-container\">\n",
              "      <div>\n",
              "<style scoped>\n",
              "    .dataframe tbody tr th:only-of-type {\n",
              "        vertical-align: middle;\n",
              "    }\n",
              "\n",
              "    .dataframe tbody tr th {\n",
              "        vertical-align: top;\n",
              "    }\n",
              "\n",
              "    .dataframe thead th {\n",
              "        text-align: right;\n",
              "    }\n",
              "</style>\n",
              "<table border=\"1\" class=\"dataframe\">\n",
              "  <thead>\n",
              "    <tr style=\"text-align: right;\">\n",
              "      <th></th>\n",
              "      <th>id</th>\n",
              "      <th>title</th>\n",
              "      <th>abstract</th>\n",
              "      <th>authors_split</th>\n",
              "      <th>embeddings</th>\n",
              "    </tr>\n",
              "  </thead>\n",
              "  <tbody>\n",
              "    <tr>\n",
              "      <th>0</th>\n",
              "      <td>0704.0479</td>\n",
              "      <td>The affine part of the Picard scheme</td>\n",
              "      <td>We describe the maximal torus and maximal un...</td>\n",
              "      <td>[T.Geisser]</td>\n",
              "      <td>[-0.0015220479108393192, -0.021295614540576935...</td>\n",
              "    </tr>\n",
              "    <tr>\n",
              "      <th>1</th>\n",
              "      <td>0704.1445</td>\n",
              "      <td>Deformed Wigner crystal in a one-dimensional q...</td>\n",
              "      <td>The spatial Fourier spectrum of the electron...</td>\n",
              "      <td>[Yasha Gindikin, Vladimir A. Sablikov]</td>\n",
              "      <td>[0.06974620372056961, 0.026879271492362022, 0....</td>\n",
              "    </tr>\n",
              "  </tbody>\n",
              "</table>\n",
              "</div>\n",
              "      <button class=\"colab-df-convert\" onclick=\"convertToInteractive('df-6e75460b-d5be-4d39-b9a1-71a5c98176bf')\"\n",
              "              title=\"Convert this dataframe to an interactive table.\"\n",
              "              style=\"display:none;\">\n",
              "        \n",
              "  <svg xmlns=\"http://www.w3.org/2000/svg\" height=\"24px\"viewBox=\"0 0 24 24\"\n",
              "       width=\"24px\">\n",
              "    <path d=\"M0 0h24v24H0V0z\" fill=\"none\"/>\n",
              "    <path d=\"M18.56 5.44l.94 2.06.94-2.06 2.06-.94-2.06-.94-.94-2.06-.94 2.06-2.06.94zm-11 1L8.5 8.5l.94-2.06 2.06-.94-2.06-.94L8.5 2.5l-.94 2.06-2.06.94zm10 10l.94 2.06.94-2.06 2.06-.94-2.06-.94-.94-2.06-.94 2.06-2.06.94z\"/><path d=\"M17.41 7.96l-1.37-1.37c-.4-.4-.92-.59-1.43-.59-.52 0-1.04.2-1.43.59L10.3 9.45l-7.72 7.72c-.78.78-.78 2.05 0 2.83L4 21.41c.39.39.9.59 1.41.59.51 0 1.02-.2 1.41-.59l7.78-7.78 2.81-2.81c.8-.78.8-2.07 0-2.86zM5.41 20L4 18.59l7.72-7.72 1.47 1.35L5.41 20z\"/>\n",
              "  </svg>\n",
              "      </button>\n",
              "      \n",
              "  <style>\n",
              "    .colab-df-container {\n",
              "      display:flex;\n",
              "      flex-wrap:wrap;\n",
              "      gap: 12px;\n",
              "    }\n",
              "\n",
              "    .colab-df-convert {\n",
              "      background-color: #E8F0FE;\n",
              "      border: none;\n",
              "      border-radius: 50%;\n",
              "      cursor: pointer;\n",
              "      display: none;\n",
              "      fill: #1967D2;\n",
              "      height: 32px;\n",
              "      padding: 0 0 0 0;\n",
              "      width: 32px;\n",
              "    }\n",
              "\n",
              "    .colab-df-convert:hover {\n",
              "      background-color: #E2EBFA;\n",
              "      box-shadow: 0px 1px 2px rgba(60, 64, 67, 0.3), 0px 1px 3px 1px rgba(60, 64, 67, 0.15);\n",
              "      fill: #174EA6;\n",
              "    }\n",
              "\n",
              "    [theme=dark] .colab-df-convert {\n",
              "      background-color: #3B4455;\n",
              "      fill: #D2E3FC;\n",
              "    }\n",
              "\n",
              "    [theme=dark] .colab-df-convert:hover {\n",
              "      background-color: #434B5C;\n",
              "      box-shadow: 0px 1px 3px 1px rgba(0, 0, 0, 0.15);\n",
              "      filter: drop-shadow(0px 1px 2px rgba(0, 0, 0, 0.3));\n",
              "      fill: #FFFFFF;\n",
              "    }\n",
              "  </style>\n",
              "\n",
              "      <script>\n",
              "        const buttonEl =\n",
              "          document.querySelector('#df-6e75460b-d5be-4d39-b9a1-71a5c98176bf button.colab-df-convert');\n",
              "        buttonEl.style.display =\n",
              "          google.colab.kernel.accessAllowed ? 'block' : 'none';\n",
              "\n",
              "        async function convertToInteractive(key) {\n",
              "          const element = document.querySelector('#df-6e75460b-d5be-4d39-b9a1-71a5c98176bf');\n",
              "          const dataTable =\n",
              "            await google.colab.kernel.invokeFunction('convertToInteractive',\n",
              "                                                     [key], {});\n",
              "          if (!dataTable) return;\n",
              "\n",
              "          const docLinkHtml = 'Like what you see? Visit the ' +\n",
              "            '<a target=\"_blank\" href=https://colab.research.google.com/notebooks/data_table.ipynb>data table notebook</a>'\n",
              "            + ' to learn more about interactive tables.';\n",
              "          element.innerHTML = '';\n",
              "          dataTable['output_type'] = 'display_data';\n",
              "          await google.colab.output.renderOutput(dataTable, element);\n",
              "          const docLink = document.createElement('div');\n",
              "          docLink.innerHTML = docLinkHtml;\n",
              "          element.appendChild(docLink);\n",
              "        }\n",
              "      </script>\n",
              "    </div>\n",
              "  </div>\n",
              "  "
            ]
          },
          "metadata": {},
          "execution_count": 9
        }
      ]
    },
    {
      "cell_type": "code",
      "source": [
        "interaction_sparse = scipy.sparse.load_npz(\"./drive/MyDrive/Colab Notebooks/CE/data/interaction_sparse.npz\")"
      ],
      "metadata": {
        "id": "cmsLCIovW-nF"
      },
      "id": "cmsLCIovW-nF",
      "execution_count": null,
      "outputs": []
    },
    {
      "cell_type": "code",
      "source": [
        "print(\"idx2auth example: \" + str(idx2auth[2]))\n",
        "interaction_id = pd.read_pickle(\"./drive/MyDrive/Colab Notebooks/CE/data/interaction_id.pickle\")"
      ],
      "metadata": {
        "colab": {
          "base_uri": "https://localhost:8080/"
        },
        "id": "_A4Fjo-9K3O_",
        "outputId": "1ed1725a-8683-415d-a4e9-c5a14edca9e6"
      },
      "id": "_A4Fjo-9K3O_",
      "execution_count": null,
      "outputs": [
        {
          "output_type": "stream",
          "name": "stdout",
          "text": [
            "idx2auth example: $)\n",
            "  ((1) Department of Computational Medicine\n"
          ]
        }
      ]
    },
    {
      "cell_type": "code",
      "source": [
        "interaction_id.head(2)"
      ],
      "metadata": {
        "colab": {
          "base_uri": "https://localhost:8080/",
          "height": 111
        },
        "id": "uYpsX5CFPBiS",
        "outputId": "40a19a19-45a0-422c-e216-bbb7d34267e8"
      },
      "id": "uYpsX5CFPBiS",
      "execution_count": null,
      "outputs": [
        {
          "output_type": "execute_result",
          "data": {
            "text/plain": [
              "   document_id  auth_id\n",
              "0            0   832447\n",
              "1            1   927969"
            ],
            "text/html": [
              "\n",
              "  <div id=\"df-0e2ffced-ddac-4bcd-aa2c-13c570c461ff\">\n",
              "    <div class=\"colab-df-container\">\n",
              "      <div>\n",
              "<style scoped>\n",
              "    .dataframe tbody tr th:only-of-type {\n",
              "        vertical-align: middle;\n",
              "    }\n",
              "\n",
              "    .dataframe tbody tr th {\n",
              "        vertical-align: top;\n",
              "    }\n",
              "\n",
              "    .dataframe thead th {\n",
              "        text-align: right;\n",
              "    }\n",
              "</style>\n",
              "<table border=\"1\" class=\"dataframe\">\n",
              "  <thead>\n",
              "    <tr style=\"text-align: right;\">\n",
              "      <th></th>\n",
              "      <th>document_id</th>\n",
              "      <th>auth_id</th>\n",
              "    </tr>\n",
              "  </thead>\n",
              "  <tbody>\n",
              "    <tr>\n",
              "      <th>0</th>\n",
              "      <td>0</td>\n",
              "      <td>832447</td>\n",
              "    </tr>\n",
              "    <tr>\n",
              "      <th>1</th>\n",
              "      <td>1</td>\n",
              "      <td>927969</td>\n",
              "    </tr>\n",
              "  </tbody>\n",
              "</table>\n",
              "</div>\n",
              "      <button class=\"colab-df-convert\" onclick=\"convertToInteractive('df-0e2ffced-ddac-4bcd-aa2c-13c570c461ff')\"\n",
              "              title=\"Convert this dataframe to an interactive table.\"\n",
              "              style=\"display:none;\">\n",
              "        \n",
              "  <svg xmlns=\"http://www.w3.org/2000/svg\" height=\"24px\"viewBox=\"0 0 24 24\"\n",
              "       width=\"24px\">\n",
              "    <path d=\"M0 0h24v24H0V0z\" fill=\"none\"/>\n",
              "    <path d=\"M18.56 5.44l.94 2.06.94-2.06 2.06-.94-2.06-.94-.94-2.06-.94 2.06-2.06.94zm-11 1L8.5 8.5l.94-2.06 2.06-.94-2.06-.94L8.5 2.5l-.94 2.06-2.06.94zm10 10l.94 2.06.94-2.06 2.06-.94-2.06-.94-.94-2.06-.94 2.06-2.06.94z\"/><path d=\"M17.41 7.96l-1.37-1.37c-.4-.4-.92-.59-1.43-.59-.52 0-1.04.2-1.43.59L10.3 9.45l-7.72 7.72c-.78.78-.78 2.05 0 2.83L4 21.41c.39.39.9.59 1.41.59.51 0 1.02-.2 1.41-.59l7.78-7.78 2.81-2.81c.8-.78.8-2.07 0-2.86zM5.41 20L4 18.59l7.72-7.72 1.47 1.35L5.41 20z\"/>\n",
              "  </svg>\n",
              "      </button>\n",
              "      \n",
              "  <style>\n",
              "    .colab-df-container {\n",
              "      display:flex;\n",
              "      flex-wrap:wrap;\n",
              "      gap: 12px;\n",
              "    }\n",
              "\n",
              "    .colab-df-convert {\n",
              "      background-color: #E8F0FE;\n",
              "      border: none;\n",
              "      border-radius: 50%;\n",
              "      cursor: pointer;\n",
              "      display: none;\n",
              "      fill: #1967D2;\n",
              "      height: 32px;\n",
              "      padding: 0 0 0 0;\n",
              "      width: 32px;\n",
              "    }\n",
              "\n",
              "    .colab-df-convert:hover {\n",
              "      background-color: #E2EBFA;\n",
              "      box-shadow: 0px 1px 2px rgba(60, 64, 67, 0.3), 0px 1px 3px 1px rgba(60, 64, 67, 0.15);\n",
              "      fill: #174EA6;\n",
              "    }\n",
              "\n",
              "    [theme=dark] .colab-df-convert {\n",
              "      background-color: #3B4455;\n",
              "      fill: #D2E3FC;\n",
              "    }\n",
              "\n",
              "    [theme=dark] .colab-df-convert:hover {\n",
              "      background-color: #434B5C;\n",
              "      box-shadow: 0px 1px 3px 1px rgba(0, 0, 0, 0.15);\n",
              "      filter: drop-shadow(0px 1px 2px rgba(0, 0, 0, 0.3));\n",
              "      fill: #FFFFFF;\n",
              "    }\n",
              "  </style>\n",
              "\n",
              "      <script>\n",
              "        const buttonEl =\n",
              "          document.querySelector('#df-0e2ffced-ddac-4bcd-aa2c-13c570c461ff button.colab-df-convert');\n",
              "        buttonEl.style.display =\n",
              "          google.colab.kernel.accessAllowed ? 'block' : 'none';\n",
              "\n",
              "        async function convertToInteractive(key) {\n",
              "          const element = document.querySelector('#df-0e2ffced-ddac-4bcd-aa2c-13c570c461ff');\n",
              "          const dataTable =\n",
              "            await google.colab.kernel.invokeFunction('convertToInteractive',\n",
              "                                                     [key], {});\n",
              "          if (!dataTable) return;\n",
              "\n",
              "          const docLinkHtml = 'Like what you see? Visit the ' +\n",
              "            '<a target=\"_blank\" href=https://colab.research.google.com/notebooks/data_table.ipynb>data table notebook</a>'\n",
              "            + ' to learn more about interactive tables.';\n",
              "          element.innerHTML = '';\n",
              "          dataTable['output_type'] = 'display_data';\n",
              "          await google.colab.output.renderOutput(dataTable, element);\n",
              "          const docLink = document.createElement('div');\n",
              "          docLink.innerHTML = docLinkHtml;\n",
              "          element.appendChild(docLink);\n",
              "        }\n",
              "      </script>\n",
              "    </div>\n",
              "  </div>\n",
              "  "
            ]
          },
          "metadata": {},
          "execution_count": 17
        }
      ]
    },
    {
      "cell_type": "code",
      "source": [
        "interaction_sparse[2, 308635]"
      ],
      "metadata": {
        "colab": {
          "base_uri": "https://localhost:8080/"
        },
        "id": "xe8c7BHNXB0k",
        "outputId": "7071cba5-2164-4847-88d5-53c6d2b6f9a0"
      },
      "id": "xe8c7BHNXB0k",
      "execution_count": null,
      "outputs": [
        {
          "output_type": "execute_result",
          "data": {
            "text/plain": [
              "0"
            ]
          },
          "metadata": {},
          "execution_count": 24
        }
      ]
    },
    {
      "cell_type": "code",
      "source": [
        "interaction_id.loc[interaction_id['auth_id'] == 2]"
      ],
      "metadata": {
        "colab": {
          "base_uri": "https://localhost:8080/",
          "height": 80
        },
        "id": "tiRzlVt3OmLh",
        "outputId": "4be0a030-2237-4036-d8ca-a531fa27142d"
      },
      "id": "tiRzlVt3OmLh",
      "execution_count": null,
      "outputs": [
        {
          "output_type": "execute_result",
          "data": {
            "text/plain": [
              "        document_id  auth_id\n",
              "308680       308634        2"
            ],
            "text/html": [
              "\n",
              "  <div id=\"df-f5bbe3d4-7f10-46e0-a2d7-1ae2efcce8fa\">\n",
              "    <div class=\"colab-df-container\">\n",
              "      <div>\n",
              "<style scoped>\n",
              "    .dataframe tbody tr th:only-of-type {\n",
              "        vertical-align: middle;\n",
              "    }\n",
              "\n",
              "    .dataframe tbody tr th {\n",
              "        vertical-align: top;\n",
              "    }\n",
              "\n",
              "    .dataframe thead th {\n",
              "        text-align: right;\n",
              "    }\n",
              "</style>\n",
              "<table border=\"1\" class=\"dataframe\">\n",
              "  <thead>\n",
              "    <tr style=\"text-align: right;\">\n",
              "      <th></th>\n",
              "      <th>document_id</th>\n",
              "      <th>auth_id</th>\n",
              "    </tr>\n",
              "  </thead>\n",
              "  <tbody>\n",
              "    <tr>\n",
              "      <th>308680</th>\n",
              "      <td>308634</td>\n",
              "      <td>2</td>\n",
              "    </tr>\n",
              "  </tbody>\n",
              "</table>\n",
              "</div>\n",
              "      <button class=\"colab-df-convert\" onclick=\"convertToInteractive('df-f5bbe3d4-7f10-46e0-a2d7-1ae2efcce8fa')\"\n",
              "              title=\"Convert this dataframe to an interactive table.\"\n",
              "              style=\"display:none;\">\n",
              "        \n",
              "  <svg xmlns=\"http://www.w3.org/2000/svg\" height=\"24px\"viewBox=\"0 0 24 24\"\n",
              "       width=\"24px\">\n",
              "    <path d=\"M0 0h24v24H0V0z\" fill=\"none\"/>\n",
              "    <path d=\"M18.56 5.44l.94 2.06.94-2.06 2.06-.94-2.06-.94-.94-2.06-.94 2.06-2.06.94zm-11 1L8.5 8.5l.94-2.06 2.06-.94-2.06-.94L8.5 2.5l-.94 2.06-2.06.94zm10 10l.94 2.06.94-2.06 2.06-.94-2.06-.94-.94-2.06-.94 2.06-2.06.94z\"/><path d=\"M17.41 7.96l-1.37-1.37c-.4-.4-.92-.59-1.43-.59-.52 0-1.04.2-1.43.59L10.3 9.45l-7.72 7.72c-.78.78-.78 2.05 0 2.83L4 21.41c.39.39.9.59 1.41.59.51 0 1.02-.2 1.41-.59l7.78-7.78 2.81-2.81c.8-.78.8-2.07 0-2.86zM5.41 20L4 18.59l7.72-7.72 1.47 1.35L5.41 20z\"/>\n",
              "  </svg>\n",
              "      </button>\n",
              "      \n",
              "  <style>\n",
              "    .colab-df-container {\n",
              "      display:flex;\n",
              "      flex-wrap:wrap;\n",
              "      gap: 12px;\n",
              "    }\n",
              "\n",
              "    .colab-df-convert {\n",
              "      background-color: #E8F0FE;\n",
              "      border: none;\n",
              "      border-radius: 50%;\n",
              "      cursor: pointer;\n",
              "      display: none;\n",
              "      fill: #1967D2;\n",
              "      height: 32px;\n",
              "      padding: 0 0 0 0;\n",
              "      width: 32px;\n",
              "    }\n",
              "\n",
              "    .colab-df-convert:hover {\n",
              "      background-color: #E2EBFA;\n",
              "      box-shadow: 0px 1px 2px rgba(60, 64, 67, 0.3), 0px 1px 3px 1px rgba(60, 64, 67, 0.15);\n",
              "      fill: #174EA6;\n",
              "    }\n",
              "\n",
              "    [theme=dark] .colab-df-convert {\n",
              "      background-color: #3B4455;\n",
              "      fill: #D2E3FC;\n",
              "    }\n",
              "\n",
              "    [theme=dark] .colab-df-convert:hover {\n",
              "      background-color: #434B5C;\n",
              "      box-shadow: 0px 1px 3px 1px rgba(0, 0, 0, 0.15);\n",
              "      filter: drop-shadow(0px 1px 2px rgba(0, 0, 0, 0.3));\n",
              "      fill: #FFFFFF;\n",
              "    }\n",
              "  </style>\n",
              "\n",
              "      <script>\n",
              "        const buttonEl =\n",
              "          document.querySelector('#df-f5bbe3d4-7f10-46e0-a2d7-1ae2efcce8fa button.colab-df-convert');\n",
              "        buttonEl.style.display =\n",
              "          google.colab.kernel.accessAllowed ? 'block' : 'none';\n",
              "\n",
              "        async function convertToInteractive(key) {\n",
              "          const element = document.querySelector('#df-f5bbe3d4-7f10-46e0-a2d7-1ae2efcce8fa');\n",
              "          const dataTable =\n",
              "            await google.colab.kernel.invokeFunction('convertToInteractive',\n",
              "                                                     [key], {});\n",
              "          if (!dataTable) return;\n",
              "\n",
              "          const docLinkHtml = 'Like what you see? Visit the ' +\n",
              "            '<a target=\"_blank\" href=https://colab.research.google.com/notebooks/data_table.ipynb>data table notebook</a>'\n",
              "            + ' to learn more about interactive tables.';\n",
              "          element.innerHTML = '';\n",
              "          dataTable['output_type'] = 'display_data';\n",
              "          await google.colab.output.renderOutput(dataTable, element);\n",
              "          const docLink = document.createElement('div');\n",
              "          docLink.innerHTML = docLinkHtml;\n",
              "          element.appendChild(docLink);\n",
              "        }\n",
              "      </script>\n",
              "    </div>\n",
              "  </div>\n",
              "  "
            ]
          },
          "metadata": {},
          "execution_count": 18
        }
      ]
    },
    {
      "cell_type": "code",
      "source": [
        "documents_with_embeddings.iloc[308634]"
      ],
      "metadata": {
        "colab": {
          "base_uri": "https://localhost:8080/"
        },
        "id": "EH3CVulQPPeK",
        "outputId": "709d128f-e205-4e92-93c0-18934fb7c850"
      },
      "id": "EH3CVulQPPeK",
      "execution_count": null,
      "outputs": [
        {
          "output_type": "execute_result",
          "data": {
            "text/plain": [
              "id                                                      2008.03380\n",
              "title            Single Cell Transcriptome Research in Human Pl...\n",
              "abstract           Human placenta is a complex and heterogeneou...\n",
              "authors_split    [Hui Li (1), Qianhui Huang (2), Yu Liu (1), La...\n",
              "embeddings       [-0.032286956906318665, 0.030336866155266762, ...\n",
              "Name: 308680, dtype: object"
            ]
          },
          "metadata": {},
          "execution_count": 19
        }
      ]
    },
    {
      "cell_type": "code",
      "source": [
        "documents_with_embeddings.iloc[308634]['authors_split']"
      ],
      "metadata": {
        "colab": {
          "base_uri": "https://localhost:8080/"
        },
        "id": "5sjdZXwwPvvg",
        "outputId": "67e7d73a-7fea-49c4-ff53-97f5be51459f"
      },
      "id": "5sjdZXwwPvvg",
      "execution_count": null,
      "outputs": [
        {
          "output_type": "execute_result",
          "data": {
            "text/plain": [
              "['Hui Li (1)',\n",
              " 'Qianhui Huang (2)',\n",
              " 'Yu Liu (1)',\n",
              " 'Lana X Garmire (1',\n",
              " '$)\\n  ((1) Department of Computational Medicine',\n",
              " 'Bioinformatics',\n",
              " 'University of\\n  Michigan',\n",
              " 'Ann Arbor',\n",
              " 'MI',\n",
              " 'USA (2) Department of Biostatistics',\n",
              " 'School of\\n  Public Health',\n",
              " 'University of Michigan',\n",
              " 'Ann Arbor',\n",
              " 'MI',\n",
              " 'USA ($) Corresponding\\n  author: lgarmire@med.umich.edu)']"
            ]
          },
          "metadata": {},
          "execution_count": 21
        }
      ]
    },
    {
      "cell_type": "code",
      "source": [
        "idx2auth = pd.read_pickle(\"./drive/MyDrive/Colab Notebooks/CE/data/idx2auth.pickle\")\n",
        "idx2doc = pd.read_pickle(\"./drive/MyDrive/Colab Notebooks/CE/data/idx2doc.pickle\")\n",
        "print(\"===========idx2doc===========\")\n",
        "print(\"idx2doc length: \" + str(len(idx2doc)))\n",
        "print(\"idx2doc example: \" + str(idx2doc[0]))\n",
        "\n",
        "\n",
        "print(\"\\n===========idx2auth===========\")\n",
        "print(\"idx2auth length: \" + str(len(idx2auth)))\n",
        "print(\"idx2auth example: \" + str(idx2auth[0]))"
      ],
      "metadata": {
        "id": "oKGASY0WI2xg",
        "colab": {
          "base_uri": "https://localhost:8080/"
        },
        "outputId": "982bc6bd-9fc7-4450-efc3-ec1938bc58e1"
      },
      "execution_count": null,
      "outputs": [
        {
          "output_type": "stream",
          "name": "stdout",
          "text": [
            "===========idx2doc===========\n",
            "idx2doc length: 581780\n",
            "idx2doc example: 0704.0479\n",
            "\n",
            "===========idx2auth===========\n",
            "idx2auth length: 972506\n",
            "idx2auth example: \"Honza\"\n",
            "  Cernock'y\n"
          ]
        }
      ],
      "id": "oKGASY0WI2xg"
    },
    {
      "cell_type": "code",
      "source": [
        "idx2doc[0]"
      ],
      "metadata": {
        "colab": {
          "base_uri": "https://localhost:8080/",
          "height": 35
        },
        "id": "RXO5o3IFJSfG",
        "outputId": "08cf3896-4830-4071-ce4f-4110c6fdc1e5"
      },
      "execution_count": null,
      "outputs": [
        {
          "output_type": "execute_result",
          "data": {
            "text/plain": [
              "'0704.0479'"
            ],
            "application/vnd.google.colaboratory.intrinsic+json": {
              "type": "string"
            }
          },
          "metadata": {},
          "execution_count": 27
        }
      ],
      "id": "RXO5o3IFJSfG"
    },
    {
      "cell_type": "code",
      "source": [
        "idx2auth[0]"
      ],
      "metadata": {
        "colab": {
          "base_uri": "https://localhost:8080/",
          "height": 35
        },
        "id": "3sz8q0VkJWzT",
        "outputId": "481fa6cc-d6c0-4126-8d4b-296d1ebb8acd"
      },
      "execution_count": null,
      "outputs": [
        {
          "output_type": "execute_result",
          "data": {
            "text/plain": [
              "'\"Honza\"\\n  Cernock\\'y'"
            ],
            "application/vnd.google.colaboratory.intrinsic+json": {
              "type": "string"
            }
          },
          "metadata": {},
          "execution_count": 28
        }
      ],
      "id": "3sz8q0VkJWzT"
    },
    {
      "cell_type": "code",
      "source": [
        "auth2idx = {k: v for v, k in enumerate(idx2auth)}"
      ],
      "metadata": {
        "id": "28vwDdw4JaSt"
      },
      "execution_count": null,
      "outputs": [],
      "id": "28vwDdw4JaSt"
    },
    {
      "cell_type": "code",
      "source": [
        "auth2idx['T.Geisser']"
      ],
      "metadata": {
        "colab": {
          "base_uri": "https://localhost:8080/"
        },
        "id": "B2CltnZTKYTr",
        "outputId": "3b7e9841-0101-44be-d7d8-c8e8ad2a117f"
      },
      "execution_count": null,
      "outputs": [
        {
          "output_type": "execute_result",
          "data": {
            "text/plain": [
              "832447"
            ]
          },
          "metadata": {},
          "execution_count": 37
        }
      ],
      "id": "B2CltnZTKYTr"
    },
    {
      "cell_type": "code",
      "source": [
        "doc2idx = {k: v for v, k in enumerate(idx2doc)}"
      ],
      "metadata": {
        "id": "gQvJSJV4J9VJ"
      },
      "execution_count": null,
      "outputs": [],
      "id": "gQvJSJV4J9VJ"
    },
    {
      "cell_type": "code",
      "source": [
        "doc2idx['0704.0479']"
      ],
      "metadata": {
        "colab": {
          "base_uri": "https://localhost:8080/"
        },
        "id": "3Jaucd3cKejV",
        "outputId": "9239f945-8ca6-4613-bc46-4a4656b8f6c5"
      },
      "execution_count": null,
      "outputs": [
        {
          "output_type": "execute_result",
          "data": {
            "text/plain": [
              "0"
            ]
          },
          "metadata": {},
          "execution_count": 31
        }
      ],
      "id": "3Jaucd3cKejV"
    },
    {
      "cell_type": "code",
      "source": [
        "with open(\"./drive/MyDrive/Colab Notebooks/CE/data/auth2idx.pickle\", \"wb\") as fp:\n",
        "  pickle.dump(auth2idx, fp)\n",
        "\n",
        "with open(\"./drive/MyDrive/Colab Notebooks/CE/data/doc2idx.pickle\", \"wb\") as fp:\n",
        "  pickle.dump(doc2idx, fp)"
      ],
      "metadata": {
        "id": "kMsejCSJKCTd"
      },
      "execution_count": null,
      "outputs": [],
      "id": "kMsejCSJKCTd"
    },
    {
      "cell_type": "code",
      "source": [
        "interaction_df = pd.read_pickle(\"./drive/MyDrive/Colab Notebooks/CE/data/interaction_df.pickle\")\n",
        "interaction_df.head(2)\n",
        "interaction_df[\"document_id\"] = [doc2idx[doc] for doc in interaction_df[\"document\"]]\n",
        "interaction_df[\"auth_id\"] = [auth2idx[auth] for auth in interaction_df[\"author\"]]\n",
        "interaction_df.head(2)\n"
      ],
      "metadata": {
        "colab": {
          "base_uri": "https://localhost:8080/",
          "height": 111
        },
        "id": "sHs_IZt1TA6j",
        "outputId": "114ac43e-78fe-4907-b42f-3e1b0bc44303"
      },
      "execution_count": null,
      "outputs": [
        {
          "output_type": "execute_result",
          "data": {
            "text/plain": [
              "    document          author  document_id  auth_id\n",
              "0  0704.0479       T.Geisser            0   832447\n",
              "1  0704.1445  Yasha Gindikin            1   927969"
            ],
            "text/html": [
              "\n",
              "  <div id=\"df-2168b2f5-c30f-4788-aefa-40932477e81d\">\n",
              "    <div class=\"colab-df-container\">\n",
              "      <div>\n",
              "<style scoped>\n",
              "    .dataframe tbody tr th:only-of-type {\n",
              "        vertical-align: middle;\n",
              "    }\n",
              "\n",
              "    .dataframe tbody tr th {\n",
              "        vertical-align: top;\n",
              "    }\n",
              "\n",
              "    .dataframe thead th {\n",
              "        text-align: right;\n",
              "    }\n",
              "</style>\n",
              "<table border=\"1\" class=\"dataframe\">\n",
              "  <thead>\n",
              "    <tr style=\"text-align: right;\">\n",
              "      <th></th>\n",
              "      <th>document</th>\n",
              "      <th>author</th>\n",
              "      <th>document_id</th>\n",
              "      <th>auth_id</th>\n",
              "    </tr>\n",
              "  </thead>\n",
              "  <tbody>\n",
              "    <tr>\n",
              "      <th>0</th>\n",
              "      <td>0704.0479</td>\n",
              "      <td>T.Geisser</td>\n",
              "      <td>0</td>\n",
              "      <td>832447</td>\n",
              "    </tr>\n",
              "    <tr>\n",
              "      <th>1</th>\n",
              "      <td>0704.1445</td>\n",
              "      <td>Yasha Gindikin</td>\n",
              "      <td>1</td>\n",
              "      <td>927969</td>\n",
              "    </tr>\n",
              "  </tbody>\n",
              "</table>\n",
              "</div>\n",
              "      <button class=\"colab-df-convert\" onclick=\"convertToInteractive('df-2168b2f5-c30f-4788-aefa-40932477e81d')\"\n",
              "              title=\"Convert this dataframe to an interactive table.\"\n",
              "              style=\"display:none;\">\n",
              "        \n",
              "  <svg xmlns=\"http://www.w3.org/2000/svg\" height=\"24px\"viewBox=\"0 0 24 24\"\n",
              "       width=\"24px\">\n",
              "    <path d=\"M0 0h24v24H0V0z\" fill=\"none\"/>\n",
              "    <path d=\"M18.56 5.44l.94 2.06.94-2.06 2.06-.94-2.06-.94-.94-2.06-.94 2.06-2.06.94zm-11 1L8.5 8.5l.94-2.06 2.06-.94-2.06-.94L8.5 2.5l-.94 2.06-2.06.94zm10 10l.94 2.06.94-2.06 2.06-.94-2.06-.94-.94-2.06-.94 2.06-2.06.94z\"/><path d=\"M17.41 7.96l-1.37-1.37c-.4-.4-.92-.59-1.43-.59-.52 0-1.04.2-1.43.59L10.3 9.45l-7.72 7.72c-.78.78-.78 2.05 0 2.83L4 21.41c.39.39.9.59 1.41.59.51 0 1.02-.2 1.41-.59l7.78-7.78 2.81-2.81c.8-.78.8-2.07 0-2.86zM5.41 20L4 18.59l7.72-7.72 1.47 1.35L5.41 20z\"/>\n",
              "  </svg>\n",
              "      </button>\n",
              "      \n",
              "  <style>\n",
              "    .colab-df-container {\n",
              "      display:flex;\n",
              "      flex-wrap:wrap;\n",
              "      gap: 12px;\n",
              "    }\n",
              "\n",
              "    .colab-df-convert {\n",
              "      background-color: #E8F0FE;\n",
              "      border: none;\n",
              "      border-radius: 50%;\n",
              "      cursor: pointer;\n",
              "      display: none;\n",
              "      fill: #1967D2;\n",
              "      height: 32px;\n",
              "      padding: 0 0 0 0;\n",
              "      width: 32px;\n",
              "    }\n",
              "\n",
              "    .colab-df-convert:hover {\n",
              "      background-color: #E2EBFA;\n",
              "      box-shadow: 0px 1px 2px rgba(60, 64, 67, 0.3), 0px 1px 3px 1px rgba(60, 64, 67, 0.15);\n",
              "      fill: #174EA6;\n",
              "    }\n",
              "\n",
              "    [theme=dark] .colab-df-convert {\n",
              "      background-color: #3B4455;\n",
              "      fill: #D2E3FC;\n",
              "    }\n",
              "\n",
              "    [theme=dark] .colab-df-convert:hover {\n",
              "      background-color: #434B5C;\n",
              "      box-shadow: 0px 1px 3px 1px rgba(0, 0, 0, 0.15);\n",
              "      filter: drop-shadow(0px 1px 2px rgba(0, 0, 0, 0.3));\n",
              "      fill: #FFFFFF;\n",
              "    }\n",
              "  </style>\n",
              "\n",
              "      <script>\n",
              "        const buttonEl =\n",
              "          document.querySelector('#df-2168b2f5-c30f-4788-aefa-40932477e81d button.colab-df-convert');\n",
              "        buttonEl.style.display =\n",
              "          google.colab.kernel.accessAllowed ? 'block' : 'none';\n",
              "\n",
              "        async function convertToInteractive(key) {\n",
              "          const element = document.querySelector('#df-2168b2f5-c30f-4788-aefa-40932477e81d');\n",
              "          const dataTable =\n",
              "            await google.colab.kernel.invokeFunction('convertToInteractive',\n",
              "                                                     [key], {});\n",
              "          if (!dataTable) return;\n",
              "\n",
              "          const docLinkHtml = 'Like what you see? Visit the ' +\n",
              "            '<a target=\"_blank\" href=https://colab.research.google.com/notebooks/data_table.ipynb>data table notebook</a>'\n",
              "            + ' to learn more about interactive tables.';\n",
              "          element.innerHTML = '';\n",
              "          dataTable['output_type'] = 'display_data';\n",
              "          await google.colab.output.renderOutput(dataTable, element);\n",
              "          const docLink = document.createElement('div');\n",
              "          docLink.innerHTML = docLinkHtml;\n",
              "          element.appendChild(docLink);\n",
              "        }\n",
              "      </script>\n",
              "    </div>\n",
              "  </div>\n",
              "  "
            ]
          },
          "metadata": {},
          "execution_count": 38
        }
      ],
      "id": "sHs_IZt1TA6j"
    },
    {
      "cell_type": "code",
      "source": [
        "interaction_df.drop(['document', 'author'], inplace=True, axis=1)\n",
        "interaction_df.head()"
      ],
      "metadata": {
        "colab": {
          "base_uri": "https://localhost:8080/",
          "height": 204
        },
        "id": "wVSWYioCWEMG",
        "outputId": "39257d9c-0f4c-462e-bcbd-6d4af37f8e35"
      },
      "execution_count": null,
      "outputs": [
        {
          "output_type": "execute_result",
          "data": {
            "text/plain": [
              "   document_id  auth_id\n",
              "0            0   832447\n",
              "1            1   927969\n",
              "1            1   887038\n",
              "2            2   640899\n",
              "2            2   716917"
            ],
            "text/html": [
              "\n",
              "  <div id=\"df-b640b037-2145-412d-b9f5-f021fd0b757e\">\n",
              "    <div class=\"colab-df-container\">\n",
              "      <div>\n",
              "<style scoped>\n",
              "    .dataframe tbody tr th:only-of-type {\n",
              "        vertical-align: middle;\n",
              "    }\n",
              "\n",
              "    .dataframe tbody tr th {\n",
              "        vertical-align: top;\n",
              "    }\n",
              "\n",
              "    .dataframe thead th {\n",
              "        text-align: right;\n",
              "    }\n",
              "</style>\n",
              "<table border=\"1\" class=\"dataframe\">\n",
              "  <thead>\n",
              "    <tr style=\"text-align: right;\">\n",
              "      <th></th>\n",
              "      <th>document_id</th>\n",
              "      <th>auth_id</th>\n",
              "    </tr>\n",
              "  </thead>\n",
              "  <tbody>\n",
              "    <tr>\n",
              "      <th>0</th>\n",
              "      <td>0</td>\n",
              "      <td>832447</td>\n",
              "    </tr>\n",
              "    <tr>\n",
              "      <th>1</th>\n",
              "      <td>1</td>\n",
              "      <td>927969</td>\n",
              "    </tr>\n",
              "    <tr>\n",
              "      <th>1</th>\n",
              "      <td>1</td>\n",
              "      <td>887038</td>\n",
              "    </tr>\n",
              "    <tr>\n",
              "      <th>2</th>\n",
              "      <td>2</td>\n",
              "      <td>640899</td>\n",
              "    </tr>\n",
              "    <tr>\n",
              "      <th>2</th>\n",
              "      <td>2</td>\n",
              "      <td>716917</td>\n",
              "    </tr>\n",
              "  </tbody>\n",
              "</table>\n",
              "</div>\n",
              "      <button class=\"colab-df-convert\" onclick=\"convertToInteractive('df-b640b037-2145-412d-b9f5-f021fd0b757e')\"\n",
              "              title=\"Convert this dataframe to an interactive table.\"\n",
              "              style=\"display:none;\">\n",
              "        \n",
              "  <svg xmlns=\"http://www.w3.org/2000/svg\" height=\"24px\"viewBox=\"0 0 24 24\"\n",
              "       width=\"24px\">\n",
              "    <path d=\"M0 0h24v24H0V0z\" fill=\"none\"/>\n",
              "    <path d=\"M18.56 5.44l.94 2.06.94-2.06 2.06-.94-2.06-.94-.94-2.06-.94 2.06-2.06.94zm-11 1L8.5 8.5l.94-2.06 2.06-.94-2.06-.94L8.5 2.5l-.94 2.06-2.06.94zm10 10l.94 2.06.94-2.06 2.06-.94-2.06-.94-.94-2.06-.94 2.06-2.06.94z\"/><path d=\"M17.41 7.96l-1.37-1.37c-.4-.4-.92-.59-1.43-.59-.52 0-1.04.2-1.43.59L10.3 9.45l-7.72 7.72c-.78.78-.78 2.05 0 2.83L4 21.41c.39.39.9.59 1.41.59.51 0 1.02-.2 1.41-.59l7.78-7.78 2.81-2.81c.8-.78.8-2.07 0-2.86zM5.41 20L4 18.59l7.72-7.72 1.47 1.35L5.41 20z\"/>\n",
              "  </svg>\n",
              "      </button>\n",
              "      \n",
              "  <style>\n",
              "    .colab-df-container {\n",
              "      display:flex;\n",
              "      flex-wrap:wrap;\n",
              "      gap: 12px;\n",
              "    }\n",
              "\n",
              "    .colab-df-convert {\n",
              "      background-color: #E8F0FE;\n",
              "      border: none;\n",
              "      border-radius: 50%;\n",
              "      cursor: pointer;\n",
              "      display: none;\n",
              "      fill: #1967D2;\n",
              "      height: 32px;\n",
              "      padding: 0 0 0 0;\n",
              "      width: 32px;\n",
              "    }\n",
              "\n",
              "    .colab-df-convert:hover {\n",
              "      background-color: #E2EBFA;\n",
              "      box-shadow: 0px 1px 2px rgba(60, 64, 67, 0.3), 0px 1px 3px 1px rgba(60, 64, 67, 0.15);\n",
              "      fill: #174EA6;\n",
              "    }\n",
              "\n",
              "    [theme=dark] .colab-df-convert {\n",
              "      background-color: #3B4455;\n",
              "      fill: #D2E3FC;\n",
              "    }\n",
              "\n",
              "    [theme=dark] .colab-df-convert:hover {\n",
              "      background-color: #434B5C;\n",
              "      box-shadow: 0px 1px 3px 1px rgba(0, 0, 0, 0.15);\n",
              "      filter: drop-shadow(0px 1px 2px rgba(0, 0, 0, 0.3));\n",
              "      fill: #FFFFFF;\n",
              "    }\n",
              "  </style>\n",
              "\n",
              "      <script>\n",
              "        const buttonEl =\n",
              "          document.querySelector('#df-b640b037-2145-412d-b9f5-f021fd0b757e button.colab-df-convert');\n",
              "        buttonEl.style.display =\n",
              "          google.colab.kernel.accessAllowed ? 'block' : 'none';\n",
              "\n",
              "        async function convertToInteractive(key) {\n",
              "          const element = document.querySelector('#df-b640b037-2145-412d-b9f5-f021fd0b757e');\n",
              "          const dataTable =\n",
              "            await google.colab.kernel.invokeFunction('convertToInteractive',\n",
              "                                                     [key], {});\n",
              "          if (!dataTable) return;\n",
              "\n",
              "          const docLinkHtml = 'Like what you see? Visit the ' +\n",
              "            '<a target=\"_blank\" href=https://colab.research.google.com/notebooks/data_table.ipynb>data table notebook</a>'\n",
              "            + ' to learn more about interactive tables.';\n",
              "          element.innerHTML = '';\n",
              "          dataTable['output_type'] = 'display_data';\n",
              "          await google.colab.output.renderOutput(dataTable, element);\n",
              "          const docLink = document.createElement('div');\n",
              "          docLink.innerHTML = docLinkHtml;\n",
              "          element.appendChild(docLink);\n",
              "        }\n",
              "      </script>\n",
              "    </div>\n",
              "  </div>\n",
              "  "
            ]
          },
          "metadata": {},
          "execution_count": 39
        }
      ],
      "id": "wVSWYioCWEMG"
    },
    {
      "cell_type": "code",
      "source": [
        "interaction_df.to_pickle(\"./drive/MyDrive/Colab Notebooks/CE/data/interaction_id.pickle\")"
      ],
      "metadata": {
        "id": "UAQrW6CsWZkF"
      },
      "execution_count": null,
      "outputs": [],
      "id": "UAQrW6CsWZkF"
    },
    {
      "cell_type": "code",
      "source": [
        "[doc2idx[doc] for doc in interaction_df[\"document\"]]"
      ],
      "metadata": {
        "id": "lp5WIPQ9TZox"
      },
      "execution_count": null,
      "outputs": [],
      "id": "lp5WIPQ9TZox"
    },
    {
      "cell_type": "code",
      "source": [
        "dataset=\"b\""
      ],
      "metadata": {
        "id": "6cVKQrfPsN7h"
      },
      "id": "6cVKQrfPsN7h",
      "execution_count": null,
      "outputs": []
    },
    {
      "cell_type": "markdown",
      "source": [
        "Cut number of papers by 4/5"
      ],
      "metadata": {
        "id": "4_Fi0anljgoA"
      },
      "id": "4_Fi0anljgoA"
    },
    {
      "cell_type": "code",
      "source": [
        "documents_with_embeddings = pd.read_pickle(\"./drive/MyDrive/Colab Notebooks/CE/data/documents_with_embeddings.pickle\")\n",
        "print(\"original number of papers: \" + str(len(documents_with_embeddings)))\n",
        "\n",
        "documents_with_embeddings_b = documents_with_embeddings.sample(int(len(documents_with_embeddings)/5))\n",
        "print(\"new number of papers: \" + str(len(documents_with_embeddings_b)))\n",
        "len(documents_with_embeddings_b)\n",
        "documents_with_embeddings_b.head(1)"
      ],
      "metadata": {
        "colab": {
          "base_uri": "https://localhost:8080/",
          "height": 175
        },
        "id": "wHLtUNdkhI_z",
        "outputId": "f735f91d-27c6-4ece-a4d2-821d50fd222a"
      },
      "id": "wHLtUNdkhI_z",
      "execution_count": null,
      "outputs": [
        {
          "output_type": "stream",
          "name": "stdout",
          "text": [
            "original number of papers: 581780\n",
            "new number of papers: 116356\n"
          ]
        },
        {
          "output_type": "execute_result",
          "data": {
            "text/plain": [
              "                id                             title  \\\n",
              "434449  2104.09453  Inharmonious Region Localization   \n",
              "\n",
              "                                                 abstract  \\\n",
              "434449    The advance of image editing techniques allo...   \n",
              "\n",
              "                             authors_split  \\\n",
              "434449  [Jing Liang, Li Niu, Liqing Zhang]   \n",
              "\n",
              "                                               embeddings  \n",
              "434449  [0.009488798677921295, 0.06872187554836273, -0...  "
            ],
            "text/html": [
              "\n",
              "  <div id=\"df-5636dc7d-3179-4414-8d6b-14f065b84fea\">\n",
              "    <div class=\"colab-df-container\">\n",
              "      <div>\n",
              "<style scoped>\n",
              "    .dataframe tbody tr th:only-of-type {\n",
              "        vertical-align: middle;\n",
              "    }\n",
              "\n",
              "    .dataframe tbody tr th {\n",
              "        vertical-align: top;\n",
              "    }\n",
              "\n",
              "    .dataframe thead th {\n",
              "        text-align: right;\n",
              "    }\n",
              "</style>\n",
              "<table border=\"1\" class=\"dataframe\">\n",
              "  <thead>\n",
              "    <tr style=\"text-align: right;\">\n",
              "      <th></th>\n",
              "      <th>id</th>\n",
              "      <th>title</th>\n",
              "      <th>abstract</th>\n",
              "      <th>authors_split</th>\n",
              "      <th>embeddings</th>\n",
              "    </tr>\n",
              "  </thead>\n",
              "  <tbody>\n",
              "    <tr>\n",
              "      <th>434449</th>\n",
              "      <td>2104.09453</td>\n",
              "      <td>Inharmonious Region Localization</td>\n",
              "      <td>The advance of image editing techniques allo...</td>\n",
              "      <td>[Jing Liang, Li Niu, Liqing Zhang]</td>\n",
              "      <td>[0.009488798677921295, 0.06872187554836273, -0...</td>\n",
              "    </tr>\n",
              "  </tbody>\n",
              "</table>\n",
              "</div>\n",
              "      <button class=\"colab-df-convert\" onclick=\"convertToInteractive('df-5636dc7d-3179-4414-8d6b-14f065b84fea')\"\n",
              "              title=\"Convert this dataframe to an interactive table.\"\n",
              "              style=\"display:none;\">\n",
              "        \n",
              "  <svg xmlns=\"http://www.w3.org/2000/svg\" height=\"24px\"viewBox=\"0 0 24 24\"\n",
              "       width=\"24px\">\n",
              "    <path d=\"M0 0h24v24H0V0z\" fill=\"none\"/>\n",
              "    <path d=\"M18.56 5.44l.94 2.06.94-2.06 2.06-.94-2.06-.94-.94-2.06-.94 2.06-2.06.94zm-11 1L8.5 8.5l.94-2.06 2.06-.94-2.06-.94L8.5 2.5l-.94 2.06-2.06.94zm10 10l.94 2.06.94-2.06 2.06-.94-2.06-.94-.94-2.06-.94 2.06-2.06.94z\"/><path d=\"M17.41 7.96l-1.37-1.37c-.4-.4-.92-.59-1.43-.59-.52 0-1.04.2-1.43.59L10.3 9.45l-7.72 7.72c-.78.78-.78 2.05 0 2.83L4 21.41c.39.39.9.59 1.41.59.51 0 1.02-.2 1.41-.59l7.78-7.78 2.81-2.81c.8-.78.8-2.07 0-2.86zM5.41 20L4 18.59l7.72-7.72 1.47 1.35L5.41 20z\"/>\n",
              "  </svg>\n",
              "      </button>\n",
              "      \n",
              "  <style>\n",
              "    .colab-df-container {\n",
              "      display:flex;\n",
              "      flex-wrap:wrap;\n",
              "      gap: 12px;\n",
              "    }\n",
              "\n",
              "    .colab-df-convert {\n",
              "      background-color: #E8F0FE;\n",
              "      border: none;\n",
              "      border-radius: 50%;\n",
              "      cursor: pointer;\n",
              "      display: none;\n",
              "      fill: #1967D2;\n",
              "      height: 32px;\n",
              "      padding: 0 0 0 0;\n",
              "      width: 32px;\n",
              "    }\n",
              "\n",
              "    .colab-df-convert:hover {\n",
              "      background-color: #E2EBFA;\n",
              "      box-shadow: 0px 1px 2px rgba(60, 64, 67, 0.3), 0px 1px 3px 1px rgba(60, 64, 67, 0.15);\n",
              "      fill: #174EA6;\n",
              "    }\n",
              "\n",
              "    [theme=dark] .colab-df-convert {\n",
              "      background-color: #3B4455;\n",
              "      fill: #D2E3FC;\n",
              "    }\n",
              "\n",
              "    [theme=dark] .colab-df-convert:hover {\n",
              "      background-color: #434B5C;\n",
              "      box-shadow: 0px 1px 3px 1px rgba(0, 0, 0, 0.15);\n",
              "      filter: drop-shadow(0px 1px 2px rgba(0, 0, 0, 0.3));\n",
              "      fill: #FFFFFF;\n",
              "    }\n",
              "  </style>\n",
              "\n",
              "      <script>\n",
              "        const buttonEl =\n",
              "          document.querySelector('#df-5636dc7d-3179-4414-8d6b-14f065b84fea button.colab-df-convert');\n",
              "        buttonEl.style.display =\n",
              "          google.colab.kernel.accessAllowed ? 'block' : 'none';\n",
              "\n",
              "        async function convertToInteractive(key) {\n",
              "          const element = document.querySelector('#df-5636dc7d-3179-4414-8d6b-14f065b84fea');\n",
              "          const dataTable =\n",
              "            await google.colab.kernel.invokeFunction('convertToInteractive',\n",
              "                                                     [key], {});\n",
              "          if (!dataTable) return;\n",
              "\n",
              "          const docLinkHtml = 'Like what you see? Visit the ' +\n",
              "            '<a target=\"_blank\" href=https://colab.research.google.com/notebooks/data_table.ipynb>data table notebook</a>'\n",
              "            + ' to learn more about interactive tables.';\n",
              "          element.innerHTML = '';\n",
              "          dataTable['output_type'] = 'display_data';\n",
              "          await google.colab.output.renderOutput(dataTable, element);\n",
              "          const docLink = document.createElement('div');\n",
              "          docLink.innerHTML = docLinkHtml;\n",
              "          element.appendChild(docLink);\n",
              "        }\n",
              "      </script>\n",
              "    </div>\n",
              "  </div>\n",
              "  "
            ]
          },
          "metadata": {},
          "execution_count": 6
        }
      ]
    },
    {
      "cell_type": "markdown",
      "source": [
        "Create interaction dataframe:"
      ],
      "metadata": {
        "id": "RRfJ0mM-kyk3"
      },
      "id": "RRfJ0mM-kyk3"
    },
    {
      "cell_type": "code",
      "source": [
        "interactions_b = documents_with_embeddings_b[['id', 'authors_split']]\n",
        "interactions_b = interactions_b.explode('authors_split')\n",
        "interactions_b = interactions_b.rename(columns = {'authors_split': 'author', 'id': 'document' })\n",
        "print(\"Number of paper to author mappings: \" + str(len(interactions_b)) + \"\\n\")\n",
        "interactions_b.head(1)"
      ],
      "metadata": {
        "colab": {
          "base_uri": "https://localhost:8080/",
          "height": 114
        },
        "id": "7sY0XqrWjVUu",
        "outputId": "9f9ac9fb-72f5-43f3-eb5c-7a74b4907a93"
      },
      "id": "7sY0XqrWjVUu",
      "execution_count": null,
      "outputs": [
        {
          "output_type": "stream",
          "name": "stdout",
          "text": [
            "Number of paper to author mappings: 577621\n",
            "\n"
          ]
        },
        {
          "output_type": "execute_result",
          "data": {
            "text/plain": [
              "          document      author\n",
              "434449  2104.09453  Jing Liang"
            ],
            "text/html": [
              "\n",
              "  <div id=\"df-002988a9-8934-4e3f-beff-ff8bbfe768bb\">\n",
              "    <div class=\"colab-df-container\">\n",
              "      <div>\n",
              "<style scoped>\n",
              "    .dataframe tbody tr th:only-of-type {\n",
              "        vertical-align: middle;\n",
              "    }\n",
              "\n",
              "    .dataframe tbody tr th {\n",
              "        vertical-align: top;\n",
              "    }\n",
              "\n",
              "    .dataframe thead th {\n",
              "        text-align: right;\n",
              "    }\n",
              "</style>\n",
              "<table border=\"1\" class=\"dataframe\">\n",
              "  <thead>\n",
              "    <tr style=\"text-align: right;\">\n",
              "      <th></th>\n",
              "      <th>document</th>\n",
              "      <th>author</th>\n",
              "    </tr>\n",
              "  </thead>\n",
              "  <tbody>\n",
              "    <tr>\n",
              "      <th>434449</th>\n",
              "      <td>2104.09453</td>\n",
              "      <td>Jing Liang</td>\n",
              "    </tr>\n",
              "  </tbody>\n",
              "</table>\n",
              "</div>\n",
              "      <button class=\"colab-df-convert\" onclick=\"convertToInteractive('df-002988a9-8934-4e3f-beff-ff8bbfe768bb')\"\n",
              "              title=\"Convert this dataframe to an interactive table.\"\n",
              "              style=\"display:none;\">\n",
              "        \n",
              "  <svg xmlns=\"http://www.w3.org/2000/svg\" height=\"24px\"viewBox=\"0 0 24 24\"\n",
              "       width=\"24px\">\n",
              "    <path d=\"M0 0h24v24H0V0z\" fill=\"none\"/>\n",
              "    <path d=\"M18.56 5.44l.94 2.06.94-2.06 2.06-.94-2.06-.94-.94-2.06-.94 2.06-2.06.94zm-11 1L8.5 8.5l.94-2.06 2.06-.94-2.06-.94L8.5 2.5l-.94 2.06-2.06.94zm10 10l.94 2.06.94-2.06 2.06-.94-2.06-.94-.94-2.06-.94 2.06-2.06.94z\"/><path d=\"M17.41 7.96l-1.37-1.37c-.4-.4-.92-.59-1.43-.59-.52 0-1.04.2-1.43.59L10.3 9.45l-7.72 7.72c-.78.78-.78 2.05 0 2.83L4 21.41c.39.39.9.59 1.41.59.51 0 1.02-.2 1.41-.59l7.78-7.78 2.81-2.81c.8-.78.8-2.07 0-2.86zM5.41 20L4 18.59l7.72-7.72 1.47 1.35L5.41 20z\"/>\n",
              "  </svg>\n",
              "      </button>\n",
              "      \n",
              "  <style>\n",
              "    .colab-df-container {\n",
              "      display:flex;\n",
              "      flex-wrap:wrap;\n",
              "      gap: 12px;\n",
              "    }\n",
              "\n",
              "    .colab-df-convert {\n",
              "      background-color: #E8F0FE;\n",
              "      border: none;\n",
              "      border-radius: 50%;\n",
              "      cursor: pointer;\n",
              "      display: none;\n",
              "      fill: #1967D2;\n",
              "      height: 32px;\n",
              "      padding: 0 0 0 0;\n",
              "      width: 32px;\n",
              "    }\n",
              "\n",
              "    .colab-df-convert:hover {\n",
              "      background-color: #E2EBFA;\n",
              "      box-shadow: 0px 1px 2px rgba(60, 64, 67, 0.3), 0px 1px 3px 1px rgba(60, 64, 67, 0.15);\n",
              "      fill: #174EA6;\n",
              "    }\n",
              "\n",
              "    [theme=dark] .colab-df-convert {\n",
              "      background-color: #3B4455;\n",
              "      fill: #D2E3FC;\n",
              "    }\n",
              "\n",
              "    [theme=dark] .colab-df-convert:hover {\n",
              "      background-color: #434B5C;\n",
              "      box-shadow: 0px 1px 3px 1px rgba(0, 0, 0, 0.15);\n",
              "      filter: drop-shadow(0px 1px 2px rgba(0, 0, 0, 0.3));\n",
              "      fill: #FFFFFF;\n",
              "    }\n",
              "  </style>\n",
              "\n",
              "      <script>\n",
              "        const buttonEl =\n",
              "          document.querySelector('#df-002988a9-8934-4e3f-beff-ff8bbfe768bb button.colab-df-convert');\n",
              "        buttonEl.style.display =\n",
              "          google.colab.kernel.accessAllowed ? 'block' : 'none';\n",
              "\n",
              "        async function convertToInteractive(key) {\n",
              "          const element = document.querySelector('#df-002988a9-8934-4e3f-beff-ff8bbfe768bb');\n",
              "          const dataTable =\n",
              "            await google.colab.kernel.invokeFunction('convertToInteractive',\n",
              "                                                     [key], {});\n",
              "          if (!dataTable) return;\n",
              "\n",
              "          const docLinkHtml = 'Like what you see? Visit the ' +\n",
              "            '<a target=\"_blank\" href=https://colab.research.google.com/notebooks/data_table.ipynb>data table notebook</a>'\n",
              "            + ' to learn more about interactive tables.';\n",
              "          element.innerHTML = '';\n",
              "          dataTable['output_type'] = 'display_data';\n",
              "          await google.colab.output.renderOutput(dataTable, element);\n",
              "          const docLink = document.createElement('div');\n",
              "          docLink.innerHTML = docLinkHtml;\n",
              "          element.appendChild(docLink);\n",
              "        }\n",
              "      </script>\n",
              "    </div>\n",
              "  </div>\n",
              "  "
            ]
          },
          "metadata": {},
          "execution_count": 37
        }
      ]
    },
    {
      "cell_type": "markdown",
      "source": [
        "Create authors (idx2auth), documents (idx2doc) and sparse matrix"
      ],
      "metadata": {
        "id": "_qnHzGfcmAuk"
      },
      "id": "_qnHzGfcmAuk"
    },
    {
      "cell_type": "code",
      "source": [
        "# authors / rows ===============================================================\n",
        "authors = list(np.sort(interactions_b.author.unique()))\n",
        "print('Number of authors: ' + str(len(authors)))\n",
        "print('10 authors: ' + str(authors[:10]))\n",
        "\n",
        "rows = interactions_b.author.astype(CategoricalDtype(categories= authors)).cat.codes \n",
        "print('entry index vs unique author index: \\n' + str(rows[:]))\n",
        "\n",
        "# documents / cols ===============================================================\n",
        "documents = list(interactions_b.document.unique())\n",
        "print('\\nNumber of documents: ' + str(len(documents)))\n",
        "print('10 documents: ' + str(documents[:10]))\n",
        "\n",
        "cols = interactions_b.document.astype(CategoricalDtype(categories= documents)).cat.codes  \n",
        "print('entry index vs unique document index: \\n' + str(cols[:]))\n",
        "\n",
        "# interactions / matrix values =================================================\n",
        "interactionStrength = [1] * len(interactions_b)\n",
        "print('\\nNumber of interactions: ' + str(len(interactionStrength)))\n",
        "print('10 interactions: ' + str(interactionStrength[-10:]))"
      ],
      "metadata": {
        "colab": {
          "base_uri": "https://localhost:8080/"
        },
        "id": "PMWLl99HlLcX",
        "outputId": "b434a7a6-b7a5-40c1-9608-2a78af9222e0"
      },
      "id": "PMWLl99HlLcX",
      "execution_count": null,
      "outputs": [
        {
          "output_type": "stream",
          "name": "stdout",
          "text": [
            "Number of authors: 331001\n",
            "10 authors: ['\"Honza\"\\n  Cernock\\'y', '((1)', '((1)\\n  Dept. of Computer Science', '((1)\\n  INAF- OAPadova', '((1)\\n  Instituto de Astrofisica de Canarias', '((1) Department of Nuclear Engineering', '((1) Department of Physics', '((1) Department of Space', '((1) Indian Institute of Astrophysics', \"((1) Inst. de Astrof\\\\'isica\\n  de Canarias\"]\n",
            "entry index vs unique author index: \n",
            "434449    142461\n",
            "434449    170641\n",
            "434449    172507\n",
            "281710     55020\n",
            "281710     55177\n",
            "           ...  \n",
            "380617    108978\n",
            "460705    261169\n",
            "460705    149086\n",
            "382731     73353\n",
            "382731     60049\n",
            "Length: 577621, dtype: int32\n",
            "\n",
            "Number of documents: 116356\n",
            "10 documents: ['2104.09453', '2006.09618', '2109.06701', '2104.11652', '2003.13459', '2201.10639', '2109.10935', '1803.03795', '2104.11894', '2005.13355']\n",
            "entry index vs unique document index: \n",
            "434449         0\n",
            "434449         0\n",
            "434449         0\n",
            "281710         1\n",
            "281710         1\n",
            "           ...  \n",
            "380617    116353\n",
            "460705    116354\n",
            "460705    116354\n",
            "382731    116355\n",
            "382731    116355\n",
            "Length: 577621, dtype: int32\n",
            "\n",
            "Number of interactions: 577621\n",
            "10 interactions: [1, 1, 1, 1, 1, 1, 1, 1, 1, 1]\n"
          ]
        }
      ]
    },
    {
      "cell_type": "code",
      "source": [
        "interaction_sparse = sparse.csr_matrix((interactionStrength, (rows, cols)), shape=(len(authors), len(documents))) \n",
        "interaction_sparse\n",
        "len(interaction_sparse.nonzero()[0])"
      ],
      "metadata": {
        "colab": {
          "base_uri": "https://localhost:8080/"
        },
        "id": "exBd1Co7lV6f",
        "outputId": "ef8d2621-1b72-4400-a042-c8e8aba54995"
      },
      "id": "exBd1Co7lV6f",
      "execution_count": null,
      "outputs": [
        {
          "output_type": "execute_result",
          "data": {
            "text/plain": [
              "575349"
            ]
          },
          "metadata": {},
          "execution_count": 39
        }
      ]
    },
    {
      "cell_type": "markdown",
      "source": [
        "Create auth2idx and doc2idx"
      ],
      "metadata": {
        "id": "YeHYCM7CmC86"
      },
      "id": "YeHYCM7CmC86"
    },
    {
      "cell_type": "code",
      "source": [
        "auth2idx = {k: v for v, k in enumerate(authors)}\n",
        "doc2idx = {k: v for v, k in enumerate(documents)}"
      ],
      "metadata": {
        "id": "puZ9MxC_lmku"
      },
      "id": "puZ9MxC_lmku",
      "execution_count": null,
      "outputs": []
    },
    {
      "cell_type": "markdown",
      "source": [
        "Replace interaction amtrix author and document columns with ids."
      ],
      "metadata": {
        "id": "esl5XLT6mIM8"
      },
      "id": "esl5XLT6mIM8"
    },
    {
      "cell_type": "code",
      "source": [
        "interactions_b[\"document_id\"] = [doc2idx[doc] for doc in interactions_b[\"document\"]]\n",
        "interactions_b[\"auth_id\"] = [auth2idx[auth] for auth in interactions_b[\"author\"]]\n",
        "interactions_b.drop(['document', 'author'], inplace=True, axis=1)\n",
        "interactions_b.head(1)"
      ],
      "metadata": {
        "colab": {
          "base_uri": "https://localhost:8080/",
          "height": 80
        },
        "id": "aINnOexflqr6",
        "outputId": "a290dab7-2581-4c8c-c876-1c99e7fdf5aa"
      },
      "id": "aINnOexflqr6",
      "execution_count": null,
      "outputs": [
        {
          "output_type": "execute_result",
          "data": {
            "text/plain": [
              "        document_id  auth_id\n",
              "434449            0   142461"
            ],
            "text/html": [
              "\n",
              "  <div id=\"df-4d54b70c-4f8c-4f55-9566-02ccbca06d5c\">\n",
              "    <div class=\"colab-df-container\">\n",
              "      <div>\n",
              "<style scoped>\n",
              "    .dataframe tbody tr th:only-of-type {\n",
              "        vertical-align: middle;\n",
              "    }\n",
              "\n",
              "    .dataframe tbody tr th {\n",
              "        vertical-align: top;\n",
              "    }\n",
              "\n",
              "    .dataframe thead th {\n",
              "        text-align: right;\n",
              "    }\n",
              "</style>\n",
              "<table border=\"1\" class=\"dataframe\">\n",
              "  <thead>\n",
              "    <tr style=\"text-align: right;\">\n",
              "      <th></th>\n",
              "      <th>document_id</th>\n",
              "      <th>auth_id</th>\n",
              "    </tr>\n",
              "  </thead>\n",
              "  <tbody>\n",
              "    <tr>\n",
              "      <th>434449</th>\n",
              "      <td>0</td>\n",
              "      <td>142461</td>\n",
              "    </tr>\n",
              "  </tbody>\n",
              "</table>\n",
              "</div>\n",
              "      <button class=\"colab-df-convert\" onclick=\"convertToInteractive('df-4d54b70c-4f8c-4f55-9566-02ccbca06d5c')\"\n",
              "              title=\"Convert this dataframe to an interactive table.\"\n",
              "              style=\"display:none;\">\n",
              "        \n",
              "  <svg xmlns=\"http://www.w3.org/2000/svg\" height=\"24px\"viewBox=\"0 0 24 24\"\n",
              "       width=\"24px\">\n",
              "    <path d=\"M0 0h24v24H0V0z\" fill=\"none\"/>\n",
              "    <path d=\"M18.56 5.44l.94 2.06.94-2.06 2.06-.94-2.06-.94-.94-2.06-.94 2.06-2.06.94zm-11 1L8.5 8.5l.94-2.06 2.06-.94-2.06-.94L8.5 2.5l-.94 2.06-2.06.94zm10 10l.94 2.06.94-2.06 2.06-.94-2.06-.94-.94-2.06-.94 2.06-2.06.94z\"/><path d=\"M17.41 7.96l-1.37-1.37c-.4-.4-.92-.59-1.43-.59-.52 0-1.04.2-1.43.59L10.3 9.45l-7.72 7.72c-.78.78-.78 2.05 0 2.83L4 21.41c.39.39.9.59 1.41.59.51 0 1.02-.2 1.41-.59l7.78-7.78 2.81-2.81c.8-.78.8-2.07 0-2.86zM5.41 20L4 18.59l7.72-7.72 1.47 1.35L5.41 20z\"/>\n",
              "  </svg>\n",
              "      </button>\n",
              "      \n",
              "  <style>\n",
              "    .colab-df-container {\n",
              "      display:flex;\n",
              "      flex-wrap:wrap;\n",
              "      gap: 12px;\n",
              "    }\n",
              "\n",
              "    .colab-df-convert {\n",
              "      background-color: #E8F0FE;\n",
              "      border: none;\n",
              "      border-radius: 50%;\n",
              "      cursor: pointer;\n",
              "      display: none;\n",
              "      fill: #1967D2;\n",
              "      height: 32px;\n",
              "      padding: 0 0 0 0;\n",
              "      width: 32px;\n",
              "    }\n",
              "\n",
              "    .colab-df-convert:hover {\n",
              "      background-color: #E2EBFA;\n",
              "      box-shadow: 0px 1px 2px rgba(60, 64, 67, 0.3), 0px 1px 3px 1px rgba(60, 64, 67, 0.15);\n",
              "      fill: #174EA6;\n",
              "    }\n",
              "\n",
              "    [theme=dark] .colab-df-convert {\n",
              "      background-color: #3B4455;\n",
              "      fill: #D2E3FC;\n",
              "    }\n",
              "\n",
              "    [theme=dark] .colab-df-convert:hover {\n",
              "      background-color: #434B5C;\n",
              "      box-shadow: 0px 1px 3px 1px rgba(0, 0, 0, 0.15);\n",
              "      filter: drop-shadow(0px 1px 2px rgba(0, 0, 0, 0.3));\n",
              "      fill: #FFFFFF;\n",
              "    }\n",
              "  </style>\n",
              "\n",
              "      <script>\n",
              "        const buttonEl =\n",
              "          document.querySelector('#df-4d54b70c-4f8c-4f55-9566-02ccbca06d5c button.colab-df-convert');\n",
              "        buttonEl.style.display =\n",
              "          google.colab.kernel.accessAllowed ? 'block' : 'none';\n",
              "\n",
              "        async function convertToInteractive(key) {\n",
              "          const element = document.querySelector('#df-4d54b70c-4f8c-4f55-9566-02ccbca06d5c');\n",
              "          const dataTable =\n",
              "            await google.colab.kernel.invokeFunction('convertToInteractive',\n",
              "                                                     [key], {});\n",
              "          if (!dataTable) return;\n",
              "\n",
              "          const docLinkHtml = 'Like what you see? Visit the ' +\n",
              "            '<a target=\"_blank\" href=https://colab.research.google.com/notebooks/data_table.ipynb>data table notebook</a>'\n",
              "            + ' to learn more about interactive tables.';\n",
              "          element.innerHTML = '';\n",
              "          dataTable['output_type'] = 'display_data';\n",
              "          await google.colab.output.renderOutput(dataTable, element);\n",
              "          const docLink = document.createElement('div');\n",
              "          docLink.innerHTML = docLinkHtml;\n",
              "          element.appendChild(docLink);\n",
              "        }\n",
              "      </script>\n",
              "    </div>\n",
              "  </div>\n",
              "  "
            ]
          },
          "metadata": {},
          "execution_count": 14
        }
      ]
    },
    {
      "cell_type": "markdown",
      "source": [
        ""
      ],
      "metadata": {
        "id": "dpvtk_VRnS4J"
      },
      "id": "dpvtk_VRnS4J"
    },
    {
      "cell_type": "code",
      "source": [
        "index= 3\n",
        "sample = interactions_b.iloc[index]\n",
        "print(\"document id: \" + str(sample[0]))\n",
        "print(\"author id: \" + str(sample[1]))\n",
        "print(\"document: \" + str(documents[sample[0]]))\n",
        "print(\"author: \" + str(authors[sample[1]]))\n",
        "\n",
        "documents_with_embeddings_b.iloc[sample[0]]"
      ],
      "metadata": {
        "colab": {
          "base_uri": "https://localhost:8080/"
        },
        "id": "rbJwpYZFndvx",
        "outputId": "1428b01e-22af-4ed1-8c82-2af106d8e190"
      },
      "id": "rbJwpYZFndvx",
      "execution_count": null,
      "outputs": [
        {
          "output_type": "stream",
          "name": "stdout",
          "text": [
            "document id: 1\n",
            "author id: 55020\n",
            "document: 2006.09618\n",
            "author: Chieh-Ning Fang\n"
          ]
        },
        {
          "output_type": "execute_result",
          "data": {
            "text/plain": [
              "id                                                      2006.09618\n",
              "title            Multi-Subspace Neural Network for Image Recogn...\n",
              "abstract           In image classification task, feature extrac...\n",
              "authors_split                     [Chieh-Ning Fang, Chin-Teng Lin]\n",
              "embeddings       [-0.05456922948360443, -0.08356084674596786, 0...\n",
              "Name: 281710, dtype: object"
            ]
          },
          "metadata": {},
          "execution_count": 25
        }
      ]
    },
    {
      "cell_type": "markdown",
      "source": [
        "Save:"
      ],
      "metadata": {
        "id": "4mEegNheruxr"
      },
      "id": "4mEegNheruxr"
    },
    {
      "cell_type": "code",
      "source": [
        "scipy.sparse.save_npz(\"./drive/MyDrive/Colab Notebooks/CE/data/\"+ dataset +\"/interaction_sparse.npz\", interaction_sparse)\n",
        "documents_with_embeddings_b.to_pickle(\"./drive/MyDrive/Colab Notebooks/CE/data/\"+ dataset +\"/documents_with_embeddings.pickle\")\n",
        "interactions_b.to_pickle(\"./drive/MyDrive/Colab Notebooks/CE/data/\"+ dataset +\"/interactions.pickle\")"
      ],
      "metadata": {
        "id": "-HkiwG-0ruaF"
      },
      "id": "-HkiwG-0ruaF",
      "execution_count": null,
      "outputs": []
    },
    {
      "cell_type": "markdown",
      "source": [
        "## Author Frequency Analysis"
      ],
      "metadata": {
        "id": "_pdFvXOZvssj"
      },
      "id": "_pdFvXOZvssj"
    },
    {
      "cell_type": "code",
      "source": [
        "documents_with_embeddings = pd.read_pickle(\"./drive/MyDrive/Colab Notebooks/CE/data/documents_with_embeddings.pickle\")"
      ],
      "metadata": {
        "id": "sPcTJPIcgyNH"
      },
      "id": "sPcTJPIcgyNH",
      "execution_count": null,
      "outputs": []
    },
    {
      "cell_type": "code",
      "source": [
        "interaction_id= pd.read_pickle(\"./drive/MyDrive/Colab Notebooks/CE/data/interaction_id.pickle\")"
      ],
      "metadata": {
        "id": "FCqUlJEDvy23"
      },
      "id": "FCqUlJEDvy23",
      "execution_count": null,
      "outputs": []
    },
    {
      "cell_type": "markdown",
      "source": [
        "### Create Dataset by Minimum Author Frequency"
      ],
      "metadata": {
        "id": "s7QkAvPN2zfl"
      },
      "id": "s7QkAvPN2zfl"
    },
    {
      "cell_type": "code",
      "source": [
        "def filter_by_freq(df: pd.DataFrame, column: str, min_freq: int) -> pd.DataFrame:\n",
        "    \"\"\"Filters the DataFrame based on the value frequency in the specified column.\n",
        "\n",
        "    :param df: DataFrame to be filtered.\n",
        "    :param column: Column name that should be frequency filtered.\n",
        "    :param min_freq: Minimal value frequency for the row to be accepted.\n",
        "    :return: Frequency filtered DataFrame.\n",
        "    \"\"\"\n",
        "    # Frequencies of each value in the column.\n",
        "    freq = df[column].value_counts()\n",
        "    # Select frequent values. Value is in the index.\n",
        "    frequent_values = freq[freq >= min_freq].index\n",
        "    # Return only rows with value frequency above threshold.\n",
        "    return df[df[column].isin(frequent_values)]"
      ],
      "metadata": {
        "id": "DXFMkQep5q2w"
      },
      "execution_count": null,
      "outputs": [],
      "id": "DXFMkQep5q2w"
    },
    {
      "cell_type": "code",
      "source": [
        "def createMinAuthFreqDataset(interaction_df, doc_w_embeddings, dataset, n=10, print_output = False, save=True, sample_index=0):\n",
        "  # ================ FILTER BY AUTHOR FREQUENCY =====================================================================================================\n",
        "  interaction_min_freq_id = filter_by_freq(interaction_df, \"auth_id\", n)\n",
        "\n",
        "  if (print_output):\n",
        "    print(\"\\n=================== Filter by Author Frequency ===================\")\n",
        "    print(\"Orginal number of interaction (interaction_df) : \" + str(len(interaction_df)))\n",
        "    print(\"new number of interaction (interaction_min_freq_id) : \" + str(len(interaction_min_freq_id)))\n",
        "    counts_min_freq = interaction_min_freq_id[\"auth_id\"].value_counts()\n",
        "    counts_counts_min_freq = counts_min_freq.value_counts()\n",
        "    plt.yscale('log')\n",
        "    plt.plot(range(0,len(counts_counts_min_freq)), counts_counts_min_freq, linestyle=\"\",marker=\"o\")\n",
        "    plt.title(\"Author Frequency Distribution\")\n",
        "    plt.show()\n",
        "\n",
        "  # ================ REDUCE DOCUMENTS WITH EMBEDDINGS TO FITLERED INTERACTION =====================================================================================================\n",
        "  \n",
        "  docIds_unique = pd.unique(interaction_min_freq_id['document_id'])\n",
        "  doc_w_embeddings_min_freq = doc_w_embeddings.iloc[docIds_unique].reset_index()\n",
        "\n",
        "  interaction_min_freq = doc_w_embeddings_min_freq[['id', 'authors_split']]\n",
        "  interaction_min_freq = interaction_min_freq.explode('authors_split')\n",
        "  interaction_min_freq = interaction_min_freq.rename(columns = {'authors_split': 'author', 'id': 'document' })\n",
        "  interaction_min_freq = filter_by_freq(interaction_min_freq, \"author\", 10)\n",
        "  \n",
        "  if (print_output):\n",
        "    print(\"\\n=================== Reduce documents with embeddings ===================\")\n",
        "    print(\"Original number of documents with embeddings (doc_w_embeddings) : \" + str(len(doc_w_embeddings)))\n",
        "    print(\"Number of unqiue document Ids (docIds_unique) : \" + str(len(docIds_unique)))\n",
        "    print(\"New number of documents with embeddings (doc_w_embeddings_min_freq) : \" + str(len(doc_w_embeddings_min_freq)))\n",
        "    print(\"Number of interaction (interaction_min_freq) : \" + str(len(interaction_min_freq)))\n",
        "\n",
        "  # ================ SPARSE INTERACTION MATRIX =====================================================================================================\n",
        "  \n",
        "    # authors / rows\n",
        "  authors = list(np.sort(interaction_min_freq.author.unique()))\n",
        "  rows = interaction_min_freq.author.astype(CategoricalDtype(categories= authors)).cat.codes \n",
        "\n",
        "    # documents / cols\n",
        "  documents = list(interaction_min_freq.document.unique()) \n",
        "  cols = interaction_min_freq.document.astype(CategoricalDtype(categories= documents)).cat.codes  \n",
        "  \n",
        "    # interactions / matrix values =================================================\n",
        "  interactionStrength = [1] * len(interaction_min_freq)\n",
        "\n",
        "  interaction_sparse = sparse.csr_matrix((interactionStrength, (rows, cols)), shape=(len(authors), len(documents))) \n",
        "\n",
        "  if (print_output):\n",
        "    print(\"\\n=================== Sparse Interaction Matrix ===================\")\n",
        "    print('Number of authors (authors): ' + str(len(authors)))\n",
        "    print('Number of documents (documents): ' + str(len(documents)))\n",
        "    print('Number of interactions (interactionStrength): ' + str(len(interactionStrength)))\n",
        "    print('Number of non zero entries in interaction matrix (interaction_sparse): ' + str(len(interaction_sparse.nonzero()[0])))\n",
        "\n",
        "  # ================ CONVERT INTERACTION DF TO IDs =====================================================================================================\n",
        "  auth2idx = {k: v for v, k in enumerate(authors)}\n",
        "  doc2idx = {k: v for v, k in enumerate(documents)}\n",
        "\n",
        "  interaction_min_freq[\"document_id\"] = [doc2idx[doc] for doc in interaction_min_freq[\"document\"]]\n",
        "  interaction_min_freq[\"auth_id\"] = [auth2idx[auth] for auth in interaction_min_freq[\"author\"]]\n",
        "  interaction_min_freq.drop(['document', 'author'], inplace=True, axis=1)\n",
        "\n",
        "  if (print_output):\n",
        "    print(\"\\n=================== Convert Interaction Df to IDs ===================\")\n",
        "    print(\"Interaction dataframe matches original dataframe (interaction_min_freq == interaction_min_freq_id): \" + str(interaction_min_freq_id.equals(interaction_min_freq)))\n",
        "    print('Number of authors (auth2idx): ' + str(len(auth2idx)))\n",
        "    print('Number of documents (doc2idx): ' + str(len(doc2idx)))\n",
        "\n",
        "  # ================ Print sample index =====================================================================================================\n",
        "  if (print_output):\n",
        "    sample = interaction_min_freq.iloc[sample_index]\n",
        "    print(\"\\n=================== Convert Interaction Df to IDs ===================\")\n",
        "    print(\"sample index = \" + str(sample_index))\n",
        "    document_id = sample[0]\n",
        "    author_id = sample[1]\n",
        "    print(\"document id: \" + str(document_id))\n",
        "    print(\"author id: \" + str(author_id))\n",
        "    \n",
        "    document = documents[document_id]\n",
        "    author = authors[author_id]\n",
        "    print(\"document (from documents): \" + str(document))\n",
        "    print(\"author (from authors): \" + str(author))\n",
        "    print(\"document index/id (from doc2idx): \" + str(doc2idx[document]))\n",
        "    print(\"author index/id (from auth2idx): \" + str(auth2idx[author]))\n",
        "    \n",
        "    doc_from_original = doc_w_embeddings.loc[doc_w_embeddings['id'] == document]\n",
        "    doc_from_min_freq = doc_w_embeddings_min_freq.iloc[[document_id]]\n",
        "    \n",
        "    print(\"\\n Document from original (doc_from_original from doc_w_embeddings): \")\n",
        "    display(doc_from_original)\n",
        "\n",
        "    print(\"\\n Document from min frequency (doc_from_min_freq from doc_w_embeddings_min_freq): \")\n",
        "    display(doc_from_min_freq)\n",
        "\n",
        "  # ================ SAVE DATA =====================================================================================================\n",
        "  if (save):\n",
        "    if not os.path.exists(\"./drive/MyDrive/Colab Notebooks/CE/data/\"+ dataset):\n",
        "      os.makedirs(\"./drive/MyDrive/Colab Notebooks/CE/data/\"+ dataset)\n",
        "    scipy.sparse.save_npz(\"./drive/MyDrive/Colab Notebooks/CE/data/\"+ dataset +\"/interaction_sparse.npz\", interaction_sparse)\n",
        "    doc_w_embeddings_min_freq.to_pickle(\"./drive/MyDrive/Colab Notebooks/CE/data/\"+ dataset +\"/documents_with_embeddings.pickle\")\n",
        "    interaction_min_freq.to_pickle(\"./drive/MyDrive/Colab Notebooks/CE/data/\"+ dataset +\"/interactions.pickle\")\n",
        "  return authors"
      ],
      "metadata": {
        "id": "9H_JIYAD258u"
      },
      "id": "9H_JIYAD258u",
      "execution_count": null,
      "outputs": []
    },
    {
      "cell_type": "markdown",
      "source": [
        "### Min = 10"
      ],
      "metadata": {
        "id": "nU_hdoNM8AMG"
      },
      "id": "nU_hdoNM8AMG"
    },
    {
      "cell_type": "code",
      "source": [
        "authors = createMinAuthFreqDataset(\n",
        "    interaction_df = interaction_id, \n",
        "    doc_w_embeddings = documents_with_embeddings, \n",
        "    dataset = \"min10\", \n",
        "    n = 10,  \n",
        "    print_output = True, \n",
        "    save = True,\n",
        "    sample_index = 0)"
      ],
      "metadata": {
        "colab": {
          "base_uri": "https://localhost:8080/",
          "height": 1000
        },
        "id": "UjWIh_w_GmTP",
        "outputId": "51b0f091-14f5-4221-da65-59af7300147d"
      },
      "execution_count": null,
      "outputs": [
        {
          "output_type": "stream",
          "name": "stdout",
          "text": [
            "\n",
            "=================== Filter by Author Frequency ===================\n",
            "Orginal number of interaction (interaction_df) : 2894399\n",
            "new number of interaction (interaction_min_freq_id) : 1148755\n"
          ]
        },
        {
          "output_type": "display_data",
          "data": {
            "text/plain": [
              "<Figure size 432x288 with 1 Axes>"
            ],
            "image/png": "[encoded data removed]"
          },
          "metadata": {
            "needs_background": "light"
          }
        },
        {
          "output_type": "stream",
          "name": "stdout",
          "text": [
            "\n",
            "=================== Reduce documents with embeddings ===================\n",
            "Original number of documents with embeddings (doc_w_embeddings) : 581780\n",
            "Number of unqiue document Ids (docIds_unique) : 338848\n",
            "New number of documents with embeddings (doc_w_embeddings_min_freq) : 338848\n",
            "Number of interaction (interaction_min_freq) : 1148755\n",
            "\n",
            "=================== Sparse Interaction Matrix ===================\n",
            "Number of authors (authors): 48591\n",
            "Number of documents (documents): 338848\n",
            "Number of interactions (interactionStrength): 1148755\n",
            "Number of non zero entries in interaction matrix (interaction_sparse): 1138850\n",
            "\n",
            "=================== Convert Interaction Df to IDs ===================\n",
            "Interaction dataframe matches original dataframe (interaction_min_freq == interaction_min_freq_id): False\n",
            "Number of authors (auth2idx): 48591\n",
            "Number of documents (doc2idx): 338848\n",
            "\n",
            "=================== Convert Interaction Df to IDs ===================\n",
            "sample index = 0\n",
            "document id: 0\n",
            "author id: 43060\n",
            "document (from documents): 0704.1445\n",
            "author (from authors): Vladimir A. Sablikov\n",
            "document index/id (from doc2idx): 0\n",
            "author index/id (from auth2idx): 43060\n",
            "\n",
            " Document from original (doc_from_original from doc_w_embeddings): \n"
          ]
        },
        {
          "output_type": "display_data",
          "data": {
            "text/plain": [
              "          id                                              title  \\\n",
              "1  0704.1445  Deformed Wigner crystal in a one-dimensional q...   \n",
              "\n",
              "                                            abstract  \\\n",
              "1    The spatial Fourier spectrum of the electron...   \n",
              "\n",
              "                            authors_split  \\\n",
              "1  [Yasha Gindikin, Vladimir A. Sablikov]   \n",
              "\n",
              "                                          embeddings  \n",
              "1  [0.06974620372056961, 0.026879271492362022, 0....  "
            ],
            "text/html": [
              "\n",
              "  <div id=\"df-992d0846-c173-42f7-8856-8c61ea388131\">\n",
              "    <div class=\"colab-df-container\">\n",
              "      <div>\n",
              "<style scoped>\n",
              "    .dataframe tbody tr th:only-of-type {\n",
              "        vertical-align: middle;\n",
              "    }\n",
              "\n",
              "    .dataframe tbody tr th {\n",
              "        vertical-align: top;\n",
              "    }\n",
              "\n",
              "    .dataframe thead th {\n",
              "        text-align: right;\n",
              "    }\n",
              "</style>\n",
              "<table border=\"1\" class=\"dataframe\">\n",
              "  <thead>\n",
              "    <tr style=\"text-align: right;\">\n",
              "      <th></th>\n",
              "      <th>id</th>\n",
              "      <th>title</th>\n",
              "      <th>abstract</th>\n",
              "      <th>authors_split</th>\n",
              "      <th>embeddings</th>\n",
              "    </tr>\n",
              "  </thead>\n",
              "  <tbody>\n",
              "    <tr>\n",
              "      <th>1</th>\n",
              "      <td>0704.1445</td>\n",
              "      <td>Deformed Wigner crystal in a one-dimensional q...</td>\n",
              "      <td>The spatial Fourier spectrum of the electron...</td>\n",
              "      <td>[Yasha Gindikin, Vladimir A. Sablikov]</td>\n",
              "      <td>[0.06974620372056961, 0.026879271492362022, 0....</td>\n",
              "    </tr>\n",
              "  </tbody>\n",
              "</table>\n",
              "</div>\n",
              "      <button class=\"colab-df-convert\" onclick=\"convertToInteractive('df-992d0846-c173-42f7-8856-8c61ea388131')\"\n",
              "              title=\"Convert this dataframe to an interactive table.\"\n",
              "              style=\"display:none;\">\n",
              "        \n",
              "  <svg xmlns=\"http://www.w3.org/2000/svg\" height=\"24px\"viewBox=\"0 0 24 24\"\n",
              "       width=\"24px\">\n",
              "    <path d=\"M0 0h24v24H0V0z\" fill=\"none\"/>\n",
              "    <path d=\"M18.56 5.44l.94 2.06.94-2.06 2.06-.94-2.06-.94-.94-2.06-.94 2.06-2.06.94zm-11 1L8.5 8.5l.94-2.06 2.06-.94-2.06-.94L8.5 2.5l-.94 2.06-2.06.94zm10 10l.94 2.06.94-2.06 2.06-.94-2.06-.94-.94-2.06-.94 2.06-2.06.94z\"/><path d=\"M17.41 7.96l-1.37-1.37c-.4-.4-.92-.59-1.43-.59-.52 0-1.04.2-1.43.59L10.3 9.45l-7.72 7.72c-.78.78-.78 2.05 0 2.83L4 21.41c.39.39.9.59 1.41.59.51 0 1.02-.2 1.41-.59l7.78-7.78 2.81-2.81c.8-.78.8-2.07 0-2.86zM5.41 20L4 18.59l7.72-7.72 1.47 1.35L5.41 20z\"/>\n",
              "  </svg>\n",
              "      </button>\n",
              "      \n",
              "  <style>\n",
              "    .colab-df-container {\n",
              "      display:flex;\n",
              "      flex-wrap:wrap;\n",
              "      gap: 12px;\n",
              "    }\n",
              "\n",
              "    .colab-df-convert {\n",
              "      background-color: #E8F0FE;\n",
              "      border: none;\n",
              "      border-radius: 50%;\n",
              "      cursor: pointer;\n",
              "      display: none;\n",
              "      fill: #1967D2;\n",
              "      height: 32px;\n",
              "      padding: 0 0 0 0;\n",
              "      width: 32px;\n",
              "    }\n",
              "\n",
              "    .colab-df-convert:hover {\n",
              "      background-color: #E2EBFA;\n",
              "      box-shadow: 0px 1px 2px rgba(60, 64, 67, 0.3), 0px 1px 3px 1px rgba(60, 64, 67, 0.15);\n",
              "      fill: #174EA6;\n",
              "    }\n",
              "\n",
              "    [theme=dark] .colab-df-convert {\n",
              "      background-color: #3B4455;\n",
              "      fill: #D2E3FC;\n",
              "    }\n",
              "\n",
              "    [theme=dark] .colab-df-convert:hover {\n",
              "      background-color: #434B5C;\n",
              "      box-shadow: 0px 1px 3px 1px rgba(0, 0, 0, 0.15);\n",
              "      filter: drop-shadow(0px 1px 2px rgba(0, 0, 0, 0.3));\n",
              "      fill: #FFFFFF;\n",
              "    }\n",
              "  </style>\n",
              "\n",
              "      <script>\n",
              "        const buttonEl =\n",
              "          document.querySelector('#df-992d0846-c173-42f7-8856-8c61ea388131 button.colab-df-convert');\n",
              "        buttonEl.style.display =\n",
              "          google.colab.kernel.accessAllowed ? 'block' : 'none';\n",
              "\n",
              "        async function convertToInteractive(key) {\n",
              "          const element = document.querySelector('#df-992d0846-c173-42f7-8856-8c61ea388131');\n",
              "          const dataTable =\n",
              "            await google.colab.kernel.invokeFunction('convertToInteractive',\n",
              "                                                     [key], {});\n",
              "          if (!dataTable) return;\n",
              "\n",
              "          const docLinkHtml = 'Like what you see? Visit the ' +\n",
              "            '<a target=\"_blank\" href=https://colab.research.google.com/notebooks/data_table.ipynb>data table notebook</a>'\n",
              "            + ' to learn more about interactive tables.';\n",
              "          element.innerHTML = '';\n",
              "          dataTable['output_type'] = 'display_data';\n",
              "          await google.colab.output.renderOutput(dataTable, element);\n",
              "          const docLink = document.createElement('div');\n",
              "          docLink.innerHTML = docLinkHtml;\n",
              "          element.appendChild(docLink);\n",
              "        }\n",
              "      </script>\n",
              "    </div>\n",
              "  </div>\n",
              "  "
            ]
          },
          "metadata": {}
        },
        {
          "output_type": "stream",
          "name": "stdout",
          "text": [
            "\n",
            " Document from min frequency (doc_from_min_freq from doc_w_embeddings_min_freq): \n"
          ]
        },
        {
          "output_type": "display_data",
          "data": {
            "text/plain": [
              "   index         id                                              title  \\\n",
              "0      1  0704.1445  Deformed Wigner crystal in a one-dimensional q...   \n",
              "\n",
              "                                            abstract  \\\n",
              "0    The spatial Fourier spectrum of the electron...   \n",
              "\n",
              "                            authors_split  \\\n",
              "0  [Yasha Gindikin, Vladimir A. Sablikov]   \n",
              "\n",
              "                                          embeddings  \n",
              "0  [0.06974620372056961, 0.026879271492362022, 0....  "
            ],
            "text/html": [
              "\n",
              "  <div id=\"df-7fa5bdae-8baa-4df5-a039-34c79f4350a0\">\n",
              "    <div class=\"colab-df-container\">\n",
              "      <div>\n",
              "<style scoped>\n",
              "    .dataframe tbody tr th:only-of-type {\n",
              "        vertical-align: middle;\n",
              "    }\n",
              "\n",
              "    .dataframe tbody tr th {\n",
              "        vertical-align: top;\n",
              "    }\n",
              "\n",
              "    .dataframe thead th {\n",
              "        text-align: right;\n",
              "    }\n",
              "</style>\n",
              "<table border=\"1\" class=\"dataframe\">\n",
              "  <thead>\n",
              "    <tr style=\"text-align: right;\">\n",
              "      <th></th>\n",
              "      <th>index</th>\n",
              "      <th>id</th>\n",
              "      <th>title</th>\n",
              "      <th>abstract</th>\n",
              "      <th>authors_split</th>\n",
              "      <th>embeddings</th>\n",
              "    </tr>\n",
              "  </thead>\n",
              "  <tbody>\n",
              "    <tr>\n",
              "      <th>0</th>\n",
              "      <td>1</td>\n",
              "      <td>0704.1445</td>\n",
              "      <td>Deformed Wigner crystal in a one-dimensional q...</td>\n",
              "      <td>The spatial Fourier spectrum of the electron...</td>\n",
              "      <td>[Yasha Gindikin, Vladimir A. Sablikov]</td>\n",
              "      <td>[0.06974620372056961, 0.026879271492362022, 0....</td>\n",
              "    </tr>\n",
              "  </tbody>\n",
              "</table>\n",
              "</div>\n",
              "      <button class=\"colab-df-convert\" onclick=\"convertToInteractive('df-7fa5bdae-8baa-4df5-a039-34c79f4350a0')\"\n",
              "              title=\"Convert this dataframe to an interactive table.\"\n",
              "              style=\"display:none;\">\n",
              "        \n",
              "  <svg xmlns=\"http://www.w3.org/2000/svg\" height=\"24px\"viewBox=\"0 0 24 24\"\n",
              "       width=\"24px\">\n",
              "    <path d=\"M0 0h24v24H0V0z\" fill=\"none\"/>\n",
              "    <path d=\"M18.56 5.44l.94 2.06.94-2.06 2.06-.94-2.06-.94-.94-2.06-.94 2.06-2.06.94zm-11 1L8.5 8.5l.94-2.06 2.06-.94-2.06-.94L8.5 2.5l-.94 2.06-2.06.94zm10 10l.94 2.06.94-2.06 2.06-.94-2.06-.94-.94-2.06-.94 2.06-2.06.94z\"/><path d=\"M17.41 7.96l-1.37-1.37c-.4-.4-.92-.59-1.43-.59-.52 0-1.04.2-1.43.59L10.3 9.45l-7.72 7.72c-.78.78-.78 2.05 0 2.83L4 21.41c.39.39.9.59 1.41.59.51 0 1.02-.2 1.41-.59l7.78-7.78 2.81-2.81c.8-.78.8-2.07 0-2.86zM5.41 20L4 18.59l7.72-7.72 1.47 1.35L5.41 20z\"/>\n",
              "  </svg>\n",
              "      </button>\n",
              "      \n",
              "  <style>\n",
              "    .colab-df-container {\n",
              "      display:flex;\n",
              "      flex-wrap:wrap;\n",
              "      gap: 12px;\n",
              "    }\n",
              "\n",
              "    .colab-df-convert {\n",
              "      background-color: #E8F0FE;\n",
              "      border: none;\n",
              "      border-radius: 50%;\n",
              "      cursor: pointer;\n",
              "      display: none;\n",
              "      fill: #1967D2;\n",
              "      height: 32px;\n",
              "      padding: 0 0 0 0;\n",
              "      width: 32px;\n",
              "    }\n",
              "\n",
              "    .colab-df-convert:hover {\n",
              "      background-color: #E2EBFA;\n",
              "      box-shadow: 0px 1px 2px rgba(60, 64, 67, 0.3), 0px 1px 3px 1px rgba(60, 64, 67, 0.15);\n",
              "      fill: #174EA6;\n",
              "    }\n",
              "\n",
              "    [theme=dark] .colab-df-convert {\n",
              "      background-color: #3B4455;\n",
              "      fill: #D2E3FC;\n",
              "    }\n",
              "\n",
              "    [theme=dark] .colab-df-convert:hover {\n",
              "      background-color: #434B5C;\n",
              "      box-shadow: 0px 1px 3px 1px rgba(0, 0, 0, 0.15);\n",
              "      filter: drop-shadow(0px 1px 2px rgba(0, 0, 0, 0.3));\n",
              "      fill: #FFFFFF;\n",
              "    }\n",
              "  </style>\n",
              "\n",
              "      <script>\n",
              "        const buttonEl =\n",
              "          document.querySelector('#df-7fa5bdae-8baa-4df5-a039-34c79f4350a0 button.colab-df-convert');\n",
              "        buttonEl.style.display =\n",
              "          google.colab.kernel.accessAllowed ? 'block' : 'none';\n",
              "\n",
              "        async function convertToInteractive(key) {\n",
              "          const element = document.querySelector('#df-7fa5bdae-8baa-4df5-a039-34c79f4350a0');\n",
              "          const dataTable =\n",
              "            await google.colab.kernel.invokeFunction('convertToInteractive',\n",
              "                                                     [key], {});\n",
              "          if (!dataTable) return;\n",
              "\n",
              "          const docLinkHtml = 'Like what you see? Visit the ' +\n",
              "            '<a target=\"_blank\" href=https://colab.research.google.com/notebooks/data_table.ipynb>data table notebook</a>'\n",
              "            + ' to learn more about interactive tables.';\n",
              "          element.innerHTML = '';\n",
              "          dataTable['output_type'] = 'display_data';\n",
              "          await google.colab.output.renderOutput(dataTable, element);\n",
              "          const docLink = document.createElement('div');\n",
              "          docLink.innerHTML = docLinkHtml;\n",
              "          element.appendChild(docLink);\n",
              "        }\n",
              "      </script>\n",
              "    </div>\n",
              "  </div>\n",
              "  "
            ]
          },
          "metadata": {}
        }
      ],
      "id": "UjWIh_w_GmTP"
    },
    {
      "cell_type": "markdown",
      "source": [
        "### Min = 50"
      ],
      "metadata": {
        "id": "xbxqCaXd_oF8"
      },
      "id": "xbxqCaXd_oF8"
    },
    {
      "cell_type": "code",
      "source": [
        "createMinAuthFreqDataset(\n",
        "    interaction_df = interaction_id, \n",
        "    doc_w_embeddings = documents_with_embeddings, \n",
        "    dataset = \"min50\", \n",
        "    n = 50,  \n",
        "    print_output = True, \n",
        "    save = True,\n",
        "    sample_index = 0)"
      ],
      "metadata": {
        "colab": {
          "base_uri": "https://localhost:8080/",
          "height": 1000
        },
        "outputId": "fd1b4806-be6d-4059-b3ee-bfb70689dd2b",
        "id": "EYeQ-1zZ_oF8"
      },
      "execution_count": null,
      "outputs": [
        {
          "output_type": "stream",
          "name": "stdout",
          "text": [
            "\n",
            "=================== Filter by Author Frequency ===================\n",
            "Orginal number of interaction (interaction_df) : 2894399\n",
            "new number of interaction (interaction_min_freq_id) : 386813\n"
          ]
        },
        {
          "output_type": "display_data",
          "data": {
            "text/plain": [
              "<Figure size 432x288 with 1 Axes>"
            ],
            "image/png": "[encoded data removed]"
          },
          "metadata": {
            "needs_background": "light"
          }
        },
        {
          "output_type": "stream",
          "name": "stdout",
          "text": [
            "\n",
            "=================== Reduce documents with embeddings ===================\n",
            "Original number of documents with embeddings (doc_w_embeddings) : 581780\n",
            "Number of unqiue document Ids (docIds_unique) : 75872\n",
            "New number of documents with embeddings (doc_w_embeddings_min_freq) : 75872\n",
            "Number of interaction (interaction_min_freq) : 642459\n",
            "\n",
            "=================== Sparse Interaction Matrix ===================\n",
            "Number of authors (authors): 17834\n",
            "Number of documents (documents): 75872\n",
            "Number of interactions (interactionStrength): 642459\n",
            "Number of non zero entries in interaction matrix (interaction_sparse): 632979\n",
            "\n",
            "=================== Convert Interaction Df to IDs ===================\n",
            "Interaction dataframe matches original dataframe (interaction_min_freq == interaction_min_freq_id): False\n",
            "Number of authors (auth2idx): 17834\n",
            "Number of documents (doc2idx): 75872\n",
            "\n",
            "=================== Convert Interaction Df to IDs ===================\n",
            "sample index = 0\n",
            "document id: 0\n",
            "author id: 9169\n",
            "document (from documents): 0706.0156\n",
            "author (from authors): Liane Gabora\n",
            "document index/id (from doc2idx): 0\n",
            "author index/id (from auth2idx): 9169\n",
            "\n",
            " Document from original (doc_from_original from doc_w_embeddings): \n"
          ]
        },
        {
          "output_type": "display_data",
          "data": {
            "text/plain": [
              "           id                                              title  \\\n",
              "10  0706.0156  A Cross-disciplinary Framework for the Descrip...   \n",
              "\n",
              "                                             abstract  \\\n",
              "10    We present a mathematical framework (referre...   \n",
              "\n",
              "                     authors_split  \\\n",
              "10  [Liane Gabora, Diederik Aerts]   \n",
              "\n",
              "                                           embeddings  \n",
              "10  [-0.0257490836083889, 0.05709194391965866, -0....  "
            ],
            "text/html": [
              "\n",
              "  <div id=\"df-9ede12b5-952e-4efa-ac62-acf5dabc3686\">\n",
              "    <div class=\"colab-df-container\">\n",
              "      <div>\n",
              "<style scoped>\n",
              "    .dataframe tbody tr th:only-of-type {\n",
              "        vertical-align: middle;\n",
              "    }\n",
              "\n",
              "    .dataframe tbody tr th {\n",
              "        vertical-align: top;\n",
              "    }\n",
              "\n",
              "    .dataframe thead th {\n",
              "        text-align: right;\n",
              "    }\n",
              "</style>\n",
              "<table border=\"1\" class=\"dataframe\">\n",
              "  <thead>\n",
              "    <tr style=\"text-align: right;\">\n",
              "      <th></th>\n",
              "      <th>id</th>\n",
              "      <th>title</th>\n",
              "      <th>abstract</th>\n",
              "      <th>authors_split</th>\n",
              "      <th>embeddings</th>\n",
              "    </tr>\n",
              "  </thead>\n",
              "  <tbody>\n",
              "    <tr>\n",
              "      <th>10</th>\n",
              "      <td>0706.0156</td>\n",
              "      <td>A Cross-disciplinary Framework for the Descrip...</td>\n",
              "      <td>We present a mathematical framework (referre...</td>\n",
              "      <td>[Liane Gabora, Diederik Aerts]</td>\n",
              "      <td>[-0.0257490836083889, 0.05709194391965866, -0....</td>\n",
              "    </tr>\n",
              "  </tbody>\n",
              "</table>\n",
              "</div>\n",
              "      <button class=\"colab-df-convert\" onclick=\"convertToInteractive('df-9ede12b5-952e-4efa-ac62-acf5dabc3686')\"\n",
              "              title=\"Convert this dataframe to an interactive table.\"\n",
              "              style=\"display:none;\">\n",
              "        \n",
              "  <svg xmlns=\"http://www.w3.org/2000/svg\" height=\"24px\"viewBox=\"0 0 24 24\"\n",
              "       width=\"24px\">\n",
              "    <path d=\"M0 0h24v24H0V0z\" fill=\"none\"/>\n",
              "    <path d=\"M18.56 5.44l.94 2.06.94-2.06 2.06-.94-2.06-.94-.94-2.06-.94 2.06-2.06.94zm-11 1L8.5 8.5l.94-2.06 2.06-.94-2.06-.94L8.5 2.5l-.94 2.06-2.06.94zm10 10l.94 2.06.94-2.06 2.06-.94-2.06-.94-.94-2.06-.94 2.06-2.06.94z\"/><path d=\"M17.41 7.96l-1.37-1.37c-.4-.4-.92-.59-1.43-.59-.52 0-1.04.2-1.43.59L10.3 9.45l-7.72 7.72c-.78.78-.78 2.05 0 2.83L4 21.41c.39.39.9.59 1.41.59.51 0 1.02-.2 1.41-.59l7.78-7.78 2.81-2.81c.8-.78.8-2.07 0-2.86zM5.41 20L4 18.59l7.72-7.72 1.47 1.35L5.41 20z\"/>\n",
              "  </svg>\n",
              "      </button>\n",
              "      \n",
              "  <style>\n",
              "    .colab-df-container {\n",
              "      display:flex;\n",
              "      flex-wrap:wrap;\n",
              "      gap: 12px;\n",
              "    }\n",
              "\n",
              "    .colab-df-convert {\n",
              "      background-color: #E8F0FE;\n",
              "      border: none;\n",
              "      border-radius: 50%;\n",
              "      cursor: pointer;\n",
              "      display: none;\n",
              "      fill: #1967D2;\n",
              "      height: 32px;\n",
              "      padding: 0 0 0 0;\n",
              "      width: 32px;\n",
              "    }\n",
              "\n",
              "    .colab-df-convert:hover {\n",
              "      background-color: #E2EBFA;\n",
              "      box-shadow: 0px 1px 2px rgba(60, 64, 67, 0.3), 0px 1px 3px 1px rgba(60, 64, 67, 0.15);\n",
              "      fill: #174EA6;\n",
              "    }\n",
              "\n",
              "    [theme=dark] .colab-df-convert {\n",
              "      background-color: #3B4455;\n",
              "      fill: #D2E3FC;\n",
              "    }\n",
              "\n",
              "    [theme=dark] .colab-df-convert:hover {\n",
              "      background-color: #434B5C;\n",
              "      box-shadow: 0px 1px 3px 1px rgba(0, 0, 0, 0.15);\n",
              "      filter: drop-shadow(0px 1px 2px rgba(0, 0, 0, 0.3));\n",
              "      fill: #FFFFFF;\n",
              "    }\n",
              "  </style>\n",
              "\n",
              "      <script>\n",
              "        const buttonEl =\n",
              "          document.querySelector('#df-9ede12b5-952e-4efa-ac62-acf5dabc3686 button.colab-df-convert');\n",
              "        buttonEl.style.display =\n",
              "          google.colab.kernel.accessAllowed ? 'block' : 'none';\n",
              "\n",
              "        async function convertToInteractive(key) {\n",
              "          const element = document.querySelector('#df-9ede12b5-952e-4efa-ac62-acf5dabc3686');\n",
              "          const dataTable =\n",
              "            await google.colab.kernel.invokeFunction('convertToInteractive',\n",
              "                                                     [key], {});\n",
              "          if (!dataTable) return;\n",
              "\n",
              "          const docLinkHtml = 'Like what you see? Visit the ' +\n",
              "            '<a target=\"_blank\" href=https://colab.research.google.com/notebooks/data_table.ipynb>data table notebook</a>'\n",
              "            + ' to learn more about interactive tables.';\n",
              "          element.innerHTML = '';\n",
              "          dataTable['output_type'] = 'display_data';\n",
              "          await google.colab.output.renderOutput(dataTable, element);\n",
              "          const docLink = document.createElement('div');\n",
              "          docLink.innerHTML = docLinkHtml;\n",
              "          element.appendChild(docLink);\n",
              "        }\n",
              "      </script>\n",
              "    </div>\n",
              "  </div>\n",
              "  "
            ]
          },
          "metadata": {}
        },
        {
          "output_type": "stream",
          "name": "stdout",
          "text": [
            "\n",
            " Document from min frequency (doc_from_min_freq from doc_w_embeddings_min_freq): \n"
          ]
        },
        {
          "output_type": "display_data",
          "data": {
            "text/plain": [
              "   index         id                                              title  \\\n",
              "0     10  0706.0156  A Cross-disciplinary Framework for the Descrip...   \n",
              "\n",
              "                                            abstract  \\\n",
              "0    We present a mathematical framework (referre...   \n",
              "\n",
              "                    authors_split  \\\n",
              "0  [Liane Gabora, Diederik Aerts]   \n",
              "\n",
              "                                          embeddings  \n",
              "0  [-0.0257490836083889, 0.05709194391965866, -0....  "
            ],
            "text/html": [
              "\n",
              "  <div id=\"df-cad21872-71f2-4463-9c1e-c51c5bec355d\">\n",
              "    <div class=\"colab-df-container\">\n",
              "      <div>\n",
              "<style scoped>\n",
              "    .dataframe tbody tr th:only-of-type {\n",
              "        vertical-align: middle;\n",
              "    }\n",
              "\n",
              "    .dataframe tbody tr th {\n",
              "        vertical-align: top;\n",
              "    }\n",
              "\n",
              "    .dataframe thead th {\n",
              "        text-align: right;\n",
              "    }\n",
              "</style>\n",
              "<table border=\"1\" class=\"dataframe\">\n",
              "  <thead>\n",
              "    <tr style=\"text-align: right;\">\n",
              "      <th></th>\n",
              "      <th>index</th>\n",
              "      <th>id</th>\n",
              "      <th>title</th>\n",
              "      <th>abstract</th>\n",
              "      <th>authors_split</th>\n",
              "      <th>embeddings</th>\n",
              "    </tr>\n",
              "  </thead>\n",
              "  <tbody>\n",
              "    <tr>\n",
              "      <th>0</th>\n",
              "      <td>10</td>\n",
              "      <td>0706.0156</td>\n",
              "      <td>A Cross-disciplinary Framework for the Descrip...</td>\n",
              "      <td>We present a mathematical framework (referre...</td>\n",
              "      <td>[Liane Gabora, Diederik Aerts]</td>\n",
              "      <td>[-0.0257490836083889, 0.05709194391965866, -0....</td>\n",
              "    </tr>\n",
              "  </tbody>\n",
              "</table>\n",
              "</div>\n",
              "      <button class=\"colab-df-convert\" onclick=\"convertToInteractive('df-cad21872-71f2-4463-9c1e-c51c5bec355d')\"\n",
              "              title=\"Convert this dataframe to an interactive table.\"\n",
              "              style=\"display:none;\">\n",
              "        \n",
              "  <svg xmlns=\"http://www.w3.org/2000/svg\" height=\"24px\"viewBox=\"0 0 24 24\"\n",
              "       width=\"24px\">\n",
              "    <path d=\"M0 0h24v24H0V0z\" fill=\"none\"/>\n",
              "    <path d=\"M18.56 5.44l.94 2.06.94-2.06 2.06-.94-2.06-.94-.94-2.06-.94 2.06-2.06.94zm-11 1L8.5 8.5l.94-2.06 2.06-.94-2.06-.94L8.5 2.5l-.94 2.06-2.06.94zm10 10l.94 2.06.94-2.06 2.06-.94-2.06-.94-.94-2.06-.94 2.06-2.06.94z\"/><path d=\"M17.41 7.96l-1.37-1.37c-.4-.4-.92-.59-1.43-.59-.52 0-1.04.2-1.43.59L10.3 9.45l-7.72 7.72c-.78.78-.78 2.05 0 2.83L4 21.41c.39.39.9.59 1.41.59.51 0 1.02-.2 1.41-.59l7.78-7.78 2.81-2.81c.8-.78.8-2.07 0-2.86zM5.41 20L4 18.59l7.72-7.72 1.47 1.35L5.41 20z\"/>\n",
              "  </svg>\n",
              "      </button>\n",
              "      \n",
              "  <style>\n",
              "    .colab-df-container {\n",
              "      display:flex;\n",
              "      flex-wrap:wrap;\n",
              "      gap: 12px;\n",
              "    }\n",
              "\n",
              "    .colab-df-convert {\n",
              "      background-color: #E8F0FE;\n",
              "      border: none;\n",
              "      border-radius: 50%;\n",
              "      cursor: pointer;\n",
              "      display: none;\n",
              "      fill: #1967D2;\n",
              "      height: 32px;\n",
              "      padding: 0 0 0 0;\n",
              "      width: 32px;\n",
              "    }\n",
              "\n",
              "    .colab-df-convert:hover {\n",
              "      background-color: #E2EBFA;\n",
              "      box-shadow: 0px 1px 2px rgba(60, 64, 67, 0.3), 0px 1px 3px 1px rgba(60, 64, 67, 0.15);\n",
              "      fill: #174EA6;\n",
              "    }\n",
              "\n",
              "    [theme=dark] .colab-df-convert {\n",
              "      background-color: #3B4455;\n",
              "      fill: #D2E3FC;\n",
              "    }\n",
              "\n",
              "    [theme=dark] .colab-df-convert:hover {\n",
              "      background-color: #434B5C;\n",
              "      box-shadow: 0px 1px 3px 1px rgba(0, 0, 0, 0.15);\n",
              "      filter: drop-shadow(0px 1px 2px rgba(0, 0, 0, 0.3));\n",
              "      fill: #FFFFFF;\n",
              "    }\n",
              "  </style>\n",
              "\n",
              "      <script>\n",
              "        const buttonEl =\n",
              "          document.querySelector('#df-cad21872-71f2-4463-9c1e-c51c5bec355d button.colab-df-convert');\n",
              "        buttonEl.style.display =\n",
              "          google.colab.kernel.accessAllowed ? 'block' : 'none';\n",
              "\n",
              "        async function convertToInteractive(key) {\n",
              "          const element = document.querySelector('#df-cad21872-71f2-4463-9c1e-c51c5bec355d');\n",
              "          const dataTable =\n",
              "            await google.colab.kernel.invokeFunction('convertToInteractive',\n",
              "                                                     [key], {});\n",
              "          if (!dataTable) return;\n",
              "\n",
              "          const docLinkHtml = 'Like what you see? Visit the ' +\n",
              "            '<a target=\"_blank\" href=https://colab.research.google.com/notebooks/data_table.ipynb>data table notebook</a>'\n",
              "            + ' to learn more about interactive tables.';\n",
              "          element.innerHTML = '';\n",
              "          dataTable['output_type'] = 'display_data';\n",
              "          await google.colab.output.renderOutput(dataTable, element);\n",
              "          const docLink = document.createElement('div');\n",
              "          docLink.innerHTML = docLinkHtml;\n",
              "          element.appendChild(docLink);\n",
              "        }\n",
              "      </script>\n",
              "    </div>\n",
              "  </div>\n",
              "  "
            ]
          },
          "metadata": {}
        }
      ],
      "id": "EYeQ-1zZ_oF8"
    },
    {
      "cell_type": "markdown",
      "source": [
        "### Min = 100"
      ],
      "metadata": {
        "id": "ybCPFKOv_2it"
      },
      "id": "ybCPFKOv_2it"
    },
    {
      "cell_type": "code",
      "source": [
        "createMinAuthFreqDataset(\n",
        "    interaction_df = interaction_id, \n",
        "    doc_w_embeddings = documents_with_embeddings, \n",
        "    dataset = \"min100\", \n",
        "    n = 100,  \n",
        "    print_output = True, \n",
        "    save = True,\n",
        "    sample_index = 0)"
      ],
      "metadata": {
        "colab": {
          "base_uri": "https://localhost:8080/",
          "height": 1000
        },
        "outputId": "fea8b9c6-7b6b-4e26-a2ed-da2a04d67617",
        "id": "oPtv8hxF_2iu"
      },
      "execution_count": null,
      "outputs": [
        {
          "output_type": "stream",
          "name": "stdout",
          "text": [
            "\n",
            "=================== Filter by Author Frequency ===================\n",
            "Orginal number of interaction (interaction_df) : 2894399\n",
            "new number of interaction (interaction_min_freq_id) : 207645\n"
          ]
        },
        {
          "output_type": "display_data",
          "data": {
            "text/plain": [
              "<Figure size 432x288 with 1 Axes>"
            ],
            "image/png": "[encoded data removed]"
          },
          "metadata": {
            "needs_background": "light"
          }
        },
        {
          "output_type": "stream",
          "name": "stdout",
          "text": [
            "\n",
            "=================== Reduce documents with embeddings ===================\n",
            "Original number of documents with embeddings (doc_w_embeddings) : 581780\n",
            "Number of unqiue document Ids (docIds_unique) : 36057\n",
            "New number of documents with embeddings (doc_w_embeddings_min_freq) : 36057\n",
            "Number of interaction (interaction_min_freq) : 521053\n",
            "\n",
            "=================== Sparse Interaction Matrix ===================\n",
            "Number of authors (authors): 13125\n",
            "Number of documents (documents): 36057\n",
            "Number of interactions (interactionStrength): 521053\n",
            "Number of non zero entries in interaction matrix (interaction_sparse): 511852\n",
            "\n",
            "=================== Convert Interaction Df to IDs ===================\n",
            "Interaction dataframe matches original dataframe (interaction_min_freq == interaction_min_freq_id): False\n",
            "Number of authors (auth2idx): 13125\n",
            "Number of documents (doc2idx): 36057\n",
            "\n",
            "=================== Convert Interaction Df to IDs ===================\n",
            "sample index = 0\n",
            "document id: 0\n",
            "author id: 11354\n",
            "document (from documents): 0706.3282\n",
            "author (from authors): Tao Zhang\n",
            "document index/id (from doc2idx): 0\n",
            "author index/id (from auth2idx): 11354\n",
            "\n",
            " Document from original (doc_from_original from doc_w_embeddings): \n"
          ]
        },
        {
          "output_type": "display_data",
          "data": {
            "text/plain": [
              "           id                                              title  \\\n",
              "14  0706.3282  Unified products for braided Lie bialgebras. A...   \n",
              "\n",
              "                                             abstract authors_split  \\\n",
              "14    We construct unified products for braided Li...   [Tao Zhang]   \n",
              "\n",
              "                                           embeddings  \n",
              "14  [-0.06705997884273529, 0.02068275585770607, -0...  "
            ],
            "text/html": [
              "\n",
              "  <div id=\"df-c47e70de-fa1f-4311-8bf9-a9a2fc8989a6\">\n",
              "    <div class=\"colab-df-container\">\n",
              "      <div>\n",
              "<style scoped>\n",
              "    .dataframe tbody tr th:only-of-type {\n",
              "        vertical-align: middle;\n",
              "    }\n",
              "\n",
              "    .dataframe tbody tr th {\n",
              "        vertical-align: top;\n",
              "    }\n",
              "\n",
              "    .dataframe thead th {\n",
              "        text-align: right;\n",
              "    }\n",
              "</style>\n",
              "<table border=\"1\" class=\"dataframe\">\n",
              "  <thead>\n",
              "    <tr style=\"text-align: right;\">\n",
              "      <th></th>\n",
              "      <th>id</th>\n",
              "      <th>title</th>\n",
              "      <th>abstract</th>\n",
              "      <th>authors_split</th>\n",
              "      <th>embeddings</th>\n",
              "    </tr>\n",
              "  </thead>\n",
              "  <tbody>\n",
              "    <tr>\n",
              "      <th>14</th>\n",
              "      <td>0706.3282</td>\n",
              "      <td>Unified products for braided Lie bialgebras. A...</td>\n",
              "      <td>We construct unified products for braided Li...</td>\n",
              "      <td>[Tao Zhang]</td>\n",
              "      <td>[-0.06705997884273529, 0.02068275585770607, -0...</td>\n",
              "    </tr>\n",
              "  </tbody>\n",
              "</table>\n",
              "</div>\n",
              "      <button class=\"colab-df-convert\" onclick=\"convertToInteractive('df-c47e70de-fa1f-4311-8bf9-a9a2fc8989a6')\"\n",
              "              title=\"Convert this dataframe to an interactive table.\"\n",
              "              style=\"display:none;\">\n",
              "        \n",
              "  <svg xmlns=\"http://www.w3.org/2000/svg\" height=\"24px\"viewBox=\"0 0 24 24\"\n",
              "       width=\"24px\">\n",
              "    <path d=\"M0 0h24v24H0V0z\" fill=\"none\"/>\n",
              "    <path d=\"M18.56 5.44l.94 2.06.94-2.06 2.06-.94-2.06-.94-.94-2.06-.94 2.06-2.06.94zm-11 1L8.5 8.5l.94-2.06 2.06-.94-2.06-.94L8.5 2.5l-.94 2.06-2.06.94zm10 10l.94 2.06.94-2.06 2.06-.94-2.06-.94-.94-2.06-.94 2.06-2.06.94z\"/><path d=\"M17.41 7.96l-1.37-1.37c-.4-.4-.92-.59-1.43-.59-.52 0-1.04.2-1.43.59L10.3 9.45l-7.72 7.72c-.78.78-.78 2.05 0 2.83L4 21.41c.39.39.9.59 1.41.59.51 0 1.02-.2 1.41-.59l7.78-7.78 2.81-2.81c.8-.78.8-2.07 0-2.86zM5.41 20L4 18.59l7.72-7.72 1.47 1.35L5.41 20z\"/>\n",
              "  </svg>\n",
              "      </button>\n",
              "      \n",
              "  <style>\n",
              "    .colab-df-container {\n",
              "      display:flex;\n",
              "      flex-wrap:wrap;\n",
              "      gap: 12px;\n",
              "    }\n",
              "\n",
              "    .colab-df-convert {\n",
              "      background-color: #E8F0FE;\n",
              "      border: none;\n",
              "      border-radius: 50%;\n",
              "      cursor: pointer;\n",
              "      display: none;\n",
              "      fill: #1967D2;\n",
              "      height: 32px;\n",
              "      padding: 0 0 0 0;\n",
              "      width: 32px;\n",
              "    }\n",
              "\n",
              "    .colab-df-convert:hover {\n",
              "      background-color: #E2EBFA;\n",
              "      box-shadow: 0px 1px 2px rgba(60, 64, 67, 0.3), 0px 1px 3px 1px rgba(60, 64, 67, 0.15);\n",
              "      fill: #174EA6;\n",
              "    }\n",
              "\n",
              "    [theme=dark] .colab-df-convert {\n",
              "      background-color: #3B4455;\n",
              "      fill: #D2E3FC;\n",
              "    }\n",
              "\n",
              "    [theme=dark] .colab-df-convert:hover {\n",
              "      background-color: #434B5C;\n",
              "      box-shadow: 0px 1px 3px 1px rgba(0, 0, 0, 0.15);\n",
              "      filter: drop-shadow(0px 1px 2px rgba(0, 0, 0, 0.3));\n",
              "      fill: #FFFFFF;\n",
              "    }\n",
              "  </style>\n",
              "\n",
              "      <script>\n",
              "        const buttonEl =\n",
              "          document.querySelector('#df-c47e70de-fa1f-4311-8bf9-a9a2fc8989a6 button.colab-df-convert');\n",
              "        buttonEl.style.display =\n",
              "          google.colab.kernel.accessAllowed ? 'block' : 'none';\n",
              "\n",
              "        async function convertToInteractive(key) {\n",
              "          const element = document.querySelector('#df-c47e70de-fa1f-4311-8bf9-a9a2fc8989a6');\n",
              "          const dataTable =\n",
              "            await google.colab.kernel.invokeFunction('convertToInteractive',\n",
              "                                                     [key], {});\n",
              "          if (!dataTable) return;\n",
              "\n",
              "          const docLinkHtml = 'Like what you see? Visit the ' +\n",
              "            '<a target=\"_blank\" href=https://colab.research.google.com/notebooks/data_table.ipynb>data table notebook</a>'\n",
              "            + ' to learn more about interactive tables.';\n",
              "          element.innerHTML = '';\n",
              "          dataTable['output_type'] = 'display_data';\n",
              "          await google.colab.output.renderOutput(dataTable, element);\n",
              "          const docLink = document.createElement('div');\n",
              "          docLink.innerHTML = docLinkHtml;\n",
              "          element.appendChild(docLink);\n",
              "        }\n",
              "      </script>\n",
              "    </div>\n",
              "  </div>\n",
              "  "
            ]
          },
          "metadata": {}
        },
        {
          "output_type": "stream",
          "name": "stdout",
          "text": [
            "\n",
            " Document from min frequency (doc_from_min_freq from doc_w_embeddings_min_freq): \n"
          ]
        },
        {
          "output_type": "display_data",
          "data": {
            "text/plain": [
              "   index         id                                              title  \\\n",
              "0     14  0706.3282  Unified products for braided Lie bialgebras. A...   \n",
              "\n",
              "                                            abstract authors_split  \\\n",
              "0    We construct unified products for braided Li...   [Tao Zhang]   \n",
              "\n",
              "                                          embeddings  \n",
              "0  [-0.06705997884273529, 0.02068275585770607, -0...  "
            ],
            "text/html": [
              "\n",
              "  <div id=\"df-1ca8c3b4-b803-4eac-ad9a-6899ece3bf03\">\n",
              "    <div class=\"colab-df-container\">\n",
              "      <div>\n",
              "<style scoped>\n",
              "    .dataframe tbody tr th:only-of-type {\n",
              "        vertical-align: middle;\n",
              "    }\n",
              "\n",
              "    .dataframe tbody tr th {\n",
              "        vertical-align: top;\n",
              "    }\n",
              "\n",
              "    .dataframe thead th {\n",
              "        text-align: right;\n",
              "    }\n",
              "</style>\n",
              "<table border=\"1\" class=\"dataframe\">\n",
              "  <thead>\n",
              "    <tr style=\"text-align: right;\">\n",
              "      <th></th>\n",
              "      <th>index</th>\n",
              "      <th>id</th>\n",
              "      <th>title</th>\n",
              "      <th>abstract</th>\n",
              "      <th>authors_split</th>\n",
              "      <th>embeddings</th>\n",
              "    </tr>\n",
              "  </thead>\n",
              "  <tbody>\n",
              "    <tr>\n",
              "      <th>0</th>\n",
              "      <td>14</td>\n",
              "      <td>0706.3282</td>\n",
              "      <td>Unified products for braided Lie bialgebras. A...</td>\n",
              "      <td>We construct unified products for braided Li...</td>\n",
              "      <td>[Tao Zhang]</td>\n",
              "      <td>[-0.06705997884273529, 0.02068275585770607, -0...</td>\n",
              "    </tr>\n",
              "  </tbody>\n",
              "</table>\n",
              "</div>\n",
              "      <button class=\"colab-df-convert\" onclick=\"convertToInteractive('df-1ca8c3b4-b803-4eac-ad9a-6899ece3bf03')\"\n",
              "              title=\"Convert this dataframe to an interactive table.\"\n",
              "              style=\"display:none;\">\n",
              "        \n",
              "  <svg xmlns=\"http://www.w3.org/2000/svg\" height=\"24px\"viewBox=\"0 0 24 24\"\n",
              "       width=\"24px\">\n",
              "    <path d=\"M0 0h24v24H0V0z\" fill=\"none\"/>\n",
              "    <path d=\"M18.56 5.44l.94 2.06.94-2.06 2.06-.94-2.06-.94-.94-2.06-.94 2.06-2.06.94zm-11 1L8.5 8.5l.94-2.06 2.06-.94-2.06-.94L8.5 2.5l-.94 2.06-2.06.94zm10 10l.94 2.06.94-2.06 2.06-.94-2.06-.94-.94-2.06-.94 2.06-2.06.94z\"/><path d=\"M17.41 7.96l-1.37-1.37c-.4-.4-.92-.59-1.43-.59-.52 0-1.04.2-1.43.59L10.3 9.45l-7.72 7.72c-.78.78-.78 2.05 0 2.83L4 21.41c.39.39.9.59 1.41.59.51 0 1.02-.2 1.41-.59l7.78-7.78 2.81-2.81c.8-.78.8-2.07 0-2.86zM5.41 20L4 18.59l7.72-7.72 1.47 1.35L5.41 20z\"/>\n",
              "  </svg>\n",
              "      </button>\n",
              "      \n",
              "  <style>\n",
              "    .colab-df-container {\n",
              "      display:flex;\n",
              "      flex-wrap:wrap;\n",
              "      gap: 12px;\n",
              "    }\n",
              "\n",
              "    .colab-df-convert {\n",
              "      background-color: #E8F0FE;\n",
              "      border: none;\n",
              "      border-radius: 50%;\n",
              "      cursor: pointer;\n",
              "      display: none;\n",
              "      fill: #1967D2;\n",
              "      height: 32px;\n",
              "      padding: 0 0 0 0;\n",
              "      width: 32px;\n",
              "    }\n",
              "\n",
              "    .colab-df-convert:hover {\n",
              "      background-color: #E2EBFA;\n",
              "      box-shadow: 0px 1px 2px rgba(60, 64, 67, 0.3), 0px 1px 3px 1px rgba(60, 64, 67, 0.15);\n",
              "      fill: #174EA6;\n",
              "    }\n",
              "\n",
              "    [theme=dark] .colab-df-convert {\n",
              "      background-color: #3B4455;\n",
              "      fill: #D2E3FC;\n",
              "    }\n",
              "\n",
              "    [theme=dark] .colab-df-convert:hover {\n",
              "      background-color: #434B5C;\n",
              "      box-shadow: 0px 1px 3px 1px rgba(0, 0, 0, 0.15);\n",
              "      filter: drop-shadow(0px 1px 2px rgba(0, 0, 0, 0.3));\n",
              "      fill: #FFFFFF;\n",
              "    }\n",
              "  </style>\n",
              "\n",
              "      <script>\n",
              "        const buttonEl =\n",
              "          document.querySelector('#df-1ca8c3b4-b803-4eac-ad9a-6899ece3bf03 button.colab-df-convert');\n",
              "        buttonEl.style.display =\n",
              "          google.colab.kernel.accessAllowed ? 'block' : 'none';\n",
              "\n",
              "        async function convertToInteractive(key) {\n",
              "          const element = document.querySelector('#df-1ca8c3b4-b803-4eac-ad9a-6899ece3bf03');\n",
              "          const dataTable =\n",
              "            await google.colab.kernel.invokeFunction('convertToInteractive',\n",
              "                                                     [key], {});\n",
              "          if (!dataTable) return;\n",
              "\n",
              "          const docLinkHtml = 'Like what you see? Visit the ' +\n",
              "            '<a target=\"_blank\" href=https://colab.research.google.com/notebooks/data_table.ipynb>data table notebook</a>'\n",
              "            + ' to learn more about interactive tables.';\n",
              "          element.innerHTML = '';\n",
              "          dataTable['output_type'] = 'display_data';\n",
              "          await google.colab.output.renderOutput(dataTable, element);\n",
              "          const docLink = document.createElement('div');\n",
              "          docLink.innerHTML = docLinkHtml;\n",
              "          element.appendChild(docLink);\n",
              "        }\n",
              "      </script>\n",
              "    </div>\n",
              "  </div>\n",
              "  "
            ]
          },
          "metadata": {}
        }
      ],
      "id": "oPtv8hxF_2iu"
    },
    {
      "cell_type": "markdown",
      "source": [
        "## Cocitation *Study*"
      ],
      "metadata": {
        "id": "BZbAjNFt6gFL"
      },
      "id": "BZbAjNFt6gFL"
    },
    {
      "cell_type": "code",
      "source": [
        "documents_with_embeddings = pd.read_pickle(\"./drive/MyDrive/Colab Notebooks/CE/data/documents_with_embeddings.pickle\")"
      ],
      "metadata": {
        "id": "044ghAWW7ac3"
      },
      "id": "044ghAWW7ac3",
      "execution_count": null,
      "outputs": []
    },
    {
      "cell_type": "code",
      "source": [
        "documents_with_embeddings.head(1)"
      ],
      "metadata": {
        "colab": {
          "base_uri": "https://localhost:8080/",
          "height": 77
        },
        "id": "Pa2lbiIO7e6w",
        "outputId": "645fca26-08fc-429d-daed-8987a1006b7d"
      },
      "id": "Pa2lbiIO7e6w",
      "execution_count": null,
      "outputs": [
        {
          "output_type": "execute_result",
          "data": {
            "text/plain": [
              "          id                                 title  \\\n",
              "0  0704.0479  The affine part of the Picard scheme   \n",
              "\n",
              "                                            abstract authors_split  \\\n",
              "0    We describe the maximal torus and maximal un...   [T.Geisser]   \n",
              "\n",
              "                                          embeddings  \n",
              "0  [-0.0015220479108393192, -0.021295614540576935...  "
            ],
            "text/html": [
              "\n",
              "  <div id=\"df-7f051d6f-b11c-4535-bf4f-478bc8c84fbe\">\n",
              "    <div class=\"colab-df-container\">\n",
              "      <div>\n",
              "<style scoped>\n",
              "    .dataframe tbody tr th:only-of-type {\n",
              "        vertical-align: middle;\n",
              "    }\n",
              "\n",
              "    .dataframe tbody tr th {\n",
              "        vertical-align: top;\n",
              "    }\n",
              "\n",
              "    .dataframe thead th {\n",
              "        text-align: right;\n",
              "    }\n",
              "</style>\n",
              "<table border=\"1\" class=\"dataframe\">\n",
              "  <thead>\n",
              "    <tr style=\"text-align: right;\">\n",
              "      <th></th>\n",
              "      <th>id</th>\n",
              "      <th>title</th>\n",
              "      <th>abstract</th>\n",
              "      <th>authors_split</th>\n",
              "      <th>embeddings</th>\n",
              "    </tr>\n",
              "  </thead>\n",
              "  <tbody>\n",
              "    <tr>\n",
              "      <th>0</th>\n",
              "      <td>0704.0479</td>\n",
              "      <td>The affine part of the Picard scheme</td>\n",
              "      <td>We describe the maximal torus and maximal un...</td>\n",
              "      <td>[T.Geisser]</td>\n",
              "      <td>[-0.0015220479108393192, -0.021295614540576935...</td>\n",
              "    </tr>\n",
              "  </tbody>\n",
              "</table>\n",
              "</div>\n",
              "      <button class=\"colab-df-convert\" onclick=\"convertToInteractive('df-7f051d6f-b11c-4535-bf4f-478bc8c84fbe')\"\n",
              "              title=\"Convert this dataframe to an interactive table.\"\n",
              "              style=\"display:none;\">\n",
              "        \n",
              "  <svg xmlns=\"http://www.w3.org/2000/svg\" height=\"24px\"viewBox=\"0 0 24 24\"\n",
              "       width=\"24px\">\n",
              "    <path d=\"M0 0h24v24H0V0z\" fill=\"none\"/>\n",
              "    <path d=\"M18.56 5.44l.94 2.06.94-2.06 2.06-.94-2.06-.94-.94-2.06-.94 2.06-2.06.94zm-11 1L8.5 8.5l.94-2.06 2.06-.94-2.06-.94L8.5 2.5l-.94 2.06-2.06.94zm10 10l.94 2.06.94-2.06 2.06-.94-2.06-.94-.94-2.06-.94 2.06-2.06.94z\"/><path d=\"M17.41 7.96l-1.37-1.37c-.4-.4-.92-.59-1.43-.59-.52 0-1.04.2-1.43.59L10.3 9.45l-7.72 7.72c-.78.78-.78 2.05 0 2.83L4 21.41c.39.39.9.59 1.41.59.51 0 1.02-.2 1.41-.59l7.78-7.78 2.81-2.81c.8-.78.8-2.07 0-2.86zM5.41 20L4 18.59l7.72-7.72 1.47 1.35L5.41 20z\"/>\n",
              "  </svg>\n",
              "      </button>\n",
              "      \n",
              "  <style>\n",
              "    .colab-df-container {\n",
              "      display:flex;\n",
              "      flex-wrap:wrap;\n",
              "      gap: 12px;\n",
              "    }\n",
              "\n",
              "    .colab-df-convert {\n",
              "      background-color: #E8F0FE;\n",
              "      border: none;\n",
              "      border-radius: 50%;\n",
              "      cursor: pointer;\n",
              "      display: none;\n",
              "      fill: #1967D2;\n",
              "      height: 32px;\n",
              "      padding: 0 0 0 0;\n",
              "      width: 32px;\n",
              "    }\n",
              "\n",
              "    .colab-df-convert:hover {\n",
              "      background-color: #E2EBFA;\n",
              "      box-shadow: 0px 1px 2px rgba(60, 64, 67, 0.3), 0px 1px 3px 1px rgba(60, 64, 67, 0.15);\n",
              "      fill: #174EA6;\n",
              "    }\n",
              "\n",
              "    [theme=dark] .colab-df-convert {\n",
              "      background-color: #3B4455;\n",
              "      fill: #D2E3FC;\n",
              "    }\n",
              "\n",
              "    [theme=dark] .colab-df-convert:hover {\n",
              "      background-color: #434B5C;\n",
              "      box-shadow: 0px 1px 3px 1px rgba(0, 0, 0, 0.15);\n",
              "      filter: drop-shadow(0px 1px 2px rgba(0, 0, 0, 0.3));\n",
              "      fill: #FFFFFF;\n",
              "    }\n",
              "  </style>\n",
              "\n",
              "      <script>\n",
              "        const buttonEl =\n",
              "          document.querySelector('#df-7f051d6f-b11c-4535-bf4f-478bc8c84fbe button.colab-df-convert');\n",
              "        buttonEl.style.display =\n",
              "          google.colab.kernel.accessAllowed ? 'block' : 'none';\n",
              "\n",
              "        async function convertToInteractive(key) {\n",
              "          const element = document.querySelector('#df-7f051d6f-b11c-4535-bf4f-478bc8c84fbe');\n",
              "          const dataTable =\n",
              "            await google.colab.kernel.invokeFunction('convertToInteractive',\n",
              "                                                     [key], {});\n",
              "          if (!dataTable) return;\n",
              "\n",
              "          const docLinkHtml = 'Like what you see? Visit the ' +\n",
              "            '<a target=\"_blank\" href=https://colab.research.google.com/notebooks/data_table.ipynb>data table notebook</a>'\n",
              "            + ' to learn more about interactive tables.';\n",
              "          element.innerHTML = '';\n",
              "          dataTable['output_type'] = 'display_data';\n",
              "          await google.colab.output.renderOutput(dataTable, element);\n",
              "          const docLink = document.createElement('div');\n",
              "          docLink.innerHTML = docLinkHtml;\n",
              "          element.appendChild(docLink);\n",
              "        }\n",
              "      </script>\n",
              "    </div>\n",
              "  </div>\n",
              "  "
            ]
          },
          "metadata": {},
          "execution_count": 9
        }
      ]
    },
    {
      "cell_type": "markdown",
      "source": [
        "Find papers that cite the searched paper"
      ],
      "metadata": {
        "id": "gnrKJqquE1gK"
      },
      "id": "gnrKJqquE1gK"
    },
    {
      "cell_type": "code",
      "source": [
        "citations = requests.get(\"https://w3id.org/oc/index/api/v1/citations/10.1103/PhysRevD.76.013009\")\n",
        "print(json.dumps(citations.json(), indent=4))"
      ],
      "metadata": {
        "id": "8qO37K5G6h4Q"
      },
      "id": "8qO37K5G6h4Q",
      "execution_count": null,
      "outputs": []
    },
    {
      "cell_type": "markdown",
      "source": [
        "Find papers referenced in the searched paper."
      ],
      "metadata": {
        "id": "Gw5F7HxsFdF5"
      },
      "id": "Gw5F7HxsFdF5"
    },
    {
      "cell_type": "code",
      "source": [
        "references = requests.get(\"https://w3id.org/oc/index/api/v1/references/10.1103/PhysRevD.76.013009\")\n",
        "print(json.dumps(references.json(), indent=4))"
      ],
      "metadata": {
        "id": "yM4hoKe5FEEW"
      },
      "id": "yM4hoKe5FEEW",
      "execution_count": null,
      "outputs": []
    },
    {
      "cell_type": "code",
      "source": [
        "def listDois(endpoint, doi_array):\n",
        "  retArr=[0] * len(doi_array);\n",
        "  for idx, doi in enumerate(doi_array):\n",
        "    retArr[idx] = requests.get(\"https://w3id.org/oc/index/api/v1/\" + endpoint + \"/\" + doi).json()\n",
        "  return retArr"
      ],
      "metadata": {
        "id": "PI6vfbARICzC"
      },
      "id": "PI6vfbARICzC",
      "execution_count": null,
      "outputs": []
    },
    {
      "cell_type": "code",
      "source": [
        "def listRecommendedCitations(doi_array):\n",
        "  citObjects = listDois(\"citations\", doi_array)\n",
        "  return [set([cit[\"citing\"][8:] for cit in paper]) for paper in citObjects]\n",
        "\n",
        "def listCitationReferences(doi_array):\n",
        "  refObjects = listDois(\"references\", doi_array)\n",
        "  return [set([ref[\"cited\"][8:] for ref in paper]) for paper in refObjects]"
      ],
      "metadata": {
        "id": "v5-xl7hsJJ_1"
      },
      "id": "v5-xl7hsJJ_1",
      "execution_count": null,
      "outputs": []
    },
    {
      "cell_type": "code",
      "source": [
        "def calculateCoCitations(doi, recommended_dois, printOutput=False):\n",
        "  citations = requests.get(\"https://w3id.org/oc/index/api/v1/citations/\" + doi).json()\n",
        "  references = requests.get(\"https://w3id.org/oc/index/api/v1/references/\" + doi).json()\n",
        "\n",
        "  if (printOutput):\n",
        "    print(json.dumps(citations.json(), indent=4))\n",
        "  \n",
        "  citation_dois = [citation[\"citing\"][8:] for citation in citations]\n",
        "  reference_dois = [reference[\"cited\"][8:] for reference in references]\n",
        "\n",
        "  coCitationCount = 0\n",
        "  citedCount = 0\n",
        "  refCount = 0\n",
        "  recommended_dois_set = set(recommended_dois)\n",
        "  for doi in citation_dois:\n",
        "    if doi in recommended_dois_set:\n",
        "      citedCount+=1\n",
        "  \n",
        "  for doi in reference_dois:\n",
        "    if doi in recommended_dois_set:\n",
        "      refCount+=1\n",
        "\n",
        "  if len(citation_dois) < len(recommended_dois):\n",
        "    # get a list of dois that have cited the recomended papers\n",
        "    recommended_citation_dois = listRecommendedCitations(recommended_dois)\n",
        "    for doi in citation_dois:\n",
        "      for rec_doi_set in recommended_citation_dois:\n",
        "        # check if any of the papers that cited our input doi (citation_dois) also cited the any of the recommended dois (recommended_citation_dois)\n",
        "        if doi in rec_doi_set:\n",
        "          coCitationCount+=1\n",
        "\n",
        "  else:\n",
        "    # get a list of references for each paper that has cited our input doi\n",
        "    citation_references = listCitationReferences(citation_dois)\n",
        "    for doi in recommended_dois:\n",
        "      for citation_reference_set in citation_references:\n",
        "        # check if our recommended dois (recommended_dois) are also used as references in the list of dois that have cited our input (citation_references)\n",
        "        if doi in citation_reference_set:\n",
        "          coCitationCount+=1 \n",
        "\n",
        "\n",
        "  return { \"coCitationCount\": coCitationCount, \"citedCount\": citedCount, \"refCount\": refCount}\n",
        "          "
      ],
      "metadata": {
        "id": "YzTmALYfFmRF"
      },
      "id": "YzTmALYfFmRF",
      "execution_count": null,
      "outputs": []
    },
    {
      "cell_type": "code",
      "source": [
        "cited = \"10.1103/physrevd.76.013009\"\n",
        "citing = [\"10.1140/epjc/s10052-021-09687-4\",\"10.1007/jhep04(2021)041\", \"10.1103/physrevlett.95.022003\", \"10.1103/physrevlett.85.4678\"] \n",
        "\n",
        "print(calculateCoCitations(cited, citing))"
      ],
      "metadata": {
        "colab": {
          "base_uri": "https://localhost:8080/"
        },
        "id": "o4j6MIqMRk5Y",
        "outputId": "f9faff4b-5db4-43a9-8c99-f387bb4056e2"
      },
      "id": "o4j6MIqMRk5Y",
      "execution_count": null,
      "outputs": [
        {
          "output_type": "stream",
          "name": "stdout",
          "text": [
            "{'coCitationCount': 14, 'citedCount': 2, 'refCount': 2}\n"
          ]
        }
      ]
    },
    {
      "cell_type": "markdown",
      "metadata": {
        "id": "SwoX1G64eEIZ"
      },
      "source": [
        "## Sources\n",
        "\n",
        "\n",
        "*   https://www.smithsonianmag.com/smart-news/half-academic-studies-are-never-read-more-three-people-180950222/\n",
        "*   https://www.kaggle.com/onyonixch/scientific-paper-clustering\n",
        "*   https://towardsdatascience.com/recommender-systems-item-customer-collaborative-filtering-ff0c8f41ae8a\n",
        "*   https://github.com/maziarraissi/Applied-Deep-Learning/blob/main/08%20-%20Recommender%20Systems.pdf\n",
        "*   https://towardsdatascience.com/how-spotify-recommends-your-new-favorite-artist-8c1850512af0\n",
        "*   https://nbviewer.org/github/cbowdon/doc2vec-pytorch/blob/master/doc2vec.ipynb\n",
        "\n",
        "\n",
        "\n"
      ],
      "id": "SwoX1G64eEIZ"
    }
  ],
  "metadata": {
    "colab": {
      "collapsed_sections": [
        "ZawQK8uT117M",
        "YyA_ibnrrzYc",
        "-xl-AIet2aDv",
        "kiMh_448247V",
        "E64MB383sqJt",
        "nsmMHZZg-UcH",
        "twmWPryS-YB3",
        "M9WKIkX3-gtf",
        "Buc5E6wf-n7a",
        "hCe4AUq6_yuh",
        "BhSGhgOahD6M",
        "s7QkAvPN2zfl",
        "nU_hdoNM8AMG",
        "xbxqCaXd_oF8",
        "ybCPFKOv_2it"
      ],
      "name": "Data Exploration.ipynb",
      "provenance": [],
      "machine_shape": "hm",
      "toc_visible": true
    },
    "kernelspec": {
      "display_name": "Python 3 (ipykernel)",
      "language": "python",
      "name": "python3"
    },
    "language_info": {
      "codemirror_mode": {
        "name": "ipython",
        "version": 3
      },
      "file_extension": ".py",
      "mimetype": "text/x-python",
      "name": "python",
      "nbconvert_exporter": "python",
      "pygments_lexer": "ipython3",
      "version": "3.7.11"
    }
  },
  "nbformat": 4,
  "nbformat_minor": 5
}